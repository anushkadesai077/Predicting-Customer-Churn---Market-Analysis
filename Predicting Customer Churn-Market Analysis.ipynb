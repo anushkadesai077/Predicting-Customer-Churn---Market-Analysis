{
 "cells": [
  {
   "cell_type": "markdown",
   "metadata": {},
   "source": [
    "# Predicting Customer Churn - Market Analysis for a TeleCom Company"
   ]
  },
  {
   "cell_type": "markdown",
   "metadata": {},
   "source": [
    "In this notebook I present work done on the custmer churn dataset form a telecom company. This dataset was taken from the DataCamp project on the same topic. \n",
    "\n",
    "I perform Data Pre-processing, Data Visualization, Model Building, Model Evaluation and lastly Model Tuning in this notebook."
   ]
  },
  {
   "cell_type": "code",
   "execution_count": 1,
   "metadata": {},
   "outputs": [],
   "source": [
    "import pandas as pd\n",
    "import numpy as np\n",
    "import matplotlib.pyplot as plt\n",
    "import seaborn as sns\n",
    "from sklearn import preprocessing\n",
    "from sklearn.model_selection import train_test_split\n",
    "from sklearn.preprocessing import StandardScaler\n",
    "from sklearn.linear_model import LogisticRegression\n",
    "from sklearn.tree import DecisionTreeClassifier\n",
    "from sklearn.ensemble import RandomForestClassifier\n",
    "from sklearn.metrics import confusion_matrix\n",
    "from sklearn.metrics import precision_score\n",
    "from sklearn.metrics import recall_score\n",
    "from sklearn.metrics import roc_curve\n",
    "from sklearn.metrics import roc_auc_score\n",
    "from sklearn.metrics import f1_score\n",
    "from sklearn.model_selection import GridSearchCV\n",
    "from sklearn.model_selection import RandomizedSearchCV"
   ]
  },
  {
   "cell_type": "markdown",
   "metadata": {},
   "source": [
    "## 1. Basic Data Exploration "
   ]
  },
  {
   "cell_type": "code",
   "execution_count": 2,
   "metadata": {},
   "outputs": [],
   "source": [
    "telco = pd.read_csv('Churn.csv')"
   ]
  },
  {
   "cell_type": "code",
   "execution_count": 3,
   "metadata": {},
   "outputs": [
    {
     "data": {
      "text/html": [
       "<div>\n",
       "<style scoped>\n",
       "    .dataframe tbody tr th:only-of-type {\n",
       "        vertical-align: middle;\n",
       "    }\n",
       "\n",
       "    .dataframe tbody tr th {\n",
       "        vertical-align: top;\n",
       "    }\n",
       "\n",
       "    .dataframe thead th {\n",
       "        text-align: right;\n",
       "    }\n",
       "</style>\n",
       "<table border=\"1\" class=\"dataframe\">\n",
       "  <thead>\n",
       "    <tr style=\"text-align: right;\">\n",
       "      <th></th>\n",
       "      <th>Account_Length</th>\n",
       "      <th>Vmail_Message</th>\n",
       "      <th>Day_Mins</th>\n",
       "      <th>Eve_Mins</th>\n",
       "      <th>Night_Mins</th>\n",
       "      <th>Intl_Mins</th>\n",
       "      <th>CustServ_Calls</th>\n",
       "      <th>Churn</th>\n",
       "      <th>Intl_Plan</th>\n",
       "      <th>Vmail_Plan</th>\n",
       "      <th>...</th>\n",
       "      <th>Day_Charge</th>\n",
       "      <th>Eve_Calls</th>\n",
       "      <th>Eve_Charge</th>\n",
       "      <th>Night_Calls</th>\n",
       "      <th>Night_Charge</th>\n",
       "      <th>Intl_Calls</th>\n",
       "      <th>Intl_Charge</th>\n",
       "      <th>State</th>\n",
       "      <th>Area_Code</th>\n",
       "      <th>Phone</th>\n",
       "    </tr>\n",
       "  </thead>\n",
       "  <tbody>\n",
       "    <tr>\n",
       "      <th>0</th>\n",
       "      <td>128</td>\n",
       "      <td>25</td>\n",
       "      <td>265.1</td>\n",
       "      <td>197.4</td>\n",
       "      <td>244.7</td>\n",
       "      <td>10.0</td>\n",
       "      <td>1</td>\n",
       "      <td>no</td>\n",
       "      <td>no</td>\n",
       "      <td>yes</td>\n",
       "      <td>...</td>\n",
       "      <td>45.07</td>\n",
       "      <td>99</td>\n",
       "      <td>16.78</td>\n",
       "      <td>91</td>\n",
       "      <td>11.01</td>\n",
       "      <td>3</td>\n",
       "      <td>2.70</td>\n",
       "      <td>KS</td>\n",
       "      <td>415</td>\n",
       "      <td>382-4657</td>\n",
       "    </tr>\n",
       "    <tr>\n",
       "      <th>1</th>\n",
       "      <td>107</td>\n",
       "      <td>26</td>\n",
       "      <td>161.6</td>\n",
       "      <td>195.5</td>\n",
       "      <td>254.4</td>\n",
       "      <td>13.7</td>\n",
       "      <td>1</td>\n",
       "      <td>no</td>\n",
       "      <td>no</td>\n",
       "      <td>yes</td>\n",
       "      <td>...</td>\n",
       "      <td>27.47</td>\n",
       "      <td>103</td>\n",
       "      <td>16.62</td>\n",
       "      <td>103</td>\n",
       "      <td>11.45</td>\n",
       "      <td>3</td>\n",
       "      <td>3.70</td>\n",
       "      <td>OH</td>\n",
       "      <td>415</td>\n",
       "      <td>371-7191</td>\n",
       "    </tr>\n",
       "    <tr>\n",
       "      <th>2</th>\n",
       "      <td>137</td>\n",
       "      <td>0</td>\n",
       "      <td>243.4</td>\n",
       "      <td>121.2</td>\n",
       "      <td>162.6</td>\n",
       "      <td>12.2</td>\n",
       "      <td>0</td>\n",
       "      <td>no</td>\n",
       "      <td>no</td>\n",
       "      <td>no</td>\n",
       "      <td>...</td>\n",
       "      <td>41.38</td>\n",
       "      <td>110</td>\n",
       "      <td>10.30</td>\n",
       "      <td>104</td>\n",
       "      <td>7.32</td>\n",
       "      <td>5</td>\n",
       "      <td>3.29</td>\n",
       "      <td>NJ</td>\n",
       "      <td>415</td>\n",
       "      <td>358-1921</td>\n",
       "    </tr>\n",
       "    <tr>\n",
       "      <th>3</th>\n",
       "      <td>84</td>\n",
       "      <td>0</td>\n",
       "      <td>299.4</td>\n",
       "      <td>61.9</td>\n",
       "      <td>196.9</td>\n",
       "      <td>6.6</td>\n",
       "      <td>2</td>\n",
       "      <td>no</td>\n",
       "      <td>yes</td>\n",
       "      <td>no</td>\n",
       "      <td>...</td>\n",
       "      <td>50.90</td>\n",
       "      <td>88</td>\n",
       "      <td>5.26</td>\n",
       "      <td>89</td>\n",
       "      <td>8.86</td>\n",
       "      <td>7</td>\n",
       "      <td>1.78</td>\n",
       "      <td>OH</td>\n",
       "      <td>408</td>\n",
       "      <td>375-9999</td>\n",
       "    </tr>\n",
       "    <tr>\n",
       "      <th>4</th>\n",
       "      <td>75</td>\n",
       "      <td>0</td>\n",
       "      <td>166.7</td>\n",
       "      <td>148.3</td>\n",
       "      <td>186.9</td>\n",
       "      <td>10.1</td>\n",
       "      <td>3</td>\n",
       "      <td>no</td>\n",
       "      <td>yes</td>\n",
       "      <td>no</td>\n",
       "      <td>...</td>\n",
       "      <td>28.34</td>\n",
       "      <td>122</td>\n",
       "      <td>12.61</td>\n",
       "      <td>121</td>\n",
       "      <td>8.41</td>\n",
       "      <td>3</td>\n",
       "      <td>2.73</td>\n",
       "      <td>OK</td>\n",
       "      <td>415</td>\n",
       "      <td>330-6626</td>\n",
       "    </tr>\n",
       "  </tbody>\n",
       "</table>\n",
       "<p>5 rows × 21 columns</p>\n",
       "</div>"
      ],
      "text/plain": [
       "   Account_Length  Vmail_Message  Day_Mins  Eve_Mins  Night_Mins  Intl_Mins  \\\n",
       "0             128             25     265.1     197.4       244.7       10.0   \n",
       "1             107             26     161.6     195.5       254.4       13.7   \n",
       "2             137              0     243.4     121.2       162.6       12.2   \n",
       "3              84              0     299.4      61.9       196.9        6.6   \n",
       "4              75              0     166.7     148.3       186.9       10.1   \n",
       "\n",
       "   CustServ_Calls Churn Intl_Plan Vmail_Plan  ...  Day_Charge  Eve_Calls  \\\n",
       "0               1    no        no        yes  ...       45.07         99   \n",
       "1               1    no        no        yes  ...       27.47        103   \n",
       "2               0    no        no         no  ...       41.38        110   \n",
       "3               2    no       yes         no  ...       50.90         88   \n",
       "4               3    no       yes         no  ...       28.34        122   \n",
       "\n",
       "   Eve_Charge  Night_Calls  Night_Charge  Intl_Calls  Intl_Charge  State  \\\n",
       "0       16.78           91         11.01           3         2.70     KS   \n",
       "1       16.62          103         11.45           3         3.70     OH   \n",
       "2       10.30          104          7.32           5         3.29     NJ   \n",
       "3        5.26           89          8.86           7         1.78     OH   \n",
       "4       12.61          121          8.41           3         2.73     OK   \n",
       "\n",
       "  Area_Code     Phone  \n",
       "0       415  382-4657  \n",
       "1       415  371-7191  \n",
       "2       415  358-1921  \n",
       "3       408  375-9999  \n",
       "4       415  330-6626  \n",
       "\n",
       "[5 rows x 21 columns]"
      ]
     },
     "execution_count": 3,
     "metadata": {},
     "output_type": "execute_result"
    }
   ],
   "source": [
    "telco.head()"
   ]
  },
  {
   "cell_type": "code",
   "execution_count": 4,
   "metadata": {},
   "outputs": [
    {
     "name": "stdout",
     "output_type": "stream",
     "text": [
      "<class 'pandas.core.frame.DataFrame'>\n",
      "RangeIndex: 3333 entries, 0 to 3332\n",
      "Data columns (total 21 columns):\n",
      " #   Column          Non-Null Count  Dtype  \n",
      "---  ------          --------------  -----  \n",
      " 0   Account_Length  3333 non-null   int64  \n",
      " 1   Vmail_Message   3333 non-null   int64  \n",
      " 2   Day_Mins        3333 non-null   float64\n",
      " 3   Eve_Mins        3333 non-null   float64\n",
      " 4   Night_Mins      3333 non-null   float64\n",
      " 5   Intl_Mins       3333 non-null   float64\n",
      " 6   CustServ_Calls  3333 non-null   int64  \n",
      " 7   Churn           3333 non-null   object \n",
      " 8   Intl_Plan       3333 non-null   object \n",
      " 9   Vmail_Plan      3333 non-null   object \n",
      " 10  Day_Calls       3333 non-null   int64  \n",
      " 11  Day_Charge      3333 non-null   float64\n",
      " 12  Eve_Calls       3333 non-null   int64  \n",
      " 13  Eve_Charge      3333 non-null   float64\n",
      " 14  Night_Calls     3333 non-null   int64  \n",
      " 15  Night_Charge    3333 non-null   float64\n",
      " 16  Intl_Calls      3333 non-null   int64  \n",
      " 17  Intl_Charge     3333 non-null   float64\n",
      " 18  State           3333 non-null   object \n",
      " 19  Area_Code       3333 non-null   int64  \n",
      " 20  Phone           3333 non-null   object \n",
      "dtypes: float64(8), int64(8), object(5)\n",
      "memory usage: 546.9+ KB\n"
     ]
    }
   ],
   "source": [
    "telco.info()"
   ]
  },
  {
   "cell_type": "code",
   "execution_count": 5,
   "metadata": {},
   "outputs": [
    {
     "data": {
      "text/html": [
       "<div>\n",
       "<style scoped>\n",
       "    .dataframe tbody tr th:only-of-type {\n",
       "        vertical-align: middle;\n",
       "    }\n",
       "\n",
       "    .dataframe tbody tr th {\n",
       "        vertical-align: top;\n",
       "    }\n",
       "\n",
       "    .dataframe thead th {\n",
       "        text-align: right;\n",
       "    }\n",
       "</style>\n",
       "<table border=\"1\" class=\"dataframe\">\n",
       "  <thead>\n",
       "    <tr style=\"text-align: right;\">\n",
       "      <th></th>\n",
       "      <th>Account_Length</th>\n",
       "      <th>Vmail_Message</th>\n",
       "      <th>Day_Mins</th>\n",
       "      <th>Eve_Mins</th>\n",
       "      <th>Night_Mins</th>\n",
       "      <th>Intl_Mins</th>\n",
       "      <th>CustServ_Calls</th>\n",
       "      <th>Day_Calls</th>\n",
       "      <th>Day_Charge</th>\n",
       "      <th>Eve_Calls</th>\n",
       "      <th>Eve_Charge</th>\n",
       "      <th>Night_Calls</th>\n",
       "      <th>Night_Charge</th>\n",
       "      <th>Intl_Calls</th>\n",
       "      <th>Intl_Charge</th>\n",
       "      <th>Area_Code</th>\n",
       "    </tr>\n",
       "  </thead>\n",
       "  <tbody>\n",
       "    <tr>\n",
       "      <th>count</th>\n",
       "      <td>3333.000000</td>\n",
       "      <td>3333.000000</td>\n",
       "      <td>3333.000000</td>\n",
       "      <td>3333.000000</td>\n",
       "      <td>3333.000000</td>\n",
       "      <td>3333.000000</td>\n",
       "      <td>3333.000000</td>\n",
       "      <td>3333.000000</td>\n",
       "      <td>3333.000000</td>\n",
       "      <td>3333.000000</td>\n",
       "      <td>3333.000000</td>\n",
       "      <td>3333.000000</td>\n",
       "      <td>3333.000000</td>\n",
       "      <td>3333.000000</td>\n",
       "      <td>3333.000000</td>\n",
       "      <td>3333.000000</td>\n",
       "    </tr>\n",
       "    <tr>\n",
       "      <th>mean</th>\n",
       "      <td>101.064806</td>\n",
       "      <td>8.099010</td>\n",
       "      <td>179.775098</td>\n",
       "      <td>200.980348</td>\n",
       "      <td>200.872037</td>\n",
       "      <td>10.237294</td>\n",
       "      <td>1.562856</td>\n",
       "      <td>100.435644</td>\n",
       "      <td>30.562307</td>\n",
       "      <td>100.114311</td>\n",
       "      <td>17.083540</td>\n",
       "      <td>100.107711</td>\n",
       "      <td>9.039325</td>\n",
       "      <td>4.479448</td>\n",
       "      <td>2.764581</td>\n",
       "      <td>437.182418</td>\n",
       "    </tr>\n",
       "    <tr>\n",
       "      <th>std</th>\n",
       "      <td>39.822106</td>\n",
       "      <td>13.688365</td>\n",
       "      <td>54.467389</td>\n",
       "      <td>50.713844</td>\n",
       "      <td>50.573847</td>\n",
       "      <td>2.791840</td>\n",
       "      <td>1.315491</td>\n",
       "      <td>20.069084</td>\n",
       "      <td>9.259435</td>\n",
       "      <td>19.922625</td>\n",
       "      <td>4.310668</td>\n",
       "      <td>19.568609</td>\n",
       "      <td>2.275873</td>\n",
       "      <td>2.461214</td>\n",
       "      <td>0.753773</td>\n",
       "      <td>42.371290</td>\n",
       "    </tr>\n",
       "    <tr>\n",
       "      <th>min</th>\n",
       "      <td>1.000000</td>\n",
       "      <td>0.000000</td>\n",
       "      <td>0.000000</td>\n",
       "      <td>0.000000</td>\n",
       "      <td>23.200000</td>\n",
       "      <td>0.000000</td>\n",
       "      <td>0.000000</td>\n",
       "      <td>0.000000</td>\n",
       "      <td>0.000000</td>\n",
       "      <td>0.000000</td>\n",
       "      <td>0.000000</td>\n",
       "      <td>33.000000</td>\n",
       "      <td>1.040000</td>\n",
       "      <td>0.000000</td>\n",
       "      <td>0.000000</td>\n",
       "      <td>408.000000</td>\n",
       "    </tr>\n",
       "    <tr>\n",
       "      <th>25%</th>\n",
       "      <td>74.000000</td>\n",
       "      <td>0.000000</td>\n",
       "      <td>143.700000</td>\n",
       "      <td>166.600000</td>\n",
       "      <td>167.000000</td>\n",
       "      <td>8.500000</td>\n",
       "      <td>1.000000</td>\n",
       "      <td>87.000000</td>\n",
       "      <td>24.430000</td>\n",
       "      <td>87.000000</td>\n",
       "      <td>14.160000</td>\n",
       "      <td>87.000000</td>\n",
       "      <td>7.520000</td>\n",
       "      <td>3.000000</td>\n",
       "      <td>2.300000</td>\n",
       "      <td>408.000000</td>\n",
       "    </tr>\n",
       "    <tr>\n",
       "      <th>50%</th>\n",
       "      <td>101.000000</td>\n",
       "      <td>0.000000</td>\n",
       "      <td>179.400000</td>\n",
       "      <td>201.400000</td>\n",
       "      <td>201.200000</td>\n",
       "      <td>10.300000</td>\n",
       "      <td>1.000000</td>\n",
       "      <td>101.000000</td>\n",
       "      <td>30.500000</td>\n",
       "      <td>100.000000</td>\n",
       "      <td>17.120000</td>\n",
       "      <td>100.000000</td>\n",
       "      <td>9.050000</td>\n",
       "      <td>4.000000</td>\n",
       "      <td>2.780000</td>\n",
       "      <td>415.000000</td>\n",
       "    </tr>\n",
       "    <tr>\n",
       "      <th>75%</th>\n",
       "      <td>127.000000</td>\n",
       "      <td>20.000000</td>\n",
       "      <td>216.400000</td>\n",
       "      <td>235.300000</td>\n",
       "      <td>235.300000</td>\n",
       "      <td>12.100000</td>\n",
       "      <td>2.000000</td>\n",
       "      <td>114.000000</td>\n",
       "      <td>36.790000</td>\n",
       "      <td>114.000000</td>\n",
       "      <td>20.000000</td>\n",
       "      <td>113.000000</td>\n",
       "      <td>10.590000</td>\n",
       "      <td>6.000000</td>\n",
       "      <td>3.270000</td>\n",
       "      <td>510.000000</td>\n",
       "    </tr>\n",
       "    <tr>\n",
       "      <th>max</th>\n",
       "      <td>243.000000</td>\n",
       "      <td>51.000000</td>\n",
       "      <td>350.800000</td>\n",
       "      <td>363.700000</td>\n",
       "      <td>395.000000</td>\n",
       "      <td>20.000000</td>\n",
       "      <td>9.000000</td>\n",
       "      <td>165.000000</td>\n",
       "      <td>59.640000</td>\n",
       "      <td>170.000000</td>\n",
       "      <td>30.910000</td>\n",
       "      <td>175.000000</td>\n",
       "      <td>17.770000</td>\n",
       "      <td>20.000000</td>\n",
       "      <td>5.400000</td>\n",
       "      <td>510.000000</td>\n",
       "    </tr>\n",
       "  </tbody>\n",
       "</table>\n",
       "</div>"
      ],
      "text/plain": [
       "       Account_Length  Vmail_Message     Day_Mins     Eve_Mins   Night_Mins  \\\n",
       "count     3333.000000    3333.000000  3333.000000  3333.000000  3333.000000   \n",
       "mean       101.064806       8.099010   179.775098   200.980348   200.872037   \n",
       "std         39.822106      13.688365    54.467389    50.713844    50.573847   \n",
       "min          1.000000       0.000000     0.000000     0.000000    23.200000   \n",
       "25%         74.000000       0.000000   143.700000   166.600000   167.000000   \n",
       "50%        101.000000       0.000000   179.400000   201.400000   201.200000   \n",
       "75%        127.000000      20.000000   216.400000   235.300000   235.300000   \n",
       "max        243.000000      51.000000   350.800000   363.700000   395.000000   \n",
       "\n",
       "         Intl_Mins  CustServ_Calls    Day_Calls   Day_Charge    Eve_Calls  \\\n",
       "count  3333.000000     3333.000000  3333.000000  3333.000000  3333.000000   \n",
       "mean     10.237294        1.562856   100.435644    30.562307   100.114311   \n",
       "std       2.791840        1.315491    20.069084     9.259435    19.922625   \n",
       "min       0.000000        0.000000     0.000000     0.000000     0.000000   \n",
       "25%       8.500000        1.000000    87.000000    24.430000    87.000000   \n",
       "50%      10.300000        1.000000   101.000000    30.500000   100.000000   \n",
       "75%      12.100000        2.000000   114.000000    36.790000   114.000000   \n",
       "max      20.000000        9.000000   165.000000    59.640000   170.000000   \n",
       "\n",
       "        Eve_Charge  Night_Calls  Night_Charge   Intl_Calls  Intl_Charge  \\\n",
       "count  3333.000000  3333.000000   3333.000000  3333.000000  3333.000000   \n",
       "mean     17.083540   100.107711      9.039325     4.479448     2.764581   \n",
       "std       4.310668    19.568609      2.275873     2.461214     0.753773   \n",
       "min       0.000000    33.000000      1.040000     0.000000     0.000000   \n",
       "25%      14.160000    87.000000      7.520000     3.000000     2.300000   \n",
       "50%      17.120000   100.000000      9.050000     4.000000     2.780000   \n",
       "75%      20.000000   113.000000     10.590000     6.000000     3.270000   \n",
       "max      30.910000   175.000000     17.770000    20.000000     5.400000   \n",
       "\n",
       "         Area_Code  \n",
       "count  3333.000000  \n",
       "mean    437.182418  \n",
       "std      42.371290  \n",
       "min     408.000000  \n",
       "25%     408.000000  \n",
       "50%     415.000000  \n",
       "75%     510.000000  \n",
       "max     510.000000  "
      ]
     },
     "execution_count": 5,
     "metadata": {},
     "output_type": "execute_result"
    }
   ],
   "source": [
    "telco.describe()"
   ]
  },
  {
   "cell_type": "code",
   "execution_count": 6,
   "metadata": {},
   "outputs": [
    {
     "data": {
      "text/plain": [
       "Account_Length    0\n",
       "Vmail_Message     0\n",
       "Day_Mins          0\n",
       "Eve_Mins          0\n",
       "Night_Mins        0\n",
       "Intl_Mins         0\n",
       "CustServ_Calls    0\n",
       "Churn             0\n",
       "Intl_Plan         0\n",
       "Vmail_Plan        0\n",
       "Day_Calls         0\n",
       "Day_Charge        0\n",
       "Eve_Calls         0\n",
       "Eve_Charge        0\n",
       "Night_Calls       0\n",
       "Night_Charge      0\n",
       "Intl_Calls        0\n",
       "Intl_Charge       0\n",
       "State             0\n",
       "Area_Code         0\n",
       "Phone             0\n",
       "dtype: int64"
      ]
     },
     "execution_count": 6,
     "metadata": {},
     "output_type": "execute_result"
    }
   ],
   "source": [
    "telco.isnull().sum()"
   ]
  },
  {
   "cell_type": "code",
   "execution_count": 7,
   "metadata": {},
   "outputs": [
    {
     "data": {
      "text/plain": [
       "0"
      ]
     },
     "execution_count": 7,
     "metadata": {},
     "output_type": "execute_result"
    }
   ],
   "source": [
    "telco.duplicated().sum()"
   ]
  },
  {
   "cell_type": "code",
   "execution_count": 8,
   "metadata": {},
   "outputs": [
    {
     "data": {
      "text/plain": [
       "no     2850\n",
       "yes     483\n",
       "Name: Churn, dtype: int64"
      ]
     },
     "execution_count": 8,
     "metadata": {},
     "output_type": "execute_result"
    }
   ],
   "source": [
    "telco['Churn'].value_counts()"
   ]
  },
  {
   "cell_type": "code",
   "execution_count": 9,
   "metadata": {},
   "outputs": [
    {
     "data": {
      "text/html": [
       "<div>\n",
       "<style scoped>\n",
       "    .dataframe tbody tr th:only-of-type {\n",
       "        vertical-align: middle;\n",
       "    }\n",
       "\n",
       "    .dataframe tbody tr th {\n",
       "        vertical-align: top;\n",
       "    }\n",
       "\n",
       "    .dataframe thead th {\n",
       "        text-align: right;\n",
       "    }\n",
       "</style>\n",
       "<table border=\"1\" class=\"dataframe\">\n",
       "  <thead>\n",
       "    <tr style=\"text-align: right;\">\n",
       "      <th></th>\n",
       "      <th>Account_Length</th>\n",
       "      <th>Vmail_Message</th>\n",
       "      <th>Day_Mins</th>\n",
       "      <th>Eve_Mins</th>\n",
       "      <th>Night_Mins</th>\n",
       "      <th>Intl_Mins</th>\n",
       "      <th>CustServ_Calls</th>\n",
       "      <th>Day_Calls</th>\n",
       "      <th>Day_Charge</th>\n",
       "      <th>Eve_Calls</th>\n",
       "      <th>Eve_Charge</th>\n",
       "      <th>Night_Calls</th>\n",
       "      <th>Night_Charge</th>\n",
       "      <th>Intl_Calls</th>\n",
       "      <th>Intl_Charge</th>\n",
       "      <th>Area_Code</th>\n",
       "    </tr>\n",
       "    <tr>\n",
       "      <th>Churn</th>\n",
       "      <th></th>\n",
       "      <th></th>\n",
       "      <th></th>\n",
       "      <th></th>\n",
       "      <th></th>\n",
       "      <th></th>\n",
       "      <th></th>\n",
       "      <th></th>\n",
       "      <th></th>\n",
       "      <th></th>\n",
       "      <th></th>\n",
       "      <th></th>\n",
       "      <th></th>\n",
       "      <th></th>\n",
       "      <th></th>\n",
       "      <th></th>\n",
       "    </tr>\n",
       "  </thead>\n",
       "  <tbody>\n",
       "    <tr>\n",
       "      <th>no</th>\n",
       "      <td>100.793684</td>\n",
       "      <td>8.604561</td>\n",
       "      <td>175.175754</td>\n",
       "      <td>199.043298</td>\n",
       "      <td>200.133193</td>\n",
       "      <td>10.158877</td>\n",
       "      <td>1.449825</td>\n",
       "      <td>100.283158</td>\n",
       "      <td>29.780421</td>\n",
       "      <td>100.038596</td>\n",
       "      <td>16.918909</td>\n",
       "      <td>100.058246</td>\n",
       "      <td>9.006074</td>\n",
       "      <td>4.532982</td>\n",
       "      <td>2.743404</td>\n",
       "      <td>437.074737</td>\n",
       "    </tr>\n",
       "    <tr>\n",
       "      <th>yes</th>\n",
       "      <td>102.664596</td>\n",
       "      <td>5.115942</td>\n",
       "      <td>206.914079</td>\n",
       "      <td>212.410145</td>\n",
       "      <td>205.231677</td>\n",
       "      <td>10.700000</td>\n",
       "      <td>2.229814</td>\n",
       "      <td>101.335404</td>\n",
       "      <td>35.175921</td>\n",
       "      <td>100.561077</td>\n",
       "      <td>18.054969</td>\n",
       "      <td>100.399586</td>\n",
       "      <td>9.235528</td>\n",
       "      <td>4.163561</td>\n",
       "      <td>2.889545</td>\n",
       "      <td>437.817805</td>\n",
       "    </tr>\n",
       "  </tbody>\n",
       "</table>\n",
       "</div>"
      ],
      "text/plain": [
       "       Account_Length  Vmail_Message    Day_Mins    Eve_Mins  Night_Mins  \\\n",
       "Churn                                                                      \n",
       "no         100.793684       8.604561  175.175754  199.043298  200.133193   \n",
       "yes        102.664596       5.115942  206.914079  212.410145  205.231677   \n",
       "\n",
       "       Intl_Mins  CustServ_Calls   Day_Calls  Day_Charge   Eve_Calls  \\\n",
       "Churn                                                                  \n",
       "no     10.158877        1.449825  100.283158   29.780421  100.038596   \n",
       "yes    10.700000        2.229814  101.335404   35.175921  100.561077   \n",
       "\n",
       "       Eve_Charge  Night_Calls  Night_Charge  Intl_Calls  Intl_Charge  \\\n",
       "Churn                                                                   \n",
       "no      16.918909   100.058246      9.006074    4.532982     2.743404   \n",
       "yes     18.054969   100.399586      9.235528    4.163561     2.889545   \n",
       "\n",
       "        Area_Code  \n",
       "Churn              \n",
       "no     437.074737  \n",
       "yes    437.817805  "
      ]
     },
     "execution_count": 9,
     "metadata": {},
     "output_type": "execute_result"
    }
   ],
   "source": [
    "telco.groupby(['Churn']).mean()"
   ]
  },
  {
   "cell_type": "markdown",
   "metadata": {},
   "source": [
    "Two things catch the eye here - Vmail_Message for churners and non-churners has a huge gap, similarly the CustServ_Calls also has a great difference between the two"
   ]
  },
  {
   "cell_type": "code",
   "execution_count": 10,
   "metadata": {},
   "outputs": [
    {
     "data": {
      "text/html": [
       "<div>\n",
       "<style scoped>\n",
       "    .dataframe tbody tr th:only-of-type {\n",
       "        vertical-align: middle;\n",
       "    }\n",
       "\n",
       "    .dataframe tbody tr th {\n",
       "        vertical-align: top;\n",
       "    }\n",
       "\n",
       "    .dataframe thead th {\n",
       "        text-align: right;\n",
       "    }\n",
       "</style>\n",
       "<table border=\"1\" class=\"dataframe\">\n",
       "  <thead>\n",
       "    <tr style=\"text-align: right;\">\n",
       "      <th></th>\n",
       "      <th>Vmail_Message</th>\n",
       "      <th>CustServ_Calls</th>\n",
       "    </tr>\n",
       "    <tr>\n",
       "      <th>Churn</th>\n",
       "      <th></th>\n",
       "      <th></th>\n",
       "    </tr>\n",
       "  </thead>\n",
       "  <tbody>\n",
       "    <tr>\n",
       "      <th>no</th>\n",
       "      <td>8.604561</td>\n",
       "      <td>1.449825</td>\n",
       "    </tr>\n",
       "    <tr>\n",
       "      <th>yes</th>\n",
       "      <td>5.115942</td>\n",
       "      <td>2.229814</td>\n",
       "    </tr>\n",
       "  </tbody>\n",
       "</table>\n",
       "</div>"
      ],
      "text/plain": [
       "       Vmail_Message  CustServ_Calls\n",
       "Churn                               \n",
       "no          8.604561        1.449825\n",
       "yes         5.115942        2.229814"
      ]
     },
     "execution_count": 10,
     "metadata": {},
     "output_type": "execute_result"
    }
   ],
   "source": [
    "#churners make more cust serv calls than non churners\n",
    "#churners have less voice mail messages than non chruners\n",
    "telco.groupby(['Churn']).mean()[['Vmail_Message','CustServ_Calls']]"
   ]
  },
  {
   "cell_type": "code",
   "execution_count": 11,
   "metadata": {},
   "outputs": [
    {
     "data": {
      "text/html": [
       "<div>\n",
       "<style scoped>\n",
       "    .dataframe tbody tr th:only-of-type {\n",
       "        vertical-align: middle;\n",
       "    }\n",
       "\n",
       "    .dataframe tbody tr th {\n",
       "        vertical-align: top;\n",
       "    }\n",
       "\n",
       "    .dataframe thead th {\n",
       "        text-align: right;\n",
       "    }\n",
       "</style>\n",
       "<table border=\"1\" class=\"dataframe\">\n",
       "  <thead>\n",
       "    <tr style=\"text-align: right;\">\n",
       "      <th></th>\n",
       "      <th>Account_Length</th>\n",
       "      <th>Vmail_Message</th>\n",
       "      <th>Day_Mins</th>\n",
       "      <th>Eve_Mins</th>\n",
       "      <th>Night_Mins</th>\n",
       "      <th>Intl_Mins</th>\n",
       "      <th>CustServ_Calls</th>\n",
       "      <th>Day_Calls</th>\n",
       "      <th>Day_Charge</th>\n",
       "      <th>Eve_Calls</th>\n",
       "      <th>Eve_Charge</th>\n",
       "      <th>Night_Calls</th>\n",
       "      <th>Night_Charge</th>\n",
       "      <th>Intl_Calls</th>\n",
       "      <th>Intl_Charge</th>\n",
       "      <th>Area_Code</th>\n",
       "    </tr>\n",
       "    <tr>\n",
       "      <th>Churn</th>\n",
       "      <th></th>\n",
       "      <th></th>\n",
       "      <th></th>\n",
       "      <th></th>\n",
       "      <th></th>\n",
       "      <th></th>\n",
       "      <th></th>\n",
       "      <th></th>\n",
       "      <th></th>\n",
       "      <th></th>\n",
       "      <th></th>\n",
       "      <th></th>\n",
       "      <th></th>\n",
       "      <th></th>\n",
       "      <th></th>\n",
       "      <th></th>\n",
       "    </tr>\n",
       "  </thead>\n",
       "  <tbody>\n",
       "    <tr>\n",
       "      <th>no</th>\n",
       "      <td>39.88235</td>\n",
       "      <td>13.913125</td>\n",
       "      <td>50.181655</td>\n",
       "      <td>50.292175</td>\n",
       "      <td>51.105032</td>\n",
       "      <td>2.784489</td>\n",
       "      <td>1.163883</td>\n",
       "      <td>19.801157</td>\n",
       "      <td>8.530835</td>\n",
       "      <td>19.958414</td>\n",
       "      <td>4.274863</td>\n",
       "      <td>19.506246</td>\n",
       "      <td>2.299768</td>\n",
       "      <td>2.441984</td>\n",
       "      <td>0.751784</td>\n",
       "      <td>42.306156</td>\n",
       "    </tr>\n",
       "    <tr>\n",
       "      <th>yes</th>\n",
       "      <td>39.46782</td>\n",
       "      <td>11.860138</td>\n",
       "      <td>68.997792</td>\n",
       "      <td>51.728910</td>\n",
       "      <td>47.132825</td>\n",
       "      <td>2.793190</td>\n",
       "      <td>1.853275</td>\n",
       "      <td>21.582307</td>\n",
       "      <td>11.729710</td>\n",
       "      <td>19.724711</td>\n",
       "      <td>4.396762</td>\n",
       "      <td>19.950659</td>\n",
       "      <td>2.121081</td>\n",
       "      <td>2.551575</td>\n",
       "      <td>0.754152</td>\n",
       "      <td>42.792270</td>\n",
       "    </tr>\n",
       "  </tbody>\n",
       "</table>\n",
       "</div>"
      ],
      "text/plain": [
       "       Account_Length  Vmail_Message   Day_Mins   Eve_Mins  Night_Mins  \\\n",
       "Churn                                                                    \n",
       "no           39.88235      13.913125  50.181655  50.292175   51.105032   \n",
       "yes          39.46782      11.860138  68.997792  51.728910   47.132825   \n",
       "\n",
       "       Intl_Mins  CustServ_Calls  Day_Calls  Day_Charge  Eve_Calls  \\\n",
       "Churn                                                                \n",
       "no      2.784489        1.163883  19.801157    8.530835  19.958414   \n",
       "yes     2.793190        1.853275  21.582307   11.729710  19.724711   \n",
       "\n",
       "       Eve_Charge  Night_Calls  Night_Charge  Intl_Calls  Intl_Charge  \\\n",
       "Churn                                                                   \n",
       "no       4.274863    19.506246      2.299768    2.441984     0.751784   \n",
       "yes      4.396762    19.950659      2.121081    2.551575     0.754152   \n",
       "\n",
       "       Area_Code  \n",
       "Churn             \n",
       "no     42.306156  \n",
       "yes    42.792270  "
      ]
     },
     "execution_count": 11,
     "metadata": {},
     "output_type": "execute_result"
    }
   ],
   "source": [
    "telco.groupby(['Churn']).std()"
   ]
  },
  {
   "cell_type": "code",
   "execution_count": 12,
   "metadata": {},
   "outputs": [
    {
     "data": {
      "text/html": [
       "<div>\n",
       "<style scoped>\n",
       "    .dataframe tbody tr th:only-of-type {\n",
       "        vertical-align: middle;\n",
       "    }\n",
       "\n",
       "    .dataframe tbody tr th {\n",
       "        vertical-align: top;\n",
       "    }\n",
       "\n",
       "    .dataframe thead th {\n",
       "        text-align: right;\n",
       "    }\n",
       "</style>\n",
       "<table border=\"1\" class=\"dataframe\">\n",
       "  <thead>\n",
       "    <tr style=\"text-align: right;\">\n",
       "      <th></th>\n",
       "      <th>Vmail_Message</th>\n",
       "      <th>CustServ_Calls</th>\n",
       "    </tr>\n",
       "    <tr>\n",
       "      <th>Churn</th>\n",
       "      <th></th>\n",
       "      <th></th>\n",
       "    </tr>\n",
       "  </thead>\n",
       "  <tbody>\n",
       "    <tr>\n",
       "      <th>no</th>\n",
       "      <td>13.913125</td>\n",
       "      <td>1.163883</td>\n",
       "    </tr>\n",
       "    <tr>\n",
       "      <th>yes</th>\n",
       "      <td>11.860138</td>\n",
       "      <td>1.853275</td>\n",
       "    </tr>\n",
       "  </tbody>\n",
       "</table>\n",
       "</div>"
      ],
      "text/plain": [
       "       Vmail_Message  CustServ_Calls\n",
       "Churn                               \n",
       "no         13.913125        1.163883\n",
       "yes        11.860138        1.853275"
      ]
     },
     "execution_count": 12,
     "metadata": {},
     "output_type": "execute_result"
    }
   ],
   "source": [
    "telco.groupby(['Churn']).std()[['Vmail_Message','CustServ_Calls']]"
   ]
  },
  {
   "cell_type": "markdown",
   "metadata": {},
   "source": [
    "State wise count of churners"
   ]
  },
  {
   "cell_type": "code",
   "execution_count": 13,
   "metadata": {},
   "outputs": [
    {
     "data": {
      "text/plain": [
       "State  Churn\n",
       "AK     no       49\n",
       "       yes       3\n",
       "AL     no       72\n",
       "       yes       8\n",
       "AR     no       44\n",
       "                ..\n",
       "WI     yes       7\n",
       "WV     no       96\n",
       "       yes      10\n",
       "WY     no       68\n",
       "       yes       9\n",
       "Name: Churn, Length: 102, dtype: int64"
      ]
     },
     "execution_count": 13,
     "metadata": {},
     "output_type": "execute_result"
    }
   ],
   "source": [
    "#when dealing with customer data, geographic regions may play an important part in determining whether a customer will cancel their service or not. \n",
    "telco.groupby('State')['Churn'].value_counts()"
   ]
  },
  {
   "cell_type": "markdown",
   "metadata": {},
   "source": [
    "## 2. Data Visualization"
   ]
  },
  {
   "cell_type": "markdown",
   "metadata": {},
   "source": [
    "### Visualize the data distribution"
   ]
  },
  {
   "cell_type": "code",
   "execution_count": 14,
   "metadata": {},
   "outputs": [
    {
     "name": "stderr",
     "output_type": "stream",
     "text": [
      "/Users/vraj/opt/anaconda3/lib/python3.8/site-packages/seaborn/distributions.py:2557: FutureWarning: `distplot` is a deprecated function and will be removed in a future version. Please adapt your code to use either `displot` (a figure-level function with similar flexibility) or `histplot` (an axes-level function for histograms).\n",
      "  warnings.warn(msg, FutureWarning)\n"
     ]
    },
    {
     "data": {
      "image/png": "[encoded data removed]",
      "text/plain": [
       "<Figure size 432x288 with 1 Axes>"
      ]
     },
     "metadata": {
      "needs_background": "light"
     },
     "output_type": "display_data"
    }
   ],
   "source": [
    "#visualize the distribution of Account_Length\n",
    "sns.distplot(telco['Account_Length'])\n",
    "plt.show()"
   ]
  },
  {
   "cell_type": "markdown",
   "metadata": {},
   "source": [
    "This resembles a bell curve (normal distribution). ML models actually assume the data comes in the form of a mornal distribution. Hence, our data seems fine. Lets have a look at a few other columns' distribution to see if its the same"
   ]
  },
  {
   "cell_type": "code",
   "execution_count": 15,
   "metadata": {},
   "outputs": [
    {
     "name": "stderr",
     "output_type": "stream",
     "text": [
      "/Users/vraj/opt/anaconda3/lib/python3.8/site-packages/seaborn/distributions.py:2557: FutureWarning: `distplot` is a deprecated function and will be removed in a future version. Please adapt your code to use either `displot` (a figure-level function with similar flexibility) or `histplot` (an axes-level function for histograms).\n",
      "  warnings.warn(msg, FutureWarning)\n"
     ]
    },
    {
     "data": {
      "image/png": "[encoded data removed]",
      "text/plain": [
       "<Figure size 432x288 with 1 Axes>"
      ]
     },
     "metadata": {
      "needs_background": "light"
     },
     "output_type": "display_data"
    }
   ],
   "source": [
    "#visualize the distribution of Day_Mins\n",
    "sns.distplot(telco['Day_Mins'])\n",
    "plt.show()"
   ]
  },
  {
   "cell_type": "code",
   "execution_count": 16,
   "metadata": {},
   "outputs": [
    {
     "name": "stderr",
     "output_type": "stream",
     "text": [
      "/Users/vraj/opt/anaconda3/lib/python3.8/site-packages/seaborn/distributions.py:2557: FutureWarning: `distplot` is a deprecated function and will be removed in a future version. Please adapt your code to use either `displot` (a figure-level function with similar flexibility) or `histplot` (an axes-level function for histograms).\n",
      "  warnings.warn(msg, FutureWarning)\n"
     ]
    },
    {
     "data": {
      "image/png": "[encoded data removed]",
      "text/plain": [
       "<Figure size 432x288 with 1 Axes>"
      ]
     },
     "metadata": {
      "needs_background": "light"
     },
     "output_type": "display_data"
    }
   ],
   "source": [
    "#visualize the distribution of Eve_Mins\n",
    "sns.distplot(telco['Eve_Mins'])\n",
    "plt.show()"
   ]
  },
  {
   "cell_type": "code",
   "execution_count": 17,
   "metadata": {},
   "outputs": [
    {
     "name": "stderr",
     "output_type": "stream",
     "text": [
      "/Users/vraj/opt/anaconda3/lib/python3.8/site-packages/seaborn/distributions.py:2557: FutureWarning: `distplot` is a deprecated function and will be removed in a future version. Please adapt your code to use either `displot` (a figure-level function with similar flexibility) or `histplot` (an axes-level function for histograms).\n",
      "  warnings.warn(msg, FutureWarning)\n"
     ]
    },
    {
     "data": {
      "image/png": "[encoded data removed]",
      "text/plain": [
       "<Figure size 432x288 with 1 Axes>"
      ]
     },
     "metadata": {
      "needs_background": "light"
     },
     "output_type": "display_data"
    }
   ],
   "source": [
    "#visualize the distribution of Night_Mins\n",
    "sns.distplot(telco['Night_Mins'])\n",
    "plt.show()"
   ]
  },
  {
   "cell_type": "code",
   "execution_count": 18,
   "metadata": {},
   "outputs": [
    {
     "name": "stderr",
     "output_type": "stream",
     "text": [
      "/Users/vraj/opt/anaconda3/lib/python3.8/site-packages/seaborn/distributions.py:2557: FutureWarning: `distplot` is a deprecated function and will be removed in a future version. Please adapt your code to use either `displot` (a figure-level function with similar flexibility) or `histplot` (an axes-level function for histograms).\n",
      "  warnings.warn(msg, FutureWarning)\n"
     ]
    },
    {
     "data": {
      "image/png": "[encoded data removed]",
      "text/plain": [
       "<Figure size 432x288 with 1 Axes>"
      ]
     },
     "metadata": {
      "needs_background": "light"
     },
     "output_type": "display_data"
    }
   ],
   "source": [
    "#visualize the distribution of Intl_Mins\n",
    "sns.distplot(telco['Intl_Mins'])\n",
    "plt.show()"
   ]
  },
  {
   "cell_type": "markdown",
   "metadata": {},
   "source": [
    "### Box plots would be a helpful visualization for this data since I wish to measure the differences of churners and non-churners"
   ]
  },
  {
   "cell_type": "code",
   "execution_count": 19,
   "metadata": {},
   "outputs": [
    {
     "data": {
      "image/png": "[encoded data removed]",
      "text/plain": [
       "<Figure size 432x288 with 1 Axes>"
      ]
     },
     "metadata": {
      "needs_background": "light"
     },
     "output_type": "display_data"
    }
   ],
   "source": [
    "#difference in account length for churners and non churners\n",
    "sns.boxplot(x = 'Churn', y = 'Account_Length', data = telco, sym = \"\")\n",
    "plt.show()"
   ]
  },
  {
   "cell_type": "code",
   "execution_count": 20,
   "metadata": {
    "scrolled": true
   },
   "outputs": [
    {
     "data": {
      "image/png": "[encoded data removed]",
      "text/plain": [
       "<Figure size 432x288 with 1 Axes>"
      ]
     },
     "metadata": {
      "needs_background": "light"
     },
     "output_type": "display_data"
    }
   ],
   "source": [
    "#further compare using a 3rd parameter\n",
    "sns.boxplot(x = 'Churn', y = 'Account_Length', data = telco, sym = \"\", hue = 'Intl_Plan')\n",
    "plt.show()"
   ]
  },
  {
   "cell_type": "markdown",
   "metadata": {},
   "source": [
    "Looking at this plot I can conclude that having an intl plan or not is not of much significance "
   ]
  },
  {
   "cell_type": "markdown",
   "metadata": {},
   "source": [
    "Somewhere above we noticed the difference in number of custsercv_calls and vmail_message for churners and non chruners. Lets have a look at plots of these."
   ]
  },
  {
   "cell_type": "code",
   "execution_count": 21,
   "metadata": {
    "scrolled": true
   },
   "outputs": [
    {
     "data": {
      "image/png": "[encoded data removed]",
      "text/plain": [
       "<Figure size 432x288 with 1 Axes>"
      ]
     },
     "metadata": {
      "needs_background": "light"
     },
     "output_type": "display_data"
    }
   ],
   "source": [
    "sns.boxplot(x = 'Churn', y = 'CustServ_Calls', data = telco, sym = \"\")\n",
    "plt.show()"
   ]
  },
  {
   "cell_type": "markdown",
   "metadata": {},
   "source": [
    "### There is a very noticeable difference in number of customer service calls here between churners and non-churners!"
   ]
  },
  {
   "cell_type": "code",
   "execution_count": 22,
   "metadata": {},
   "outputs": [
    {
     "data": {
      "image/png": "[encoded data removed]",
      "text/plain": [
       "<Figure size 432x288 with 1 Axes>"
      ]
     },
     "metadata": {
      "needs_background": "light"
     },
     "output_type": "display_data"
    }
   ],
   "source": [
    "#further compare using a 3rd parameter - vmail_plan\n",
    "sns.boxplot(x = 'Churn', y = 'CustServ_Calls', data = telco, sym = \"\", hue = \"Vmail_Plan\")\n",
    "plt.show()"
   ]
  },
  {
   "cell_type": "code",
   "execution_count": 23,
   "metadata": {},
   "outputs": [
    {
     "data": {
      "image/png": "[encoded data removed]",
      "text/plain": [
       "<Figure size 432x288 with 1 Axes>"
      ]
     },
     "metadata": {
      "needs_background": "light"
     },
     "output_type": "display_data"
    }
   ],
   "source": [
    "#further compare using a 3rd parameter - intl_plan\n",
    "sns.boxplot(x = 'Churn', y = 'CustServ_Calls', data = telco, sym = \"\", hue = \"Intl_Plan\")\n",
    "plt.show()"
   ]
  },
  {
   "cell_type": "code",
   "execution_count": 24,
   "metadata": {},
   "outputs": [
    {
     "data": {
      "image/png": "[encoded data removed]",
      "text/plain": [
       "<Figure size 432x288 with 1 Axes>"
      ]
     },
     "metadata": {
      "needs_background": "light"
     },
     "output_type": "display_data"
    }
   ],
   "source": [
    "sns.boxplot(x = 'Churn', y = 'Vmail_Message', data = telco)\n",
    "plt.show()"
   ]
  },
  {
   "cell_type": "markdown",
   "metadata": {},
   "source": [
    "### Again, a huge difference in Voice mail messages"
   ]
  },
  {
   "cell_type": "markdown",
   "metadata": {},
   "source": [
    "## 3. Data Preprocessing"
   ]
  },
  {
   "cell_type": "markdown",
   "metadata": {},
   "source": [
    "### Label Encoding - making all non integer type columns to integer columns. Use LabelEncoder to transform values into numeric"
   ]
  },
  {
   "cell_type": "code",
   "execution_count": 25,
   "metadata": {},
   "outputs": [
    {
     "data": {
      "text/plain": [
       "Account_Length      int64\n",
       "Vmail_Message       int64\n",
       "Day_Mins          float64\n",
       "Eve_Mins          float64\n",
       "Night_Mins        float64\n",
       "Intl_Mins         float64\n",
       "CustServ_Calls      int64\n",
       "Churn              object\n",
       "Intl_Plan          object\n",
       "Vmail_Plan         object\n",
       "Day_Calls           int64\n",
       "Day_Charge        float64\n",
       "Eve_Calls           int64\n",
       "Eve_Charge        float64\n",
       "Night_Calls         int64\n",
       "Night_Charge      float64\n",
       "Intl_Calls          int64\n",
       "Intl_Charge       float64\n",
       "State              object\n",
       "Area_Code           int64\n",
       "Phone              object\n",
       "dtype: object"
      ]
     },
     "execution_count": 25,
     "metadata": {},
     "output_type": "execute_result"
    }
   ],
   "source": [
    "telco.dtypes"
   ]
  },
  {
   "cell_type": "code",
   "execution_count": 26,
   "metadata": {},
   "outputs": [],
   "source": [
    "#extract columns having data type as object (i.e non numeric)\n",
    "for col in telco:\n",
    "    if telco[col].dtypes =='object':\n",
    "        telco[col] = preprocessing.LabelEncoder().fit_transform(telco[col])"
   ]
  },
  {
   "cell_type": "code",
   "execution_count": 27,
   "metadata": {},
   "outputs": [
    {
     "data": {
      "text/plain": [
       "Account_Length      int64\n",
       "Vmail_Message       int64\n",
       "Day_Mins          float64\n",
       "Eve_Mins          float64\n",
       "Night_Mins        float64\n",
       "Intl_Mins         float64\n",
       "CustServ_Calls      int64\n",
       "Churn               int64\n",
       "Intl_Plan           int64\n",
       "Vmail_Plan          int64\n",
       "Day_Calls           int64\n",
       "Day_Charge        float64\n",
       "Eve_Calls           int64\n",
       "Eve_Charge        float64\n",
       "Night_Calls         int64\n",
       "Night_Charge      float64\n",
       "Intl_Calls          int64\n",
       "Intl_Charge       float64\n",
       "State               int64\n",
       "Area_Code           int64\n",
       "Phone               int64\n",
       "dtype: object"
      ]
     },
     "execution_count": 27,
     "metadata": {},
     "output_type": "execute_result"
    }
   ],
   "source": [
    "telco.dtypes"
   ]
  },
  {
   "cell_type": "code",
   "execution_count": 28,
   "metadata": {},
   "outputs": [
    {
     "data": {
      "text/plain": [
       "Account_Length     212\n",
       "Vmail_Message       46\n",
       "Day_Mins          1667\n",
       "Eve_Mins          1611\n",
       "Night_Mins        1591\n",
       "Intl_Mins          162\n",
       "CustServ_Calls      10\n",
       "Churn                2\n",
       "Intl_Plan            2\n",
       "Vmail_Plan           2\n",
       "Day_Calls          119\n",
       "Day_Charge        1667\n",
       "Eve_Calls          123\n",
       "Eve_Charge        1440\n",
       "Night_Calls        120\n",
       "Night_Charge       933\n",
       "Intl_Calls          21\n",
       "Intl_Charge        162\n",
       "State               51\n",
       "Area_Code            3\n",
       "Phone             3333\n",
       "dtype: int64"
      ]
     },
     "execution_count": 28,
     "metadata": {},
     "output_type": "execute_result"
    }
   ],
   "source": [
    "telco.nunique()"
   ]
  },
  {
   "cell_type": "markdown",
   "metadata": {},
   "source": [
    "### Drop unnecessary features - Phone, Area Code and State are unimportant columns in the context of our problem, I drop these"
   ]
  },
  {
   "cell_type": "code",
   "execution_count": 29,
   "metadata": {},
   "outputs": [],
   "source": [
    "telco = telco.drop(['State', 'Area_Code', 'Phone'], axis = 1)"
   ]
  },
  {
   "cell_type": "code",
   "execution_count": 30,
   "metadata": {
    "scrolled": true
   },
   "outputs": [
    {
     "data": {
      "text/html": [
       "<div>\n",
       "<style scoped>\n",
       "    .dataframe tbody tr th:only-of-type {\n",
       "        vertical-align: middle;\n",
       "    }\n",
       "\n",
       "    .dataframe tbody tr th {\n",
       "        vertical-align: top;\n",
       "    }\n",
       "\n",
       "    .dataframe thead th {\n",
       "        text-align: right;\n",
       "    }\n",
       "</style>\n",
       "<table border=\"1\" class=\"dataframe\">\n",
       "  <thead>\n",
       "    <tr style=\"text-align: right;\">\n",
       "      <th></th>\n",
       "      <th>Account_Length</th>\n",
       "      <th>Vmail_Message</th>\n",
       "      <th>Day_Mins</th>\n",
       "      <th>Eve_Mins</th>\n",
       "      <th>Night_Mins</th>\n",
       "      <th>Intl_Mins</th>\n",
       "      <th>CustServ_Calls</th>\n",
       "      <th>Churn</th>\n",
       "      <th>Intl_Plan</th>\n",
       "      <th>Vmail_Plan</th>\n",
       "      <th>Day_Calls</th>\n",
       "      <th>Day_Charge</th>\n",
       "      <th>Eve_Calls</th>\n",
       "      <th>Eve_Charge</th>\n",
       "      <th>Night_Calls</th>\n",
       "      <th>Night_Charge</th>\n",
       "      <th>Intl_Calls</th>\n",
       "      <th>Intl_Charge</th>\n",
       "    </tr>\n",
       "  </thead>\n",
       "  <tbody>\n",
       "    <tr>\n",
       "      <th>0</th>\n",
       "      <td>128</td>\n",
       "      <td>25</td>\n",
       "      <td>265.1</td>\n",
       "      <td>197.4</td>\n",
       "      <td>244.7</td>\n",
       "      <td>10.0</td>\n",
       "      <td>1</td>\n",
       "      <td>0</td>\n",
       "      <td>0</td>\n",
       "      <td>1</td>\n",
       "      <td>110</td>\n",
       "      <td>45.07</td>\n",
       "      <td>99</td>\n",
       "      <td>16.78</td>\n",
       "      <td>91</td>\n",
       "      <td>11.01</td>\n",
       "      <td>3</td>\n",
       "      <td>2.70</td>\n",
       "    </tr>\n",
       "    <tr>\n",
       "      <th>1</th>\n",
       "      <td>107</td>\n",
       "      <td>26</td>\n",
       "      <td>161.6</td>\n",
       "      <td>195.5</td>\n",
       "      <td>254.4</td>\n",
       "      <td>13.7</td>\n",
       "      <td>1</td>\n",
       "      <td>0</td>\n",
       "      <td>0</td>\n",
       "      <td>1</td>\n",
       "      <td>123</td>\n",
       "      <td>27.47</td>\n",
       "      <td>103</td>\n",
       "      <td>16.62</td>\n",
       "      <td>103</td>\n",
       "      <td>11.45</td>\n",
       "      <td>3</td>\n",
       "      <td>3.70</td>\n",
       "    </tr>\n",
       "    <tr>\n",
       "      <th>2</th>\n",
       "      <td>137</td>\n",
       "      <td>0</td>\n",
       "      <td>243.4</td>\n",
       "      <td>121.2</td>\n",
       "      <td>162.6</td>\n",
       "      <td>12.2</td>\n",
       "      <td>0</td>\n",
       "      <td>0</td>\n",
       "      <td>0</td>\n",
       "      <td>0</td>\n",
       "      <td>114</td>\n",
       "      <td>41.38</td>\n",
       "      <td>110</td>\n",
       "      <td>10.30</td>\n",
       "      <td>104</td>\n",
       "      <td>7.32</td>\n",
       "      <td>5</td>\n",
       "      <td>3.29</td>\n",
       "    </tr>\n",
       "    <tr>\n",
       "      <th>3</th>\n",
       "      <td>84</td>\n",
       "      <td>0</td>\n",
       "      <td>299.4</td>\n",
       "      <td>61.9</td>\n",
       "      <td>196.9</td>\n",
       "      <td>6.6</td>\n",
       "      <td>2</td>\n",
       "      <td>0</td>\n",
       "      <td>1</td>\n",
       "      <td>0</td>\n",
       "      <td>71</td>\n",
       "      <td>50.90</td>\n",
       "      <td>88</td>\n",
       "      <td>5.26</td>\n",
       "      <td>89</td>\n",
       "      <td>8.86</td>\n",
       "      <td>7</td>\n",
       "      <td>1.78</td>\n",
       "    </tr>\n",
       "    <tr>\n",
       "      <th>4</th>\n",
       "      <td>75</td>\n",
       "      <td>0</td>\n",
       "      <td>166.7</td>\n",
       "      <td>148.3</td>\n",
       "      <td>186.9</td>\n",
       "      <td>10.1</td>\n",
       "      <td>3</td>\n",
       "      <td>0</td>\n",
       "      <td>1</td>\n",
       "      <td>0</td>\n",
       "      <td>113</td>\n",
       "      <td>28.34</td>\n",
       "      <td>122</td>\n",
       "      <td>12.61</td>\n",
       "      <td>121</td>\n",
       "      <td>8.41</td>\n",
       "      <td>3</td>\n",
       "      <td>2.73</td>\n",
       "    </tr>\n",
       "  </tbody>\n",
       "</table>\n",
       "</div>"
      ],
      "text/plain": [
       "   Account_Length  Vmail_Message  Day_Mins  Eve_Mins  Night_Mins  Intl_Mins  \\\n",
       "0             128             25     265.1     197.4       244.7       10.0   \n",
       "1             107             26     161.6     195.5       254.4       13.7   \n",
       "2             137              0     243.4     121.2       162.6       12.2   \n",
       "3              84              0     299.4      61.9       196.9        6.6   \n",
       "4              75              0     166.7     148.3       186.9       10.1   \n",
       "\n",
       "   CustServ_Calls  Churn  Intl_Plan  Vmail_Plan  Day_Calls  Day_Charge  \\\n",
       "0               1      0          0           1        110       45.07   \n",
       "1               1      0          0           1        123       27.47   \n",
       "2               0      0          0           0        114       41.38   \n",
       "3               2      0          1           0         71       50.90   \n",
       "4               3      0          1           0        113       28.34   \n",
       "\n",
       "   Eve_Calls  Eve_Charge  Night_Calls  Night_Charge  Intl_Calls  Intl_Charge  \n",
       "0         99       16.78           91         11.01           3         2.70  \n",
       "1        103       16.62          103         11.45           3         3.70  \n",
       "2        110       10.30          104          7.32           5         3.29  \n",
       "3         88        5.26           89          8.86           7         1.78  \n",
       "4        122       12.61          121          8.41           3         2.73  "
      ]
     },
     "execution_count": 30,
     "metadata": {},
     "output_type": "execute_result"
    }
   ],
   "source": [
    "telco.head()"
   ]
  },
  {
   "cell_type": "markdown",
   "metadata": {},
   "source": [
    "In order to prepare a model, I will first take a look at the features and finalize the important features using which I will perform the churn prediction"
   ]
  },
  {
   "cell_type": "markdown",
   "metadata": {},
   "source": [
    "### Drop highly correlated features as they do not provide additional information to the model"
   ]
  },
  {
   "cell_type": "code",
   "execution_count": 31,
   "metadata": {
    "scrolled": true
   },
   "outputs": [
    {
     "data": {
      "text/html": [
       "<style  type=\"text/css\" >\n",
       "#T_75d33_row0_col0,#T_75d33_row1_col1,#T_75d33_row2_col2,#T_75d33_row2_col11,#T_75d33_row3_col3,#T_75d33_row3_col13,#T_75d33_row4_col4,#T_75d33_row4_col15,#T_75d33_row5_col5,#T_75d33_row5_col17,#T_75d33_row6_col6,#T_75d33_row7_col7,#T_75d33_row8_col8,#T_75d33_row9_col9,#T_75d33_row10_col10,#T_75d33_row11_col2,#T_75d33_row11_col11,#T_75d33_row12_col12,#T_75d33_row13_col3,#T_75d33_row13_col13,#T_75d33_row14_col14,#T_75d33_row15_col4,#T_75d33_row15_col15,#T_75d33_row16_col16,#T_75d33_row17_col5,#T_75d33_row17_col17{\n",
       "            background-color:  #023858;\n",
       "            color:  #f1f1f1;\n",
       "        }#T_75d33_row0_col1,#T_75d33_row2_col8,#T_75d33_row6_col9,#T_75d33_row11_col8,#T_75d33_row12_col1{\n",
       "            background-color:  #f4edf6;\n",
       "            color:  #000000;\n",
       "        }#T_75d33_row0_col2,#T_75d33_row0_col3,#T_75d33_row0_col4,#T_75d33_row0_col11,#T_75d33_row0_col13,#T_75d33_row0_col15,#T_75d33_row1_col2,#T_75d33_row1_col5,#T_75d33_row1_col11,#T_75d33_row1_col17,#T_75d33_row2_col0,#T_75d33_row3_col4,#T_75d33_row3_col15,#T_75d33_row4_col2,#T_75d33_row4_col6,#T_75d33_row4_col11,#T_75d33_row5_col4,#T_75d33_row5_col6,#T_75d33_row5_col15,#T_75d33_row6_col4,#T_75d33_row6_col12,#T_75d33_row6_col15,#T_75d33_row8_col12,#T_75d33_row9_col0,#T_75d33_row9_col5,#T_75d33_row9_col17,#T_75d33_row10_col12,#T_75d33_row11_col0,#T_75d33_row13_col4,#T_75d33_row13_col15,#T_75d33_row14_col12,#T_75d33_row15_col2,#T_75d33_row15_col6,#T_75d33_row15_col11,#T_75d33_row16_col4,#T_75d33_row16_col14,#T_75d33_row16_col15,#T_75d33_row17_col4,#T_75d33_row17_col6,#T_75d33_row17_col15{\n",
       "            background-color:  #fdf5fa;\n",
       "            color:  #000000;\n",
       "        }#T_75d33_row0_col5,#T_75d33_row0_col17,#T_75d33_row1_col14,#T_75d33_row2_col12,#T_75d33_row3_col14,#T_75d33_row7_col14,#T_75d33_row8_col10,#T_75d33_row11_col12,#T_75d33_row12_col4,#T_75d33_row12_col5,#T_75d33_row12_col6,#T_75d33_row12_col10,#T_75d33_row12_col14,#T_75d33_row12_col15,#T_75d33_row12_col17,#T_75d33_row13_col14,#T_75d33_row16_col3,#T_75d33_row16_col10,#T_75d33_row16_col13{\n",
       "            background-color:  #fbf4f9;\n",
       "            color:  #000000;\n",
       "        }#T_75d33_row0_col6,#T_75d33_row3_col2,#T_75d33_row3_col11,#T_75d33_row5_col0,#T_75d33_row5_col12,#T_75d33_row7_col12,#T_75d33_row10_col2,#T_75d33_row10_col11,#T_75d33_row13_col2,#T_75d33_row13_col11,#T_75d33_row16_col2,#T_75d33_row16_col11,#T_75d33_row17_col0,#T_75d33_row17_col12{\n",
       "            background-color:  #fcf4fa;\n",
       "            color:  #000000;\n",
       "        }#T_75d33_row0_col7,#T_75d33_row14_col9{\n",
       "            background-color:  #efe9f3;\n",
       "            color:  #000000;\n",
       "        }#T_75d33_row0_col8,#T_75d33_row2_col16,#T_75d33_row3_col16,#T_75d33_row9_col16,#T_75d33_row10_col0,#T_75d33_row10_col16,#T_75d33_row11_col16,#T_75d33_row13_col16{\n",
       "            background-color:  #f7f0f7;\n",
       "            color:  #000000;\n",
       "        }#T_75d33_row0_col9,#T_75d33_row16_col1{\n",
       "            background-color:  #f1ebf4;\n",
       "            color:  #000000;\n",
       "        }#T_75d33_row0_col10,#T_75d33_row8_col2,#T_75d33_row8_col5,#T_75d33_row8_col11,#T_75d33_row8_col17{\n",
       "            background-color:  #f6eff7;\n",
       "            color:  #000000;\n",
       "        }#T_75d33_row0_col12,#T_75d33_row2_col3,#T_75d33_row2_col10,#T_75d33_row2_col13,#T_75d33_row4_col14,#T_75d33_row7_col0,#T_75d33_row11_col3,#T_75d33_row11_col10,#T_75d33_row11_col13,#T_75d33_row12_col2,#T_75d33_row12_col11,#T_75d33_row14_col3,#T_75d33_row14_col13,#T_75d33_row15_col14,#T_75d33_row16_col12{\n",
       "            background-color:  #fbf3f9;\n",
       "            color:  #000000;\n",
       "        }#T_75d33_row0_col14,#T_75d33_row1_col12,#T_75d33_row2_col5,#T_75d33_row2_col17,#T_75d33_row3_col0,#T_75d33_row3_col5,#T_75d33_row3_col17,#T_75d33_row4_col0,#T_75d33_row5_col14,#T_75d33_row6_col5,#T_75d33_row6_col8,#T_75d33_row6_col14,#T_75d33_row6_col17,#T_75d33_row9_col6,#T_75d33_row9_col12,#T_75d33_row10_col6,#T_75d33_row11_col5,#T_75d33_row11_col17,#T_75d33_row13_col0,#T_75d33_row13_col5,#T_75d33_row13_col17,#T_75d33_row15_col0,#T_75d33_row16_col6,#T_75d33_row17_col14{\n",
       "            background-color:  #fef6fb;\n",
       "            color:  #000000;\n",
       "        }#T_75d33_row0_col16,#T_75d33_row6_col1,#T_75d33_row8_col16,#T_75d33_row12_col16{\n",
       "            background-color:  #f5eef6;\n",
       "            color:  #000000;\n",
       "        }#T_75d33_row1_col0,#T_75d33_row1_col6,#T_75d33_row1_col7,#T_75d33_row1_col10,#T_75d33_row2_col6,#T_75d33_row3_col6,#T_75d33_row4_col3,#T_75d33_row4_col12,#T_75d33_row4_col13,#T_75d33_row5_col3,#T_75d33_row5_col13,#T_75d33_row6_col0,#T_75d33_row6_col3,#T_75d33_row6_col13,#T_75d33_row9_col2,#T_75d33_row9_col10,#T_75d33_row9_col11,#T_75d33_row11_col6,#T_75d33_row12_col3,#T_75d33_row12_col13,#T_75d33_row13_col6,#T_75d33_row14_col6,#T_75d33_row15_col3,#T_75d33_row15_col12,#T_75d33_row15_col13,#T_75d33_row17_col3,#T_75d33_row17_col13{\n",
       "            background-color:  #fef6fa;\n",
       "            color:  #000000;\n",
       "        }#T_75d33_row1_col3,#T_75d33_row1_col4,#T_75d33_row1_col8,#T_75d33_row1_col13,#T_75d33_row1_col15,#T_75d33_row4_col16,#T_75d33_row8_col0,#T_75d33_row10_col5,#T_75d33_row10_col17,#T_75d33_row14_col2,#T_75d33_row14_col4,#T_75d33_row14_col11,#T_75d33_row14_col15,#T_75d33_row15_col16{\n",
       "            background-color:  #faf2f8;\n",
       "            color:  #000000;\n",
       "        }#T_75d33_row1_col9,#T_75d33_row9_col1{\n",
       "            background-color:  #034369;\n",
       "            color:  #f1f1f1;\n",
       "        }#T_75d33_row1_col16,#T_75d33_row7_col4,#T_75d33_row7_col15{\n",
       "            background-color:  #f5eff6;\n",
       "            color:  #000000;\n",
       "        }#T_75d33_row2_col1,#T_75d33_row4_col1,#T_75d33_row5_col1,#T_75d33_row7_col5,#T_75d33_row7_col17,#T_75d33_row10_col9,#T_75d33_row11_col1,#T_75d33_row12_col9,#T_75d33_row14_col1,#T_75d33_row15_col1,#T_75d33_row17_col1{\n",
       "            background-color:  #f2ecf5;\n",
       "            color:  #000000;\n",
       "        }#T_75d33_row2_col4,#T_75d33_row2_col15,#T_75d33_row6_col16,#T_75d33_row8_col14,#T_75d33_row9_col4,#T_75d33_row9_col8,#T_75d33_row9_col14,#T_75d33_row9_col15,#T_75d33_row10_col8,#T_75d33_row11_col4,#T_75d33_row11_col15,#T_75d33_row12_col0,#T_75d33_row12_col8,#T_75d33_row16_col0{\n",
       "            background-color:  #faf3f9;\n",
       "            color:  #000000;\n",
       "        }#T_75d33_row2_col7,#T_75d33_row7_col8,#T_75d33_row11_col7{\n",
       "            background-color:  #c6cce3;\n",
       "            color:  #000000;\n",
       "        }#T_75d33_row2_col9,#T_75d33_row5_col9,#T_75d33_row8_col1,#T_75d33_row11_col9,#T_75d33_row17_col9{\n",
       "            background-color:  #f1ebf5;\n",
       "            color:  #000000;\n",
       "        }#T_75d33_row2_col14,#T_75d33_row5_col10,#T_75d33_row7_col10,#T_75d33_row8_col3,#T_75d33_row8_col13,#T_75d33_row9_col3,#T_75d33_row9_col13,#T_75d33_row11_col14,#T_75d33_row14_col8,#T_75d33_row17_col10{\n",
       "            background-color:  #f9f2f8;\n",
       "            color:  #000000;\n",
       "        }#T_75d33_row3_col1,#T_75d33_row4_col9,#T_75d33_row8_col9,#T_75d33_row12_col7,#T_75d33_row13_col1,#T_75d33_row14_col7,#T_75d33_row15_col9,#T_75d33_row16_col9{\n",
       "            background-color:  #f0eaf4;\n",
       "            color:  #000000;\n",
       "        }#T_75d33_row3_col7,#T_75d33_row13_col7{\n",
       "            background-color:  #e0deed;\n",
       "            color:  #000000;\n",
       "        }#T_75d33_row3_col8,#T_75d33_row4_col10,#T_75d33_row10_col4,#T_75d33_row10_col15,#T_75d33_row13_col8,#T_75d33_row14_col16,#T_75d33_row15_col10,#T_75d33_row16_col5,#T_75d33_row16_col7,#T_75d33_row16_col8,#T_75d33_row16_col17{\n",
       "            background-color:  #f8f1f8;\n",
       "            color:  #000000;\n",
       "        }#T_75d33_row3_col9,#T_75d33_row7_col3,#T_75d33_row7_col13,#T_75d33_row10_col7,#T_75d33_row13_col9{\n",
       "            background-color:  #eee9f3;\n",
       "            color:  #000000;\n",
       "        }#T_75d33_row3_col10,#T_75d33_row3_col12,#T_75d33_row4_col5,#T_75d33_row4_col8,#T_75d33_row4_col17,#T_75d33_row5_col2,#T_75d33_row5_col11,#T_75d33_row6_col2,#T_75d33_row6_col10,#T_75d33_row6_col11,#T_75d33_row7_col1,#T_75d33_row7_col9,#T_75d33_row7_col16,#T_75d33_row8_col4,#T_75d33_row8_col6,#T_75d33_row8_col15,#T_75d33_row9_col7,#T_75d33_row10_col3,#T_75d33_row10_col13,#T_75d33_row10_col14,#T_75d33_row13_col10,#T_75d33_row13_col12,#T_75d33_row14_col0,#T_75d33_row14_col5,#T_75d33_row14_col10,#T_75d33_row14_col17,#T_75d33_row15_col5,#T_75d33_row15_col8,#T_75d33_row15_col17,#T_75d33_row17_col2,#T_75d33_row17_col11{\n",
       "            background-color:  #fff7fb;\n",
       "            color:  #000000;\n",
       "        }#T_75d33_row4_col7,#T_75d33_row15_col7{\n",
       "            background-color:  #ede7f2;\n",
       "            color:  #000000;\n",
       "        }#T_75d33_row5_col7,#T_75d33_row17_col7{\n",
       "            background-color:  #e6e2ef;\n",
       "            color:  #000000;\n",
       "        }#T_75d33_row5_col8,#T_75d33_row10_col1,#T_75d33_row17_col8{\n",
       "            background-color:  #f4eef6;\n",
       "            color:  #000000;\n",
       "        }#T_75d33_row5_col16,#T_75d33_row17_col16{\n",
       "            background-color:  #f3edf5;\n",
       "            color:  #000000;\n",
       "        }#T_75d33_row6_col7{\n",
       "            background-color:  #c5cce3;\n",
       "            color:  #000000;\n",
       "        }#T_75d33_row7_col2,#T_75d33_row7_col11{\n",
       "            background-color:  #d8d7e9;\n",
       "            color:  #000000;\n",
       "        }#T_75d33_row7_col6{\n",
       "            background-color:  #d5d5e8;\n",
       "            color:  #000000;\n",
       "        }#T_75d33_row8_col7{\n",
       "            background-color:  #b5c4df;\n",
       "            color:  #000000;\n",
       "        }</style><table id=\"T_75d33_\" ><thead>    <tr>        <th class=\"blank level0\" ></th>        <th class=\"col_heading level0 col0\" >Account_Length</th>        <th class=\"col_heading level0 col1\" >Vmail_Message</th>        <th class=\"col_heading level0 col2\" >Day_Mins</th>        <th class=\"col_heading level0 col3\" >Eve_Mins</th>        <th class=\"col_heading level0 col4\" >Night_Mins</th>        <th class=\"col_heading level0 col5\" >Intl_Mins</th>        <th class=\"col_heading level0 col6\" >CustServ_Calls</th>        <th class=\"col_heading level0 col7\" >Churn</th>        <th class=\"col_heading level0 col8\" >Intl_Plan</th>        <th class=\"col_heading level0 col9\" >Vmail_Plan</th>        <th class=\"col_heading level0 col10\" >Day_Calls</th>        <th class=\"col_heading level0 col11\" >Day_Charge</th>        <th class=\"col_heading level0 col12\" >Eve_Calls</th>        <th class=\"col_heading level0 col13\" >Eve_Charge</th>        <th class=\"col_heading level0 col14\" >Night_Calls</th>        <th class=\"col_heading level0 col15\" >Night_Charge</th>        <th class=\"col_heading level0 col16\" >Intl_Calls</th>        <th class=\"col_heading level0 col17\" >Intl_Charge</th>    </tr></thead><tbody>\n",
       "                <tr>\n",
       "                        <th id=\"T_75d33_level0_row0\" class=\"row_heading level0 row0\" >Account_Length</th>\n",
       "                        <td id=\"T_75d33_row0_col0\" class=\"data row0 col0\" >1.000000</td>\n",
       "                        <td id=\"T_75d33_row0_col1\" class=\"data row0 col1\" >-0.004628</td>\n",
       "                        <td id=\"T_75d33_row0_col2\" class=\"data row0 col2\" >0.006216</td>\n",
       "                        <td id=\"T_75d33_row0_col3\" class=\"data row0 col3\" >-0.006757</td>\n",
       "                        <td id=\"T_75d33_row0_col4\" class=\"data row0 col4\" >-0.008955</td>\n",
       "                        <td id=\"T_75d33_row0_col5\" class=\"data row0 col5\" >0.009514</td>\n",
       "                        <td id=\"T_75d33_row0_col6\" class=\"data row0 col6\" >-0.003796</td>\n",
       "                        <td id=\"T_75d33_row0_col7\" class=\"data row0 col7\" >0.016541</td>\n",
       "                        <td id=\"T_75d33_row0_col8\" class=\"data row0 col8\" >0.024735</td>\n",
       "                        <td id=\"T_75d33_row0_col9\" class=\"data row0 col9\" >0.002918</td>\n",
       "                        <td id=\"T_75d33_row0_col10\" class=\"data row0 col10\" >0.038470</td>\n",
       "                        <td id=\"T_75d33_row0_col11\" class=\"data row0 col11\" >0.006214</td>\n",
       "                        <td id=\"T_75d33_row0_col12\" class=\"data row0 col12\" >0.019260</td>\n",
       "                        <td id=\"T_75d33_row0_col13\" class=\"data row0 col13\" >-0.006745</td>\n",
       "                        <td id=\"T_75d33_row0_col14\" class=\"data row0 col14\" >-0.013176</td>\n",
       "                        <td id=\"T_75d33_row0_col15\" class=\"data row0 col15\" >-0.008960</td>\n",
       "                        <td id=\"T_75d33_row0_col16\" class=\"data row0 col16\" >0.020661</td>\n",
       "                        <td id=\"T_75d33_row0_col17\" class=\"data row0 col17\" >0.009546</td>\n",
       "            </tr>\n",
       "            <tr>\n",
       "                        <th id=\"T_75d33_level0_row1\" class=\"row_heading level0 row1\" >Vmail_Message</th>\n",
       "                        <td id=\"T_75d33_row1_col0\" class=\"data row1 col0\" >-0.004628</td>\n",
       "                        <td id=\"T_75d33_row1_col1\" class=\"data row1 col1\" >1.000000</td>\n",
       "                        <td id=\"T_75d33_row1_col2\" class=\"data row1 col2\" >0.000778</td>\n",
       "                        <td id=\"T_75d33_row1_col3\" class=\"data row1 col3\" >0.017562</td>\n",
       "                        <td id=\"T_75d33_row1_col4\" class=\"data row1 col4\" >0.007681</td>\n",
       "                        <td id=\"T_75d33_row1_col5\" class=\"data row1 col5\" >0.002856</td>\n",
       "                        <td id=\"T_75d33_row1_col6\" class=\"data row1 col6\" >-0.013263</td>\n",
       "                        <td id=\"T_75d33_row1_col7\" class=\"data row1 col7\" >-0.089728</td>\n",
       "                        <td id=\"T_75d33_row1_col8\" class=\"data row1 col8\" >0.008745</td>\n",
       "                        <td id=\"T_75d33_row1_col9\" class=\"data row1 col9\" >0.956927</td>\n",
       "                        <td id=\"T_75d33_row1_col10\" class=\"data row1 col10\" >-0.009548</td>\n",
       "                        <td id=\"T_75d33_row1_col11\" class=\"data row1 col11\" >0.000776</td>\n",
       "                        <td id=\"T_75d33_row1_col12\" class=\"data row1 col12\" >-0.005864</td>\n",
       "                        <td id=\"T_75d33_row1_col13\" class=\"data row1 col13\" >0.017578</td>\n",
       "                        <td id=\"T_75d33_row1_col14\" class=\"data row1 col14\" >0.007123</td>\n",
       "                        <td id=\"T_75d33_row1_col15\" class=\"data row1 col15\" >0.007663</td>\n",
       "                        <td id=\"T_75d33_row1_col16\" class=\"data row1 col16\" >0.013957</td>\n",
       "                        <td id=\"T_75d33_row1_col17\" class=\"data row1 col17\" >0.002884</td>\n",
       "            </tr>\n",
       "            <tr>\n",
       "                        <th id=\"T_75d33_level0_row2\" class=\"row_heading level0 row2\" >Day_Mins</th>\n",
       "                        <td id=\"T_75d33_row2_col0\" class=\"data row2 col0\" >0.006216</td>\n",
       "                        <td id=\"T_75d33_row2_col1\" class=\"data row2 col1\" >0.000778</td>\n",
       "                        <td id=\"T_75d33_row2_col2\" class=\"data row2 col2\" >1.000000</td>\n",
       "                        <td id=\"T_75d33_row2_col3\" class=\"data row2 col3\" >0.007043</td>\n",
       "                        <td id=\"T_75d33_row2_col4\" class=\"data row2 col4\" >0.004323</td>\n",
       "                        <td id=\"T_75d33_row2_col5\" class=\"data row2 col5\" >-0.010155</td>\n",
       "                        <td id=\"T_75d33_row2_col6\" class=\"data row2 col6\" >-0.013423</td>\n",
       "                        <td id=\"T_75d33_row2_col7\" class=\"data row2 col7\" >0.205151</td>\n",
       "                        <td id=\"T_75d33_row2_col8\" class=\"data row2 col8\" >0.049396</td>\n",
       "                        <td id=\"T_75d33_row2_col9\" class=\"data row2 col9\" >-0.001684</td>\n",
       "                        <td id=\"T_75d33_row2_col10\" class=\"data row2 col10\" >0.006750</td>\n",
       "                        <td id=\"T_75d33_row2_col11\" class=\"data row2 col11\" >1.000000</td>\n",
       "                        <td id=\"T_75d33_row2_col12\" class=\"data row2 col12\" >0.015769</td>\n",
       "                        <td id=\"T_75d33_row2_col13\" class=\"data row2 col13\" >0.007029</td>\n",
       "                        <td id=\"T_75d33_row2_col14\" class=\"data row2 col14\" >0.022972</td>\n",
       "                        <td id=\"T_75d33_row2_col15\" class=\"data row2 col15\" >0.004300</td>\n",
       "                        <td id=\"T_75d33_row2_col16\" class=\"data row2 col16\" >0.008033</td>\n",
       "                        <td id=\"T_75d33_row2_col17\" class=\"data row2 col17\" >-0.010092</td>\n",
       "            </tr>\n",
       "            <tr>\n",
       "                        <th id=\"T_75d33_level0_row3\" class=\"row_heading level0 row3\" >Eve_Mins</th>\n",
       "                        <td id=\"T_75d33_row3_col0\" class=\"data row3 col0\" >-0.006757</td>\n",
       "                        <td id=\"T_75d33_row3_col1\" class=\"data row3 col1\" >0.017562</td>\n",
       "                        <td id=\"T_75d33_row3_col2\" class=\"data row3 col2\" >0.007043</td>\n",
       "                        <td id=\"T_75d33_row3_col3\" class=\"data row3 col3\" >1.000000</td>\n",
       "                        <td id=\"T_75d33_row3_col4\" class=\"data row3 col4\" >-0.012584</td>\n",
       "                        <td id=\"T_75d33_row3_col5\" class=\"data row3 col5\" >-0.011035</td>\n",
       "                        <td id=\"T_75d33_row3_col6\" class=\"data row3 col6\" >-0.012985</td>\n",
       "                        <td id=\"T_75d33_row3_col7\" class=\"data row3 col7\" >0.092796</td>\n",
       "                        <td id=\"T_75d33_row3_col8\" class=\"data row3 col8\" >0.019100</td>\n",
       "                        <td id=\"T_75d33_row3_col9\" class=\"data row3 col9\" >0.021545</td>\n",
       "                        <td id=\"T_75d33_row3_col10\" class=\"data row3 col10\" >-0.021451</td>\n",
       "                        <td id=\"T_75d33_row3_col11\" class=\"data row3 col11\" >0.007050</td>\n",
       "                        <td id=\"T_75d33_row3_col12\" class=\"data row3 col12\" >-0.011430</td>\n",
       "                        <td id=\"T_75d33_row3_col13\" class=\"data row3 col13\" >1.000000</td>\n",
       "                        <td id=\"T_75d33_row3_col14\" class=\"data row3 col14\" >0.007586</td>\n",
       "                        <td id=\"T_75d33_row3_col15\" class=\"data row3 col15\" >-0.012593</td>\n",
       "                        <td id=\"T_75d33_row3_col16\" class=\"data row3 col16\" >0.002541</td>\n",
       "                        <td id=\"T_75d33_row3_col17\" class=\"data row3 col17\" >-0.011067</td>\n",
       "            </tr>\n",
       "            <tr>\n",
       "                        <th id=\"T_75d33_level0_row4\" class=\"row_heading level0 row4\" >Night_Mins</th>\n",
       "                        <td id=\"T_75d33_row4_col0\" class=\"data row4 col0\" >-0.008955</td>\n",
       "                        <td id=\"T_75d33_row4_col1\" class=\"data row4 col1\" >0.007681</td>\n",
       "                        <td id=\"T_75d33_row4_col2\" class=\"data row4 col2\" >0.004323</td>\n",
       "                        <td id=\"T_75d33_row4_col3\" class=\"data row4 col3\" >-0.012584</td>\n",
       "                        <td id=\"T_75d33_row4_col4\" class=\"data row4 col4\" >1.000000</td>\n",
       "                        <td id=\"T_75d33_row4_col5\" class=\"data row4 col5\" >-0.015207</td>\n",
       "                        <td id=\"T_75d33_row4_col6\" class=\"data row4 col6\" >-0.009288</td>\n",
       "                        <td id=\"T_75d33_row4_col7\" class=\"data row4 col7\" >0.035493</td>\n",
       "                        <td id=\"T_75d33_row4_col8\" class=\"data row4 col8\" >-0.028905</td>\n",
       "                        <td id=\"T_75d33_row4_col9\" class=\"data row4 col9\" >0.006079</td>\n",
       "                        <td id=\"T_75d33_row4_col10\" class=\"data row4 col10\" >0.022938</td>\n",
       "                        <td id=\"T_75d33_row4_col11\" class=\"data row4 col11\" >0.004324</td>\n",
       "                        <td id=\"T_75d33_row4_col12\" class=\"data row4 col12\" >-0.002093</td>\n",
       "                        <td id=\"T_75d33_row4_col13\" class=\"data row4 col13\" >-0.012592</td>\n",
       "                        <td id=\"T_75d33_row4_col14\" class=\"data row4 col14\" >0.011204</td>\n",
       "                        <td id=\"T_75d33_row4_col15\" class=\"data row4 col15\" >0.999999</td>\n",
       "                        <td id=\"T_75d33_row4_col16\" class=\"data row4 col16\" >-0.012353</td>\n",
       "                        <td id=\"T_75d33_row4_col17\" class=\"data row4 col17\" >-0.015180</td>\n",
       "            </tr>\n",
       "            <tr>\n",
       "                        <th id=\"T_75d33_level0_row5\" class=\"row_heading level0 row5\" >Intl_Mins</th>\n",
       "                        <td id=\"T_75d33_row5_col0\" class=\"data row5 col0\" >0.009514</td>\n",
       "                        <td id=\"T_75d33_row5_col1\" class=\"data row5 col1\" >0.002856</td>\n",
       "                        <td id=\"T_75d33_row5_col2\" class=\"data row5 col2\" >-0.010155</td>\n",
       "                        <td id=\"T_75d33_row5_col3\" class=\"data row5 col3\" >-0.011035</td>\n",
       "                        <td id=\"T_75d33_row5_col4\" class=\"data row5 col4\" >-0.015207</td>\n",
       "                        <td id=\"T_75d33_row5_col5\" class=\"data row5 col5\" >1.000000</td>\n",
       "                        <td id=\"T_75d33_row5_col6\" class=\"data row5 col6\" >-0.009640</td>\n",
       "                        <td id=\"T_75d33_row5_col7\" class=\"data row5 col7\" >0.068239</td>\n",
       "                        <td id=\"T_75d33_row5_col8\" class=\"data row5 col8\" >0.045871</td>\n",
       "                        <td id=\"T_75d33_row5_col9\" class=\"data row5 col9\" >-0.001318</td>\n",
       "                        <td id=\"T_75d33_row5_col10\" class=\"data row5 col10\" >0.021565</td>\n",
       "                        <td id=\"T_75d33_row5_col11\" class=\"data row5 col11\" >-0.010157</td>\n",
       "                        <td id=\"T_75d33_row5_col12\" class=\"data row5 col12\" >0.008703</td>\n",
       "                        <td id=\"T_75d33_row5_col13\" class=\"data row5 col13\" >-0.011043</td>\n",
       "                        <td id=\"T_75d33_row5_col14\" class=\"data row5 col14\" >-0.013605</td>\n",
       "                        <td id=\"T_75d33_row5_col15\" class=\"data row5 col15\" >-0.015214</td>\n",
       "                        <td id=\"T_75d33_row5_col16\" class=\"data row5 col16\" >0.032304</td>\n",
       "                        <td id=\"T_75d33_row5_col17\" class=\"data row5 col17\" >0.999993</td>\n",
       "            </tr>\n",
       "            <tr>\n",
       "                        <th id=\"T_75d33_level0_row6\" class=\"row_heading level0 row6\" >CustServ_Calls</th>\n",
       "                        <td id=\"T_75d33_row6_col0\" class=\"data row6 col0\" >-0.003796</td>\n",
       "                        <td id=\"T_75d33_row6_col1\" class=\"data row6 col1\" >-0.013263</td>\n",
       "                        <td id=\"T_75d33_row6_col2\" class=\"data row6 col2\" >-0.013423</td>\n",
       "                        <td id=\"T_75d33_row6_col3\" class=\"data row6 col3\" >-0.012985</td>\n",
       "                        <td id=\"T_75d33_row6_col4\" class=\"data row6 col4\" >-0.009288</td>\n",
       "                        <td id=\"T_75d33_row6_col5\" class=\"data row6 col5\" >-0.009640</td>\n",
       "                        <td id=\"T_75d33_row6_col6\" class=\"data row6 col6\" >1.000000</td>\n",
       "                        <td id=\"T_75d33_row6_col7\" class=\"data row6 col7\" >0.208750</td>\n",
       "                        <td id=\"T_75d33_row6_col8\" class=\"data row6 col8\" >-0.024522</td>\n",
       "                        <td id=\"T_75d33_row6_col9\" class=\"data row6 col9\" >-0.017824</td>\n",
       "                        <td id=\"T_75d33_row6_col10\" class=\"data row6 col10\" >-0.018942</td>\n",
       "                        <td id=\"T_75d33_row6_col11\" class=\"data row6 col11\" >-0.013427</td>\n",
       "                        <td id=\"T_75d33_row6_col12\" class=\"data row6 col12\" >0.002423</td>\n",
       "                        <td id=\"T_75d33_row6_col13\" class=\"data row6 col13\" >-0.012987</td>\n",
       "                        <td id=\"T_75d33_row6_col14\" class=\"data row6 col14\" >-0.012802</td>\n",
       "                        <td id=\"T_75d33_row6_col15\" class=\"data row6 col15\" >-0.009277</td>\n",
       "                        <td id=\"T_75d33_row6_col16\" class=\"data row6 col16\" >-0.017561</td>\n",
       "                        <td id=\"T_75d33_row6_col17\" class=\"data row6 col17\" >-0.009675</td>\n",
       "            </tr>\n",
       "            <tr>\n",
       "                        <th id=\"T_75d33_level0_row7\" class=\"row_heading level0 row7\" >Churn</th>\n",
       "                        <td id=\"T_75d33_row7_col0\" class=\"data row7 col0\" >0.016541</td>\n",
       "                        <td id=\"T_75d33_row7_col1\" class=\"data row7 col1\" >-0.089728</td>\n",
       "                        <td id=\"T_75d33_row7_col2\" class=\"data row7 col2\" >0.205151</td>\n",
       "                        <td id=\"T_75d33_row7_col3\" class=\"data row7 col3\" >0.092796</td>\n",
       "                        <td id=\"T_75d33_row7_col4\" class=\"data row7 col4\" >0.035493</td>\n",
       "                        <td id=\"T_75d33_row7_col5\" class=\"data row7 col5\" >0.068239</td>\n",
       "                        <td id=\"T_75d33_row7_col6\" class=\"data row7 col6\" >0.208750</td>\n",
       "                        <td id=\"T_75d33_row7_col7\" class=\"data row7 col7\" >1.000000</td>\n",
       "                        <td id=\"T_75d33_row7_col8\" class=\"data row7 col8\" >0.259852</td>\n",
       "                        <td id=\"T_75d33_row7_col9\" class=\"data row7 col9\" >-0.102148</td>\n",
       "                        <td id=\"T_75d33_row7_col10\" class=\"data row7 col10\" >0.018459</td>\n",
       "                        <td id=\"T_75d33_row7_col11\" class=\"data row7 col11\" >0.205151</td>\n",
       "                        <td id=\"T_75d33_row7_col12\" class=\"data row7 col12\" >0.009233</td>\n",
       "                        <td id=\"T_75d33_row7_col13\" class=\"data row7 col13\" >0.092786</td>\n",
       "                        <td id=\"T_75d33_row7_col14\" class=\"data row7 col14\" >0.006141</td>\n",
       "                        <td id=\"T_75d33_row7_col15\" class=\"data row7 col15\" >0.035496</td>\n",
       "                        <td id=\"T_75d33_row7_col16\" class=\"data row7 col16\" >-0.052844</td>\n",
       "                        <td id=\"T_75d33_row7_col17\" class=\"data row7 col17\" >0.068259</td>\n",
       "            </tr>\n",
       "            <tr>\n",
       "                        <th id=\"T_75d33_level0_row8\" class=\"row_heading level0 row8\" >Intl_Plan</th>\n",
       "                        <td id=\"T_75d33_row8_col0\" class=\"data row8 col0\" >0.024735</td>\n",
       "                        <td id=\"T_75d33_row8_col1\" class=\"data row8 col1\" >0.008745</td>\n",
       "                        <td id=\"T_75d33_row8_col2\" class=\"data row8 col2\" >0.049396</td>\n",
       "                        <td id=\"T_75d33_row8_col3\" class=\"data row8 col3\" >0.019100</td>\n",
       "                        <td id=\"T_75d33_row8_col4\" class=\"data row8 col4\" >-0.028905</td>\n",
       "                        <td id=\"T_75d33_row8_col5\" class=\"data row8 col5\" >0.045871</td>\n",
       "                        <td id=\"T_75d33_row8_col6\" class=\"data row8 col6\" >-0.024522</td>\n",
       "                        <td id=\"T_75d33_row8_col7\" class=\"data row8 col7\" >0.259852</td>\n",
       "                        <td id=\"T_75d33_row8_col8\" class=\"data row8 col8\" >1.000000</td>\n",
       "                        <td id=\"T_75d33_row8_col9\" class=\"data row8 col9\" >0.006006</td>\n",
       "                        <td id=\"T_75d33_row8_col10\" class=\"data row8 col10\" >0.003755</td>\n",
       "                        <td id=\"T_75d33_row8_col11\" class=\"data row8 col11\" >0.049398</td>\n",
       "                        <td id=\"T_75d33_row8_col12\" class=\"data row8 col12\" >0.006114</td>\n",
       "                        <td id=\"T_75d33_row8_col13\" class=\"data row8 col13\" >0.019106</td>\n",
       "                        <td id=\"T_75d33_row8_col14\" class=\"data row8 col14\" >0.012451</td>\n",
       "                        <td id=\"T_75d33_row8_col15\" class=\"data row8 col15\" >-0.028913</td>\n",
       "                        <td id=\"T_75d33_row8_col16\" class=\"data row8 col16\" >0.017366</td>\n",
       "                        <td id=\"T_75d33_row8_col17\" class=\"data row8 col17\" >0.045780</td>\n",
       "            </tr>\n",
       "            <tr>\n",
       "                        <th id=\"T_75d33_level0_row9\" class=\"row_heading level0 row9\" >Vmail_Plan</th>\n",
       "                        <td id=\"T_75d33_row9_col0\" class=\"data row9 col0\" >0.002918</td>\n",
       "                        <td id=\"T_75d33_row9_col1\" class=\"data row9 col1\" >0.956927</td>\n",
       "                        <td id=\"T_75d33_row9_col2\" class=\"data row9 col2\" >-0.001684</td>\n",
       "                        <td id=\"T_75d33_row9_col3\" class=\"data row9 col3\" >0.021545</td>\n",
       "                        <td id=\"T_75d33_row9_col4\" class=\"data row9 col4\" >0.006079</td>\n",
       "                        <td id=\"T_75d33_row9_col5\" class=\"data row9 col5\" >-0.001318</td>\n",
       "                        <td id=\"T_75d33_row9_col6\" class=\"data row9 col6\" >-0.017824</td>\n",
       "                        <td id=\"T_75d33_row9_col7\" class=\"data row9 col7\" >-0.102148</td>\n",
       "                        <td id=\"T_75d33_row9_col8\" class=\"data row9 col8\" >0.006006</td>\n",
       "                        <td id=\"T_75d33_row9_col9\" class=\"data row9 col9\" >1.000000</td>\n",
       "                        <td id=\"T_75d33_row9_col10\" class=\"data row9 col10\" >-0.011086</td>\n",
       "                        <td id=\"T_75d33_row9_col11\" class=\"data row9 col11\" >-0.001686</td>\n",
       "                        <td id=\"T_75d33_row9_col12\" class=\"data row9 col12\" >-0.006444</td>\n",
       "                        <td id=\"T_75d33_row9_col13\" class=\"data row9 col13\" >0.021559</td>\n",
       "                        <td id=\"T_75d33_row9_col14\" class=\"data row9 col14\" >0.015553</td>\n",
       "                        <td id=\"T_75d33_row9_col15\" class=\"data row9 col15\" >0.006064</td>\n",
       "                        <td id=\"T_75d33_row9_col16\" class=\"data row9 col16\" >0.007618</td>\n",
       "                        <td id=\"T_75d33_row9_col17\" class=\"data row9 col17\" >-0.001276</td>\n",
       "            </tr>\n",
       "            <tr>\n",
       "                        <th id=\"T_75d33_level0_row10\" class=\"row_heading level0 row10\" >Day_Calls</th>\n",
       "                        <td id=\"T_75d33_row10_col0\" class=\"data row10 col0\" >0.038470</td>\n",
       "                        <td id=\"T_75d33_row10_col1\" class=\"data row10 col1\" >-0.009548</td>\n",
       "                        <td id=\"T_75d33_row10_col2\" class=\"data row10 col2\" >0.006750</td>\n",
       "                        <td id=\"T_75d33_row10_col3\" class=\"data row10 col3\" >-0.021451</td>\n",
       "                        <td id=\"T_75d33_row10_col4\" class=\"data row10 col4\" >0.022938</td>\n",
       "                        <td id=\"T_75d33_row10_col5\" class=\"data row10 col5\" >0.021565</td>\n",
       "                        <td id=\"T_75d33_row10_col6\" class=\"data row10 col6\" >-0.018942</td>\n",
       "                        <td id=\"T_75d33_row10_col7\" class=\"data row10 col7\" >0.018459</td>\n",
       "                        <td id=\"T_75d33_row10_col8\" class=\"data row10 col8\" >0.003755</td>\n",
       "                        <td id=\"T_75d33_row10_col9\" class=\"data row10 col9\" >-0.011086</td>\n",
       "                        <td id=\"T_75d33_row10_col10\" class=\"data row10 col10\" >1.000000</td>\n",
       "                        <td id=\"T_75d33_row10_col11\" class=\"data row10 col11\" >0.006753</td>\n",
       "                        <td id=\"T_75d33_row10_col12\" class=\"data row10 col12\" >0.006462</td>\n",
       "                        <td id=\"T_75d33_row10_col13\" class=\"data row10 col13\" >-0.021449</td>\n",
       "                        <td id=\"T_75d33_row10_col14\" class=\"data row10 col14\" >-0.019557</td>\n",
       "                        <td id=\"T_75d33_row10_col15\" class=\"data row10 col15\" >0.022927</td>\n",
       "                        <td id=\"T_75d33_row10_col16\" class=\"data row10 col16\" >0.004574</td>\n",
       "                        <td id=\"T_75d33_row10_col17\" class=\"data row10 col17\" >0.021666</td>\n",
       "            </tr>\n",
       "            <tr>\n",
       "                        <th id=\"T_75d33_level0_row11\" class=\"row_heading level0 row11\" >Day_Charge</th>\n",
       "                        <td id=\"T_75d33_row11_col0\" class=\"data row11 col0\" >0.006214</td>\n",
       "                        <td id=\"T_75d33_row11_col1\" class=\"data row11 col1\" >0.000776</td>\n",
       "                        <td id=\"T_75d33_row11_col2\" class=\"data row11 col2\" >1.000000</td>\n",
       "                        <td id=\"T_75d33_row11_col3\" class=\"data row11 col3\" >0.007050</td>\n",
       "                        <td id=\"T_75d33_row11_col4\" class=\"data row11 col4\" >0.004324</td>\n",
       "                        <td id=\"T_75d33_row11_col5\" class=\"data row11 col5\" >-0.010157</td>\n",
       "                        <td id=\"T_75d33_row11_col6\" class=\"data row11 col6\" >-0.013427</td>\n",
       "                        <td id=\"T_75d33_row11_col7\" class=\"data row11 col7\" >0.205151</td>\n",
       "                        <td id=\"T_75d33_row11_col8\" class=\"data row11 col8\" >0.049398</td>\n",
       "                        <td id=\"T_75d33_row11_col9\" class=\"data row11 col9\" >-0.001686</td>\n",
       "                        <td id=\"T_75d33_row11_col10\" class=\"data row11 col10\" >0.006753</td>\n",
       "                        <td id=\"T_75d33_row11_col11\" class=\"data row11 col11\" >1.000000</td>\n",
       "                        <td id=\"T_75d33_row11_col12\" class=\"data row11 col12\" >0.015769</td>\n",
       "                        <td id=\"T_75d33_row11_col13\" class=\"data row11 col13\" >0.007036</td>\n",
       "                        <td id=\"T_75d33_row11_col14\" class=\"data row11 col14\" >0.022972</td>\n",
       "                        <td id=\"T_75d33_row11_col15\" class=\"data row11 col15\" >0.004301</td>\n",
       "                        <td id=\"T_75d33_row11_col16\" class=\"data row11 col16\" >0.008032</td>\n",
       "                        <td id=\"T_75d33_row11_col17\" class=\"data row11 col17\" >-0.010094</td>\n",
       "            </tr>\n",
       "            <tr>\n",
       "                        <th id=\"T_75d33_level0_row12\" class=\"row_heading level0 row12\" >Eve_Calls</th>\n",
       "                        <td id=\"T_75d33_row12_col0\" class=\"data row12 col0\" >0.019260</td>\n",
       "                        <td id=\"T_75d33_row12_col1\" class=\"data row12 col1\" >-0.005864</td>\n",
       "                        <td id=\"T_75d33_row12_col2\" class=\"data row12 col2\" >0.015769</td>\n",
       "                        <td id=\"T_75d33_row12_col3\" class=\"data row12 col3\" >-0.011430</td>\n",
       "                        <td id=\"T_75d33_row12_col4\" class=\"data row12 col4\" >-0.002093</td>\n",
       "                        <td id=\"T_75d33_row12_col5\" class=\"data row12 col5\" >0.008703</td>\n",
       "                        <td id=\"T_75d33_row12_col6\" class=\"data row12 col6\" >0.002423</td>\n",
       "                        <td id=\"T_75d33_row12_col7\" class=\"data row12 col7\" >0.009233</td>\n",
       "                        <td id=\"T_75d33_row12_col8\" class=\"data row12 col8\" >0.006114</td>\n",
       "                        <td id=\"T_75d33_row12_col9\" class=\"data row12 col9\" >-0.006444</td>\n",
       "                        <td id=\"T_75d33_row12_col10\" class=\"data row12 col10\" >0.006462</td>\n",
       "                        <td id=\"T_75d33_row12_col11\" class=\"data row12 col11\" >0.015769</td>\n",
       "                        <td id=\"T_75d33_row12_col12\" class=\"data row12 col12\" >1.000000</td>\n",
       "                        <td id=\"T_75d33_row12_col13\" class=\"data row12 col13\" >-0.011423</td>\n",
       "                        <td id=\"T_75d33_row12_col14\" class=\"data row12 col14\" >0.007710</td>\n",
       "                        <td id=\"T_75d33_row12_col15\" class=\"data row12 col15\" >-0.002056</td>\n",
       "                        <td id=\"T_75d33_row12_col16\" class=\"data row12 col16\" >0.017434</td>\n",
       "                        <td id=\"T_75d33_row12_col17\" class=\"data row12 col17\" >0.008674</td>\n",
       "            </tr>\n",
       "            <tr>\n",
       "                        <th id=\"T_75d33_level0_row13\" class=\"row_heading level0 row13\" >Eve_Charge</th>\n",
       "                        <td id=\"T_75d33_row13_col0\" class=\"data row13 col0\" >-0.006745</td>\n",
       "                        <td id=\"T_75d33_row13_col1\" class=\"data row13 col1\" >0.017578</td>\n",
       "                        <td id=\"T_75d33_row13_col2\" class=\"data row13 col2\" >0.007029</td>\n",
       "                        <td id=\"T_75d33_row13_col3\" class=\"data row13 col3\" >1.000000</td>\n",
       "                        <td id=\"T_75d33_row13_col4\" class=\"data row13 col4\" >-0.012592</td>\n",
       "                        <td id=\"T_75d33_row13_col5\" class=\"data row13 col5\" >-0.011043</td>\n",
       "                        <td id=\"T_75d33_row13_col6\" class=\"data row13 col6\" >-0.012987</td>\n",
       "                        <td id=\"T_75d33_row13_col7\" class=\"data row13 col7\" >0.092786</td>\n",
       "                        <td id=\"T_75d33_row13_col8\" class=\"data row13 col8\" >0.019106</td>\n",
       "                        <td id=\"T_75d33_row13_col9\" class=\"data row13 col9\" >0.021559</td>\n",
       "                        <td id=\"T_75d33_row13_col10\" class=\"data row13 col10\" >-0.021449</td>\n",
       "                        <td id=\"T_75d33_row13_col11\" class=\"data row13 col11\" >0.007036</td>\n",
       "                        <td id=\"T_75d33_row13_col12\" class=\"data row13 col12\" >-0.011423</td>\n",
       "                        <td id=\"T_75d33_row13_col13\" class=\"data row13 col13\" >1.000000</td>\n",
       "                        <td id=\"T_75d33_row13_col14\" class=\"data row13 col14\" >0.007596</td>\n",
       "                        <td id=\"T_75d33_row13_col15\" class=\"data row13 col15\" >-0.012601</td>\n",
       "                        <td id=\"T_75d33_row13_col16\" class=\"data row13 col16\" >0.002541</td>\n",
       "                        <td id=\"T_75d33_row13_col17\" class=\"data row13 col17\" >-0.011074</td>\n",
       "            </tr>\n",
       "            <tr>\n",
       "                        <th id=\"T_75d33_level0_row14\" class=\"row_heading level0 row14\" >Night_Calls</th>\n",
       "                        <td id=\"T_75d33_row14_col0\" class=\"data row14 col0\" >-0.013176</td>\n",
       "                        <td id=\"T_75d33_row14_col1\" class=\"data row14 col1\" >0.007123</td>\n",
       "                        <td id=\"T_75d33_row14_col2\" class=\"data row14 col2\" >0.022972</td>\n",
       "                        <td id=\"T_75d33_row14_col3\" class=\"data row14 col3\" >0.007586</td>\n",
       "                        <td id=\"T_75d33_row14_col4\" class=\"data row14 col4\" >0.011204</td>\n",
       "                        <td id=\"T_75d33_row14_col5\" class=\"data row14 col5\" >-0.013605</td>\n",
       "                        <td id=\"T_75d33_row14_col6\" class=\"data row14 col6\" >-0.012802</td>\n",
       "                        <td id=\"T_75d33_row14_col7\" class=\"data row14 col7\" >0.006141</td>\n",
       "                        <td id=\"T_75d33_row14_col8\" class=\"data row14 col8\" >0.012451</td>\n",
       "                        <td id=\"T_75d33_row14_col9\" class=\"data row14 col9\" >0.015553</td>\n",
       "                        <td id=\"T_75d33_row14_col10\" class=\"data row14 col10\" >-0.019557</td>\n",
       "                        <td id=\"T_75d33_row14_col11\" class=\"data row14 col11\" >0.022972</td>\n",
       "                        <td id=\"T_75d33_row14_col12\" class=\"data row14 col12\" >0.007710</td>\n",
       "                        <td id=\"T_75d33_row14_col13\" class=\"data row14 col13\" >0.007596</td>\n",
       "                        <td id=\"T_75d33_row14_col14\" class=\"data row14 col14\" >1.000000</td>\n",
       "                        <td id=\"T_75d33_row14_col15\" class=\"data row14 col15\" >0.011188</td>\n",
       "                        <td id=\"T_75d33_row14_col16\" class=\"data row14 col16\" >0.000305</td>\n",
       "                        <td id=\"T_75d33_row14_col17\" class=\"data row14 col17\" >-0.013630</td>\n",
       "            </tr>\n",
       "            <tr>\n",
       "                        <th id=\"T_75d33_level0_row15\" class=\"row_heading level0 row15\" >Night_Charge</th>\n",
       "                        <td id=\"T_75d33_row15_col0\" class=\"data row15 col0\" >-0.008960</td>\n",
       "                        <td id=\"T_75d33_row15_col1\" class=\"data row15 col1\" >0.007663</td>\n",
       "                        <td id=\"T_75d33_row15_col2\" class=\"data row15 col2\" >0.004300</td>\n",
       "                        <td id=\"T_75d33_row15_col3\" class=\"data row15 col3\" >-0.012593</td>\n",
       "                        <td id=\"T_75d33_row15_col4\" class=\"data row15 col4\" >0.999999</td>\n",
       "                        <td id=\"T_75d33_row15_col5\" class=\"data row15 col5\" >-0.015214</td>\n",
       "                        <td id=\"T_75d33_row15_col6\" class=\"data row15 col6\" >-0.009277</td>\n",
       "                        <td id=\"T_75d33_row15_col7\" class=\"data row15 col7\" >0.035496</td>\n",
       "                        <td id=\"T_75d33_row15_col8\" class=\"data row15 col8\" >-0.028913</td>\n",
       "                        <td id=\"T_75d33_row15_col9\" class=\"data row15 col9\" >0.006064</td>\n",
       "                        <td id=\"T_75d33_row15_col10\" class=\"data row15 col10\" >0.022927</td>\n",
       "                        <td id=\"T_75d33_row15_col11\" class=\"data row15 col11\" >0.004301</td>\n",
       "                        <td id=\"T_75d33_row15_col12\" class=\"data row15 col12\" >-0.002056</td>\n",
       "                        <td id=\"T_75d33_row15_col13\" class=\"data row15 col13\" >-0.012601</td>\n",
       "                        <td id=\"T_75d33_row15_col14\" class=\"data row15 col14\" >0.011188</td>\n",
       "                        <td id=\"T_75d33_row15_col15\" class=\"data row15 col15\" >1.000000</td>\n",
       "                        <td id=\"T_75d33_row15_col16\" class=\"data row15 col16\" >-0.012329</td>\n",
       "                        <td id=\"T_75d33_row15_col17\" class=\"data row15 col17\" >-0.015186</td>\n",
       "            </tr>\n",
       "            <tr>\n",
       "                        <th id=\"T_75d33_level0_row16\" class=\"row_heading level0 row16\" >Intl_Calls</th>\n",
       "                        <td id=\"T_75d33_row16_col0\" class=\"data row16 col0\" >0.020661</td>\n",
       "                        <td id=\"T_75d33_row16_col1\" class=\"data row16 col1\" >0.013957</td>\n",
       "                        <td id=\"T_75d33_row16_col2\" class=\"data row16 col2\" >0.008033</td>\n",
       "                        <td id=\"T_75d33_row16_col3\" class=\"data row16 col3\" >0.002541</td>\n",
       "                        <td id=\"T_75d33_row16_col4\" class=\"data row16 col4\" >-0.012353</td>\n",
       "                        <td id=\"T_75d33_row16_col5\" class=\"data row16 col5\" >0.032304</td>\n",
       "                        <td id=\"T_75d33_row16_col6\" class=\"data row16 col6\" >-0.017561</td>\n",
       "                        <td id=\"T_75d33_row16_col7\" class=\"data row16 col7\" >-0.052844</td>\n",
       "                        <td id=\"T_75d33_row16_col8\" class=\"data row16 col8\" >0.017366</td>\n",
       "                        <td id=\"T_75d33_row16_col9\" class=\"data row16 col9\" >0.007618</td>\n",
       "                        <td id=\"T_75d33_row16_col10\" class=\"data row16 col10\" >0.004574</td>\n",
       "                        <td id=\"T_75d33_row16_col11\" class=\"data row16 col11\" >0.008032</td>\n",
       "                        <td id=\"T_75d33_row16_col12\" class=\"data row16 col12\" >0.017434</td>\n",
       "                        <td id=\"T_75d33_row16_col13\" class=\"data row16 col13\" >0.002541</td>\n",
       "                        <td id=\"T_75d33_row16_col14\" class=\"data row16 col14\" >0.000305</td>\n",
       "                        <td id=\"T_75d33_row16_col15\" class=\"data row16 col15\" >-0.012329</td>\n",
       "                        <td id=\"T_75d33_row16_col16\" class=\"data row16 col16\" >1.000000</td>\n",
       "                        <td id=\"T_75d33_row16_col17\" class=\"data row16 col17\" >0.032372</td>\n",
       "            </tr>\n",
       "            <tr>\n",
       "                        <th id=\"T_75d33_level0_row17\" class=\"row_heading level0 row17\" >Intl_Charge</th>\n",
       "                        <td id=\"T_75d33_row17_col0\" class=\"data row17 col0\" >0.009546</td>\n",
       "                        <td id=\"T_75d33_row17_col1\" class=\"data row17 col1\" >0.002884</td>\n",
       "                        <td id=\"T_75d33_row17_col2\" class=\"data row17 col2\" >-0.010092</td>\n",
       "                        <td id=\"T_75d33_row17_col3\" class=\"data row17 col3\" >-0.011067</td>\n",
       "                        <td id=\"T_75d33_row17_col4\" class=\"data row17 col4\" >-0.015180</td>\n",
       "                        <td id=\"T_75d33_row17_col5\" class=\"data row17 col5\" >0.999993</td>\n",
       "                        <td id=\"T_75d33_row17_col6\" class=\"data row17 col6\" >-0.009675</td>\n",
       "                        <td id=\"T_75d33_row17_col7\" class=\"data row17 col7\" >0.068259</td>\n",
       "                        <td id=\"T_75d33_row17_col8\" class=\"data row17 col8\" >0.045780</td>\n",
       "                        <td id=\"T_75d33_row17_col9\" class=\"data row17 col9\" >-0.001276</td>\n",
       "                        <td id=\"T_75d33_row17_col10\" class=\"data row17 col10\" >0.021666</td>\n",
       "                        <td id=\"T_75d33_row17_col11\" class=\"data row17 col11\" >-0.010094</td>\n",
       "                        <td id=\"T_75d33_row17_col12\" class=\"data row17 col12\" >0.008674</td>\n",
       "                        <td id=\"T_75d33_row17_col13\" class=\"data row17 col13\" >-0.011074</td>\n",
       "                        <td id=\"T_75d33_row17_col14\" class=\"data row17 col14\" >-0.013630</td>\n",
       "                        <td id=\"T_75d33_row17_col15\" class=\"data row17 col15\" >-0.015186</td>\n",
       "                        <td id=\"T_75d33_row17_col16\" class=\"data row17 col16\" >0.032372</td>\n",
       "                        <td id=\"T_75d33_row17_col17\" class=\"data row17 col17\" >1.000000</td>\n",
       "            </tr>\n",
       "    </tbody></table>"
      ],
      "text/plain": [
       "<pandas.io.formats.style.Styler at 0x7f8b813cd160>"
      ]
     },
     "execution_count": 31,
     "metadata": {},
     "output_type": "execute_result"
    }
   ],
   "source": [
    "corr_matrix = telco.corr()\n",
    "corr_matrix.style.background_gradient()"
   ]
  },
  {
   "cell_type": "code",
   "execution_count": 32,
   "metadata": {},
   "outputs": [],
   "source": [
    "telco.drop(['Vmail_Plan', 'Day_Charge', 'Eve_Charge', 'Night_Charge', 'Intl_Charge'], axis = 1, inplace = True)"
   ]
  },
  {
   "cell_type": "code",
   "execution_count": 33,
   "metadata": {},
   "outputs": [
    {
     "data": {
      "text/html": [
       "<style  type=\"text/css\" >\n",
       "#T_d36a8_row0_col0,#T_d36a8_row1_col1,#T_d36a8_row2_col2,#T_d36a8_row3_col3,#T_d36a8_row4_col4,#T_d36a8_row5_col5,#T_d36a8_row6_col6,#T_d36a8_row7_col7,#T_d36a8_row8_col8,#T_d36a8_row9_col9,#T_d36a8_row10_col10,#T_d36a8_row11_col11,#T_d36a8_row12_col12{\n",
       "            background-color:  #023858;\n",
       "            color:  #f1f1f1;\n",
       "        }#T_d36a8_row0_col1,#T_d36a8_row2_col8,#T_d36a8_row10_col1{\n",
       "            background-color:  #f4edf6;\n",
       "            color:  #000000;\n",
       "        }#T_d36a8_row0_col2,#T_d36a8_row0_col3,#T_d36a8_row0_col4,#T_d36a8_row1_col2,#T_d36a8_row1_col5,#T_d36a8_row2_col0,#T_d36a8_row3_col4,#T_d36a8_row4_col2,#T_d36a8_row4_col6,#T_d36a8_row5_col4,#T_d36a8_row5_col6,#T_d36a8_row6_col4,#T_d36a8_row6_col10,#T_d36a8_row8_col10,#T_d36a8_row9_col10,#T_d36a8_row11_col10,#T_d36a8_row12_col4,#T_d36a8_row12_col11{\n",
       "            background-color:  #fdf5fa;\n",
       "            color:  #000000;\n",
       "        }#T_d36a8_row0_col5,#T_d36a8_row1_col11,#T_d36a8_row2_col10,#T_d36a8_row3_col11,#T_d36a8_row7_col11,#T_d36a8_row8_col9,#T_d36a8_row10_col4,#T_d36a8_row10_col5,#T_d36a8_row10_col6,#T_d36a8_row10_col9,#T_d36a8_row10_col11,#T_d36a8_row12_col3,#T_d36a8_row12_col9{\n",
       "            background-color:  #fbf4f9;\n",
       "            color:  #000000;\n",
       "        }#T_d36a8_row0_col6,#T_d36a8_row3_col2,#T_d36a8_row5_col0,#T_d36a8_row5_col10,#T_d36a8_row7_col10,#T_d36a8_row9_col2,#T_d36a8_row12_col2{\n",
       "            background-color:  #fcf4fa;\n",
       "            color:  #000000;\n",
       "        }#T_d36a8_row0_col7,#T_d36a8_row12_col1{\n",
       "            background-color:  #f1ebf4;\n",
       "            color:  #000000;\n",
       "        }#T_d36a8_row0_col8,#T_d36a8_row2_col12,#T_d36a8_row3_col12,#T_d36a8_row9_col0,#T_d36a8_row9_col12{\n",
       "            background-color:  #f7f0f7;\n",
       "            color:  #000000;\n",
       "        }#T_d36a8_row0_col9,#T_d36a8_row8_col2,#T_d36a8_row8_col5{\n",
       "            background-color:  #f6eff7;\n",
       "            color:  #000000;\n",
       "        }#T_d36a8_row0_col10,#T_d36a8_row2_col3,#T_d36a8_row2_col9,#T_d36a8_row4_col11,#T_d36a8_row7_col0,#T_d36a8_row10_col2,#T_d36a8_row11_col3,#T_d36a8_row12_col10{\n",
       "            background-color:  #fbf3f9;\n",
       "            color:  #000000;\n",
       "        }#T_d36a8_row0_col11,#T_d36a8_row1_col10,#T_d36a8_row2_col5,#T_d36a8_row3_col0,#T_d36a8_row3_col5,#T_d36a8_row4_col0,#T_d36a8_row5_col11,#T_d36a8_row6_col5,#T_d36a8_row6_col8,#T_d36a8_row6_col11,#T_d36a8_row9_col6,#T_d36a8_row12_col6{\n",
       "            background-color:  #fef6fb;\n",
       "            color:  #000000;\n",
       "        }#T_d36a8_row0_col12,#T_d36a8_row6_col1,#T_d36a8_row8_col12,#T_d36a8_row10_col12{\n",
       "            background-color:  #f5eef6;\n",
       "            color:  #000000;\n",
       "        }#T_d36a8_row1_col0,#T_d36a8_row1_col6,#T_d36a8_row1_col9,#T_d36a8_row2_col6,#T_d36a8_row3_col6,#T_d36a8_row4_col3,#T_d36a8_row4_col10,#T_d36a8_row5_col3,#T_d36a8_row6_col0,#T_d36a8_row6_col3,#T_d36a8_row10_col3,#T_d36a8_row11_col6{\n",
       "            background-color:  #fef6fa;\n",
       "            color:  #000000;\n",
       "        }#T_d36a8_row1_col3,#T_d36a8_row1_col4,#T_d36a8_row1_col8,#T_d36a8_row4_col12,#T_d36a8_row8_col0,#T_d36a8_row9_col5,#T_d36a8_row11_col2,#T_d36a8_row11_col4{\n",
       "            background-color:  #faf2f8;\n",
       "            color:  #000000;\n",
       "        }#T_d36a8_row1_col7,#T_d36a8_row3_col9,#T_d36a8_row3_col10,#T_d36a8_row4_col5,#T_d36a8_row4_col8,#T_d36a8_row5_col2,#T_d36a8_row6_col2,#T_d36a8_row6_col9,#T_d36a8_row7_col1,#T_d36a8_row7_col12,#T_d36a8_row8_col4,#T_d36a8_row8_col6,#T_d36a8_row9_col3,#T_d36a8_row9_col11,#T_d36a8_row11_col0,#T_d36a8_row11_col5,#T_d36a8_row11_col9{\n",
       "            background-color:  #fff7fb;\n",
       "            color:  #000000;\n",
       "        }#T_d36a8_row1_col12,#T_d36a8_row7_col4{\n",
       "            background-color:  #f5eff6;\n",
       "            color:  #000000;\n",
       "        }#T_d36a8_row2_col1,#T_d36a8_row4_col1,#T_d36a8_row5_col1,#T_d36a8_row7_col5,#T_d36a8_row11_col1,#T_d36a8_row11_col7{\n",
       "            background-color:  #f2ecf5;\n",
       "            color:  #000000;\n",
       "        }#T_d36a8_row2_col4,#T_d36a8_row6_col12,#T_d36a8_row8_col11,#T_d36a8_row9_col8,#T_d36a8_row10_col0,#T_d36a8_row10_col8,#T_d36a8_row12_col0,#T_d36a8_row12_col7{\n",
       "            background-color:  #faf3f9;\n",
       "            color:  #000000;\n",
       "        }#T_d36a8_row2_col7{\n",
       "            background-color:  #c9cee4;\n",
       "            color:  #000000;\n",
       "        }#T_d36a8_row2_col11,#T_d36a8_row5_col9,#T_d36a8_row7_col9,#T_d36a8_row8_col3,#T_d36a8_row11_col8{\n",
       "            background-color:  #f9f2f8;\n",
       "            color:  #000000;\n",
       "        }#T_d36a8_row3_col1,#T_d36a8_row9_col7{\n",
       "            background-color:  #f0eaf4;\n",
       "            color:  #000000;\n",
       "        }#T_d36a8_row3_col7{\n",
       "            background-color:  #e3e0ee;\n",
       "            color:  #000000;\n",
       "        }#T_d36a8_row3_col8,#T_d36a8_row4_col9,#T_d36a8_row9_col4,#T_d36a8_row11_col12,#T_d36a8_row12_col5,#T_d36a8_row12_col8{\n",
       "            background-color:  #f8f1f8;\n",
       "            color:  #000000;\n",
       "        }#T_d36a8_row4_col7{\n",
       "            background-color:  #eee8f3;\n",
       "            color:  #000000;\n",
       "        }#T_d36a8_row5_col7{\n",
       "            background-color:  #e7e3f0;\n",
       "            color:  #000000;\n",
       "        }#T_d36a8_row5_col8,#T_d36a8_row9_col1{\n",
       "            background-color:  #f4eef6;\n",
       "            color:  #000000;\n",
       "        }#T_d36a8_row5_col12{\n",
       "            background-color:  #f3edf5;\n",
       "            color:  #000000;\n",
       "        }#T_d36a8_row6_col7{\n",
       "            background-color:  #c8cde4;\n",
       "            color:  #000000;\n",
       "        }#T_d36a8_row7_col2{\n",
       "            background-color:  #d8d7e9;\n",
       "            color:  #000000;\n",
       "        }#T_d36a8_row7_col3{\n",
       "            background-color:  #eee9f3;\n",
       "            color:  #000000;\n",
       "        }#T_d36a8_row7_col6{\n",
       "            background-color:  #d5d5e8;\n",
       "            color:  #000000;\n",
       "        }#T_d36a8_row7_col8{\n",
       "            background-color:  #c6cce3;\n",
       "            color:  #000000;\n",
       "        }#T_d36a8_row8_col1,#T_d36a8_row10_col7{\n",
       "            background-color:  #f1ebf5;\n",
       "            color:  #000000;\n",
       "        }#T_d36a8_row8_col7{\n",
       "            background-color:  #b8c6e0;\n",
       "            color:  #000000;\n",
       "        }</style><table id=\"T_d36a8_\" ><thead>    <tr>        <th class=\"blank level0\" ></th>        <th class=\"col_heading level0 col0\" >Account_Length</th>        <th class=\"col_heading level0 col1\" >Vmail_Message</th>        <th class=\"col_heading level0 col2\" >Day_Mins</th>        <th class=\"col_heading level0 col3\" >Eve_Mins</th>        <th class=\"col_heading level0 col4\" >Night_Mins</th>        <th class=\"col_heading level0 col5\" >Intl_Mins</th>        <th class=\"col_heading level0 col6\" >CustServ_Calls</th>        <th class=\"col_heading level0 col7\" >Churn</th>        <th class=\"col_heading level0 col8\" >Intl_Plan</th>        <th class=\"col_heading level0 col9\" >Day_Calls</th>        <th class=\"col_heading level0 col10\" >Eve_Calls</th>        <th class=\"col_heading level0 col11\" >Night_Calls</th>        <th class=\"col_heading level0 col12\" >Intl_Calls</th>    </tr></thead><tbody>\n",
       "                <tr>\n",
       "                        <th id=\"T_d36a8_level0_row0\" class=\"row_heading level0 row0\" >Account_Length</th>\n",
       "                        <td id=\"T_d36a8_row0_col0\" class=\"data row0 col0\" >1.000000</td>\n",
       "                        <td id=\"T_d36a8_row0_col1\" class=\"data row0 col1\" >-0.004628</td>\n",
       "                        <td id=\"T_d36a8_row0_col2\" class=\"data row0 col2\" >0.006216</td>\n",
       "                        <td id=\"T_d36a8_row0_col3\" class=\"data row0 col3\" >-0.006757</td>\n",
       "                        <td id=\"T_d36a8_row0_col4\" class=\"data row0 col4\" >-0.008955</td>\n",
       "                        <td id=\"T_d36a8_row0_col5\" class=\"data row0 col5\" >0.009514</td>\n",
       "                        <td id=\"T_d36a8_row0_col6\" class=\"data row0 col6\" >-0.003796</td>\n",
       "                        <td id=\"T_d36a8_row0_col7\" class=\"data row0 col7\" >0.016541</td>\n",
       "                        <td id=\"T_d36a8_row0_col8\" class=\"data row0 col8\" >0.024735</td>\n",
       "                        <td id=\"T_d36a8_row0_col9\" class=\"data row0 col9\" >0.038470</td>\n",
       "                        <td id=\"T_d36a8_row0_col10\" class=\"data row0 col10\" >0.019260</td>\n",
       "                        <td id=\"T_d36a8_row0_col11\" class=\"data row0 col11\" >-0.013176</td>\n",
       "                        <td id=\"T_d36a8_row0_col12\" class=\"data row0 col12\" >0.020661</td>\n",
       "            </tr>\n",
       "            <tr>\n",
       "                        <th id=\"T_d36a8_level0_row1\" class=\"row_heading level0 row1\" >Vmail_Message</th>\n",
       "                        <td id=\"T_d36a8_row1_col0\" class=\"data row1 col0\" >-0.004628</td>\n",
       "                        <td id=\"T_d36a8_row1_col1\" class=\"data row1 col1\" >1.000000</td>\n",
       "                        <td id=\"T_d36a8_row1_col2\" class=\"data row1 col2\" >0.000778</td>\n",
       "                        <td id=\"T_d36a8_row1_col3\" class=\"data row1 col3\" >0.017562</td>\n",
       "                        <td id=\"T_d36a8_row1_col4\" class=\"data row1 col4\" >0.007681</td>\n",
       "                        <td id=\"T_d36a8_row1_col5\" class=\"data row1 col5\" >0.002856</td>\n",
       "                        <td id=\"T_d36a8_row1_col6\" class=\"data row1 col6\" >-0.013263</td>\n",
       "                        <td id=\"T_d36a8_row1_col7\" class=\"data row1 col7\" >-0.089728</td>\n",
       "                        <td id=\"T_d36a8_row1_col8\" class=\"data row1 col8\" >0.008745</td>\n",
       "                        <td id=\"T_d36a8_row1_col9\" class=\"data row1 col9\" >-0.009548</td>\n",
       "                        <td id=\"T_d36a8_row1_col10\" class=\"data row1 col10\" >-0.005864</td>\n",
       "                        <td id=\"T_d36a8_row1_col11\" class=\"data row1 col11\" >0.007123</td>\n",
       "                        <td id=\"T_d36a8_row1_col12\" class=\"data row1 col12\" >0.013957</td>\n",
       "            </tr>\n",
       "            <tr>\n",
       "                        <th id=\"T_d36a8_level0_row2\" class=\"row_heading level0 row2\" >Day_Mins</th>\n",
       "                        <td id=\"T_d36a8_row2_col0\" class=\"data row2 col0\" >0.006216</td>\n",
       "                        <td id=\"T_d36a8_row2_col1\" class=\"data row2 col1\" >0.000778</td>\n",
       "                        <td id=\"T_d36a8_row2_col2\" class=\"data row2 col2\" >1.000000</td>\n",
       "                        <td id=\"T_d36a8_row2_col3\" class=\"data row2 col3\" >0.007043</td>\n",
       "                        <td id=\"T_d36a8_row2_col4\" class=\"data row2 col4\" >0.004323</td>\n",
       "                        <td id=\"T_d36a8_row2_col5\" class=\"data row2 col5\" >-0.010155</td>\n",
       "                        <td id=\"T_d36a8_row2_col6\" class=\"data row2 col6\" >-0.013423</td>\n",
       "                        <td id=\"T_d36a8_row2_col7\" class=\"data row2 col7\" >0.205151</td>\n",
       "                        <td id=\"T_d36a8_row2_col8\" class=\"data row2 col8\" >0.049396</td>\n",
       "                        <td id=\"T_d36a8_row2_col9\" class=\"data row2 col9\" >0.006750</td>\n",
       "                        <td id=\"T_d36a8_row2_col10\" class=\"data row2 col10\" >0.015769</td>\n",
       "                        <td id=\"T_d36a8_row2_col11\" class=\"data row2 col11\" >0.022972</td>\n",
       "                        <td id=\"T_d36a8_row2_col12\" class=\"data row2 col12\" >0.008033</td>\n",
       "            </tr>\n",
       "            <tr>\n",
       "                        <th id=\"T_d36a8_level0_row3\" class=\"row_heading level0 row3\" >Eve_Mins</th>\n",
       "                        <td id=\"T_d36a8_row3_col0\" class=\"data row3 col0\" >-0.006757</td>\n",
       "                        <td id=\"T_d36a8_row3_col1\" class=\"data row3 col1\" >0.017562</td>\n",
       "                        <td id=\"T_d36a8_row3_col2\" class=\"data row3 col2\" >0.007043</td>\n",
       "                        <td id=\"T_d36a8_row3_col3\" class=\"data row3 col3\" >1.000000</td>\n",
       "                        <td id=\"T_d36a8_row3_col4\" class=\"data row3 col4\" >-0.012584</td>\n",
       "                        <td id=\"T_d36a8_row3_col5\" class=\"data row3 col5\" >-0.011035</td>\n",
       "                        <td id=\"T_d36a8_row3_col6\" class=\"data row3 col6\" >-0.012985</td>\n",
       "                        <td id=\"T_d36a8_row3_col7\" class=\"data row3 col7\" >0.092796</td>\n",
       "                        <td id=\"T_d36a8_row3_col8\" class=\"data row3 col8\" >0.019100</td>\n",
       "                        <td id=\"T_d36a8_row3_col9\" class=\"data row3 col9\" >-0.021451</td>\n",
       "                        <td id=\"T_d36a8_row3_col10\" class=\"data row3 col10\" >-0.011430</td>\n",
       "                        <td id=\"T_d36a8_row3_col11\" class=\"data row3 col11\" >0.007586</td>\n",
       "                        <td id=\"T_d36a8_row3_col12\" class=\"data row3 col12\" >0.002541</td>\n",
       "            </tr>\n",
       "            <tr>\n",
       "                        <th id=\"T_d36a8_level0_row4\" class=\"row_heading level0 row4\" >Night_Mins</th>\n",
       "                        <td id=\"T_d36a8_row4_col0\" class=\"data row4 col0\" >-0.008955</td>\n",
       "                        <td id=\"T_d36a8_row4_col1\" class=\"data row4 col1\" >0.007681</td>\n",
       "                        <td id=\"T_d36a8_row4_col2\" class=\"data row4 col2\" >0.004323</td>\n",
       "                        <td id=\"T_d36a8_row4_col3\" class=\"data row4 col3\" >-0.012584</td>\n",
       "                        <td id=\"T_d36a8_row4_col4\" class=\"data row4 col4\" >1.000000</td>\n",
       "                        <td id=\"T_d36a8_row4_col5\" class=\"data row4 col5\" >-0.015207</td>\n",
       "                        <td id=\"T_d36a8_row4_col6\" class=\"data row4 col6\" >-0.009288</td>\n",
       "                        <td id=\"T_d36a8_row4_col7\" class=\"data row4 col7\" >0.035493</td>\n",
       "                        <td id=\"T_d36a8_row4_col8\" class=\"data row4 col8\" >-0.028905</td>\n",
       "                        <td id=\"T_d36a8_row4_col9\" class=\"data row4 col9\" >0.022938</td>\n",
       "                        <td id=\"T_d36a8_row4_col10\" class=\"data row4 col10\" >-0.002093</td>\n",
       "                        <td id=\"T_d36a8_row4_col11\" class=\"data row4 col11\" >0.011204</td>\n",
       "                        <td id=\"T_d36a8_row4_col12\" class=\"data row4 col12\" >-0.012353</td>\n",
       "            </tr>\n",
       "            <tr>\n",
       "                        <th id=\"T_d36a8_level0_row5\" class=\"row_heading level0 row5\" >Intl_Mins</th>\n",
       "                        <td id=\"T_d36a8_row5_col0\" class=\"data row5 col0\" >0.009514</td>\n",
       "                        <td id=\"T_d36a8_row5_col1\" class=\"data row5 col1\" >0.002856</td>\n",
       "                        <td id=\"T_d36a8_row5_col2\" class=\"data row5 col2\" >-0.010155</td>\n",
       "                        <td id=\"T_d36a8_row5_col3\" class=\"data row5 col3\" >-0.011035</td>\n",
       "                        <td id=\"T_d36a8_row5_col4\" class=\"data row5 col4\" >-0.015207</td>\n",
       "                        <td id=\"T_d36a8_row5_col5\" class=\"data row5 col5\" >1.000000</td>\n",
       "                        <td id=\"T_d36a8_row5_col6\" class=\"data row5 col6\" >-0.009640</td>\n",
       "                        <td id=\"T_d36a8_row5_col7\" class=\"data row5 col7\" >0.068239</td>\n",
       "                        <td id=\"T_d36a8_row5_col8\" class=\"data row5 col8\" >0.045871</td>\n",
       "                        <td id=\"T_d36a8_row5_col9\" class=\"data row5 col9\" >0.021565</td>\n",
       "                        <td id=\"T_d36a8_row5_col10\" class=\"data row5 col10\" >0.008703</td>\n",
       "                        <td id=\"T_d36a8_row5_col11\" class=\"data row5 col11\" >-0.013605</td>\n",
       "                        <td id=\"T_d36a8_row5_col12\" class=\"data row5 col12\" >0.032304</td>\n",
       "            </tr>\n",
       "            <tr>\n",
       "                        <th id=\"T_d36a8_level0_row6\" class=\"row_heading level0 row6\" >CustServ_Calls</th>\n",
       "                        <td id=\"T_d36a8_row6_col0\" class=\"data row6 col0\" >-0.003796</td>\n",
       "                        <td id=\"T_d36a8_row6_col1\" class=\"data row6 col1\" >-0.013263</td>\n",
       "                        <td id=\"T_d36a8_row6_col2\" class=\"data row6 col2\" >-0.013423</td>\n",
       "                        <td id=\"T_d36a8_row6_col3\" class=\"data row6 col3\" >-0.012985</td>\n",
       "                        <td id=\"T_d36a8_row6_col4\" class=\"data row6 col4\" >-0.009288</td>\n",
       "                        <td id=\"T_d36a8_row6_col5\" class=\"data row6 col5\" >-0.009640</td>\n",
       "                        <td id=\"T_d36a8_row6_col6\" class=\"data row6 col6\" >1.000000</td>\n",
       "                        <td id=\"T_d36a8_row6_col7\" class=\"data row6 col7\" >0.208750</td>\n",
       "                        <td id=\"T_d36a8_row6_col8\" class=\"data row6 col8\" >-0.024522</td>\n",
       "                        <td id=\"T_d36a8_row6_col9\" class=\"data row6 col9\" >-0.018942</td>\n",
       "                        <td id=\"T_d36a8_row6_col10\" class=\"data row6 col10\" >0.002423</td>\n",
       "                        <td id=\"T_d36a8_row6_col11\" class=\"data row6 col11\" >-0.012802</td>\n",
       "                        <td id=\"T_d36a8_row6_col12\" class=\"data row6 col12\" >-0.017561</td>\n",
       "            </tr>\n",
       "            <tr>\n",
       "                        <th id=\"T_d36a8_level0_row7\" class=\"row_heading level0 row7\" >Churn</th>\n",
       "                        <td id=\"T_d36a8_row7_col0\" class=\"data row7 col0\" >0.016541</td>\n",
       "                        <td id=\"T_d36a8_row7_col1\" class=\"data row7 col1\" >-0.089728</td>\n",
       "                        <td id=\"T_d36a8_row7_col2\" class=\"data row7 col2\" >0.205151</td>\n",
       "                        <td id=\"T_d36a8_row7_col3\" class=\"data row7 col3\" >0.092796</td>\n",
       "                        <td id=\"T_d36a8_row7_col4\" class=\"data row7 col4\" >0.035493</td>\n",
       "                        <td id=\"T_d36a8_row7_col5\" class=\"data row7 col5\" >0.068239</td>\n",
       "                        <td id=\"T_d36a8_row7_col6\" class=\"data row7 col6\" >0.208750</td>\n",
       "                        <td id=\"T_d36a8_row7_col7\" class=\"data row7 col7\" >1.000000</td>\n",
       "                        <td id=\"T_d36a8_row7_col8\" class=\"data row7 col8\" >0.259852</td>\n",
       "                        <td id=\"T_d36a8_row7_col9\" class=\"data row7 col9\" >0.018459</td>\n",
       "                        <td id=\"T_d36a8_row7_col10\" class=\"data row7 col10\" >0.009233</td>\n",
       "                        <td id=\"T_d36a8_row7_col11\" class=\"data row7 col11\" >0.006141</td>\n",
       "                        <td id=\"T_d36a8_row7_col12\" class=\"data row7 col12\" >-0.052844</td>\n",
       "            </tr>\n",
       "            <tr>\n",
       "                        <th id=\"T_d36a8_level0_row8\" class=\"row_heading level0 row8\" >Intl_Plan</th>\n",
       "                        <td id=\"T_d36a8_row8_col0\" class=\"data row8 col0\" >0.024735</td>\n",
       "                        <td id=\"T_d36a8_row8_col1\" class=\"data row8 col1\" >0.008745</td>\n",
       "                        <td id=\"T_d36a8_row8_col2\" class=\"data row8 col2\" >0.049396</td>\n",
       "                        <td id=\"T_d36a8_row8_col3\" class=\"data row8 col3\" >0.019100</td>\n",
       "                        <td id=\"T_d36a8_row8_col4\" class=\"data row8 col4\" >-0.028905</td>\n",
       "                        <td id=\"T_d36a8_row8_col5\" class=\"data row8 col5\" >0.045871</td>\n",
       "                        <td id=\"T_d36a8_row8_col6\" class=\"data row8 col6\" >-0.024522</td>\n",
       "                        <td id=\"T_d36a8_row8_col7\" class=\"data row8 col7\" >0.259852</td>\n",
       "                        <td id=\"T_d36a8_row8_col8\" class=\"data row8 col8\" >1.000000</td>\n",
       "                        <td id=\"T_d36a8_row8_col9\" class=\"data row8 col9\" >0.003755</td>\n",
       "                        <td id=\"T_d36a8_row8_col10\" class=\"data row8 col10\" >0.006114</td>\n",
       "                        <td id=\"T_d36a8_row8_col11\" class=\"data row8 col11\" >0.012451</td>\n",
       "                        <td id=\"T_d36a8_row8_col12\" class=\"data row8 col12\" >0.017366</td>\n",
       "            </tr>\n",
       "            <tr>\n",
       "                        <th id=\"T_d36a8_level0_row9\" class=\"row_heading level0 row9\" >Day_Calls</th>\n",
       "                        <td id=\"T_d36a8_row9_col0\" class=\"data row9 col0\" >0.038470</td>\n",
       "                        <td id=\"T_d36a8_row9_col1\" class=\"data row9 col1\" >-0.009548</td>\n",
       "                        <td id=\"T_d36a8_row9_col2\" class=\"data row9 col2\" >0.006750</td>\n",
       "                        <td id=\"T_d36a8_row9_col3\" class=\"data row9 col3\" >-0.021451</td>\n",
       "                        <td id=\"T_d36a8_row9_col4\" class=\"data row9 col4\" >0.022938</td>\n",
       "                        <td id=\"T_d36a8_row9_col5\" class=\"data row9 col5\" >0.021565</td>\n",
       "                        <td id=\"T_d36a8_row9_col6\" class=\"data row9 col6\" >-0.018942</td>\n",
       "                        <td id=\"T_d36a8_row9_col7\" class=\"data row9 col7\" >0.018459</td>\n",
       "                        <td id=\"T_d36a8_row9_col8\" class=\"data row9 col8\" >0.003755</td>\n",
       "                        <td id=\"T_d36a8_row9_col9\" class=\"data row9 col9\" >1.000000</td>\n",
       "                        <td id=\"T_d36a8_row9_col10\" class=\"data row9 col10\" >0.006462</td>\n",
       "                        <td id=\"T_d36a8_row9_col11\" class=\"data row9 col11\" >-0.019557</td>\n",
       "                        <td id=\"T_d36a8_row9_col12\" class=\"data row9 col12\" >0.004574</td>\n",
       "            </tr>\n",
       "            <tr>\n",
       "                        <th id=\"T_d36a8_level0_row10\" class=\"row_heading level0 row10\" >Eve_Calls</th>\n",
       "                        <td id=\"T_d36a8_row10_col0\" class=\"data row10 col0\" >0.019260</td>\n",
       "                        <td id=\"T_d36a8_row10_col1\" class=\"data row10 col1\" >-0.005864</td>\n",
       "                        <td id=\"T_d36a8_row10_col2\" class=\"data row10 col2\" >0.015769</td>\n",
       "                        <td id=\"T_d36a8_row10_col3\" class=\"data row10 col3\" >-0.011430</td>\n",
       "                        <td id=\"T_d36a8_row10_col4\" class=\"data row10 col4\" >-0.002093</td>\n",
       "                        <td id=\"T_d36a8_row10_col5\" class=\"data row10 col5\" >0.008703</td>\n",
       "                        <td id=\"T_d36a8_row10_col6\" class=\"data row10 col6\" >0.002423</td>\n",
       "                        <td id=\"T_d36a8_row10_col7\" class=\"data row10 col7\" >0.009233</td>\n",
       "                        <td id=\"T_d36a8_row10_col8\" class=\"data row10 col8\" >0.006114</td>\n",
       "                        <td id=\"T_d36a8_row10_col9\" class=\"data row10 col9\" >0.006462</td>\n",
       "                        <td id=\"T_d36a8_row10_col10\" class=\"data row10 col10\" >1.000000</td>\n",
       "                        <td id=\"T_d36a8_row10_col11\" class=\"data row10 col11\" >0.007710</td>\n",
       "                        <td id=\"T_d36a8_row10_col12\" class=\"data row10 col12\" >0.017434</td>\n",
       "            </tr>\n",
       "            <tr>\n",
       "                        <th id=\"T_d36a8_level0_row11\" class=\"row_heading level0 row11\" >Night_Calls</th>\n",
       "                        <td id=\"T_d36a8_row11_col0\" class=\"data row11 col0\" >-0.013176</td>\n",
       "                        <td id=\"T_d36a8_row11_col1\" class=\"data row11 col1\" >0.007123</td>\n",
       "                        <td id=\"T_d36a8_row11_col2\" class=\"data row11 col2\" >0.022972</td>\n",
       "                        <td id=\"T_d36a8_row11_col3\" class=\"data row11 col3\" >0.007586</td>\n",
       "                        <td id=\"T_d36a8_row11_col4\" class=\"data row11 col4\" >0.011204</td>\n",
       "                        <td id=\"T_d36a8_row11_col5\" class=\"data row11 col5\" >-0.013605</td>\n",
       "                        <td id=\"T_d36a8_row11_col6\" class=\"data row11 col6\" >-0.012802</td>\n",
       "                        <td id=\"T_d36a8_row11_col7\" class=\"data row11 col7\" >0.006141</td>\n",
       "                        <td id=\"T_d36a8_row11_col8\" class=\"data row11 col8\" >0.012451</td>\n",
       "                        <td id=\"T_d36a8_row11_col9\" class=\"data row11 col9\" >-0.019557</td>\n",
       "                        <td id=\"T_d36a8_row11_col10\" class=\"data row11 col10\" >0.007710</td>\n",
       "                        <td id=\"T_d36a8_row11_col11\" class=\"data row11 col11\" >1.000000</td>\n",
       "                        <td id=\"T_d36a8_row11_col12\" class=\"data row11 col12\" >0.000305</td>\n",
       "            </tr>\n",
       "            <tr>\n",
       "                        <th id=\"T_d36a8_level0_row12\" class=\"row_heading level0 row12\" >Intl_Calls</th>\n",
       "                        <td id=\"T_d36a8_row12_col0\" class=\"data row12 col0\" >0.020661</td>\n",
       "                        <td id=\"T_d36a8_row12_col1\" class=\"data row12 col1\" >0.013957</td>\n",
       "                        <td id=\"T_d36a8_row12_col2\" class=\"data row12 col2\" >0.008033</td>\n",
       "                        <td id=\"T_d36a8_row12_col3\" class=\"data row12 col3\" >0.002541</td>\n",
       "                        <td id=\"T_d36a8_row12_col4\" class=\"data row12 col4\" >-0.012353</td>\n",
       "                        <td id=\"T_d36a8_row12_col5\" class=\"data row12 col5\" >0.032304</td>\n",
       "                        <td id=\"T_d36a8_row12_col6\" class=\"data row12 col6\" >-0.017561</td>\n",
       "                        <td id=\"T_d36a8_row12_col7\" class=\"data row12 col7\" >-0.052844</td>\n",
       "                        <td id=\"T_d36a8_row12_col8\" class=\"data row12 col8\" >0.017366</td>\n",
       "                        <td id=\"T_d36a8_row12_col9\" class=\"data row12 col9\" >0.004574</td>\n",
       "                        <td id=\"T_d36a8_row12_col10\" class=\"data row12 col10\" >0.017434</td>\n",
       "                        <td id=\"T_d36a8_row12_col11\" class=\"data row12 col11\" >0.000305</td>\n",
       "                        <td id=\"T_d36a8_row12_col12\" class=\"data row12 col12\" >1.000000</td>\n",
       "            </tr>\n",
       "    </tbody></table>"
      ],
      "text/plain": [
       "<pandas.io.formats.style.Styler at 0x7f8b70ec0100>"
      ]
     },
     "execution_count": 33,
     "metadata": {},
     "output_type": "execute_result"
    }
   ],
   "source": [
    "corr_matrix = telco.corr()\n",
    "corr_matrix.style.background_gradient()"
   ]
  },
  {
   "cell_type": "markdown",
   "metadata": {},
   "source": [
    "### Split the data into train and test data"
   ]
  },
  {
   "cell_type": "code",
   "execution_count": 34,
   "metadata": {},
   "outputs": [],
   "source": [
    "X = telco.drop('Churn', axis = 1)\n",
    "y = telco['Churn']"
   ]
  },
  {
   "cell_type": "code",
   "execution_count": 35,
   "metadata": {},
   "outputs": [],
   "source": [
    "X_train, X_test, y_train, y_test = train_test_split(X, y, test_size = 0.3, random_state = 1)"
   ]
  },
  {
   "cell_type": "markdown",
   "metadata": {},
   "source": [
    "### Feature scaling"
   ]
  },
  {
   "cell_type": "code",
   "execution_count": 36,
   "metadata": {},
   "outputs": [
    {
     "data": {
      "text/html": [
       "<div>\n",
       "<style scoped>\n",
       "    .dataframe tbody tr th:only-of-type {\n",
       "        vertical-align: middle;\n",
       "    }\n",
       "\n",
       "    .dataframe tbody tr th {\n",
       "        vertical-align: top;\n",
       "    }\n",
       "\n",
       "    .dataframe thead th {\n",
       "        text-align: right;\n",
       "    }\n",
       "</style>\n",
       "<table border=\"1\" class=\"dataframe\">\n",
       "  <thead>\n",
       "    <tr style=\"text-align: right;\">\n",
       "      <th></th>\n",
       "      <th>Account_Length</th>\n",
       "      <th>Vmail_Message</th>\n",
       "      <th>Day_Mins</th>\n",
       "      <th>Eve_Mins</th>\n",
       "      <th>Night_Mins</th>\n",
       "      <th>Intl_Mins</th>\n",
       "      <th>CustServ_Calls</th>\n",
       "      <th>Churn</th>\n",
       "      <th>Intl_Plan</th>\n",
       "      <th>Day_Calls</th>\n",
       "      <th>Eve_Calls</th>\n",
       "      <th>Night_Calls</th>\n",
       "      <th>Intl_Calls</th>\n",
       "    </tr>\n",
       "  </thead>\n",
       "  <tbody>\n",
       "    <tr>\n",
       "      <th>count</th>\n",
       "      <td>3333.000000</td>\n",
       "      <td>3333.000000</td>\n",
       "      <td>3333.000000</td>\n",
       "      <td>3333.000000</td>\n",
       "      <td>3333.000000</td>\n",
       "      <td>3333.000000</td>\n",
       "      <td>3333.000000</td>\n",
       "      <td>3333.000000</td>\n",
       "      <td>3333.000000</td>\n",
       "      <td>3333.000000</td>\n",
       "      <td>3333.000000</td>\n",
       "      <td>3333.000000</td>\n",
       "      <td>3333.000000</td>\n",
       "    </tr>\n",
       "    <tr>\n",
       "      <th>mean</th>\n",
       "      <td>101.064806</td>\n",
       "      <td>8.099010</td>\n",
       "      <td>179.775098</td>\n",
       "      <td>200.980348</td>\n",
       "      <td>200.872037</td>\n",
       "      <td>10.237294</td>\n",
       "      <td>1.562856</td>\n",
       "      <td>0.144914</td>\n",
       "      <td>0.096910</td>\n",
       "      <td>100.435644</td>\n",
       "      <td>100.114311</td>\n",
       "      <td>100.107711</td>\n",
       "      <td>4.479448</td>\n",
       "    </tr>\n",
       "    <tr>\n",
       "      <th>std</th>\n",
       "      <td>39.822106</td>\n",
       "      <td>13.688365</td>\n",
       "      <td>54.467389</td>\n",
       "      <td>50.713844</td>\n",
       "      <td>50.573847</td>\n",
       "      <td>2.791840</td>\n",
       "      <td>1.315491</td>\n",
       "      <td>0.352067</td>\n",
       "      <td>0.295879</td>\n",
       "      <td>20.069084</td>\n",
       "      <td>19.922625</td>\n",
       "      <td>19.568609</td>\n",
       "      <td>2.461214</td>\n",
       "    </tr>\n",
       "    <tr>\n",
       "      <th>min</th>\n",
       "      <td>1.000000</td>\n",
       "      <td>0.000000</td>\n",
       "      <td>0.000000</td>\n",
       "      <td>0.000000</td>\n",
       "      <td>23.200000</td>\n",
       "      <td>0.000000</td>\n",
       "      <td>0.000000</td>\n",
       "      <td>0.000000</td>\n",
       "      <td>0.000000</td>\n",
       "      <td>0.000000</td>\n",
       "      <td>0.000000</td>\n",
       "      <td>33.000000</td>\n",
       "      <td>0.000000</td>\n",
       "    </tr>\n",
       "    <tr>\n",
       "      <th>25%</th>\n",
       "      <td>74.000000</td>\n",
       "      <td>0.000000</td>\n",
       "      <td>143.700000</td>\n",
       "      <td>166.600000</td>\n",
       "      <td>167.000000</td>\n",
       "      <td>8.500000</td>\n",
       "      <td>1.000000</td>\n",
       "      <td>0.000000</td>\n",
       "      <td>0.000000</td>\n",
       "      <td>87.000000</td>\n",
       "      <td>87.000000</td>\n",
       "      <td>87.000000</td>\n",
       "      <td>3.000000</td>\n",
       "    </tr>\n",
       "    <tr>\n",
       "      <th>50%</th>\n",
       "      <td>101.000000</td>\n",
       "      <td>0.000000</td>\n",
       "      <td>179.400000</td>\n",
       "      <td>201.400000</td>\n",
       "      <td>201.200000</td>\n",
       "      <td>10.300000</td>\n",
       "      <td>1.000000</td>\n",
       "      <td>0.000000</td>\n",
       "      <td>0.000000</td>\n",
       "      <td>101.000000</td>\n",
       "      <td>100.000000</td>\n",
       "      <td>100.000000</td>\n",
       "      <td>4.000000</td>\n",
       "    </tr>\n",
       "    <tr>\n",
       "      <th>75%</th>\n",
       "      <td>127.000000</td>\n",
       "      <td>20.000000</td>\n",
       "      <td>216.400000</td>\n",
       "      <td>235.300000</td>\n",
       "      <td>235.300000</td>\n",
       "      <td>12.100000</td>\n",
       "      <td>2.000000</td>\n",
       "      <td>0.000000</td>\n",
       "      <td>0.000000</td>\n",
       "      <td>114.000000</td>\n",
       "      <td>114.000000</td>\n",
       "      <td>113.000000</td>\n",
       "      <td>6.000000</td>\n",
       "    </tr>\n",
       "    <tr>\n",
       "      <th>max</th>\n",
       "      <td>243.000000</td>\n",
       "      <td>51.000000</td>\n",
       "      <td>350.800000</td>\n",
       "      <td>363.700000</td>\n",
       "      <td>395.000000</td>\n",
       "      <td>20.000000</td>\n",
       "      <td>9.000000</td>\n",
       "      <td>1.000000</td>\n",
       "      <td>1.000000</td>\n",
       "      <td>165.000000</td>\n",
       "      <td>170.000000</td>\n",
       "      <td>175.000000</td>\n",
       "      <td>20.000000</td>\n",
       "    </tr>\n",
       "  </tbody>\n",
       "</table>\n",
       "</div>"
      ],
      "text/plain": [
       "       Account_Length  Vmail_Message     Day_Mins     Eve_Mins   Night_Mins  \\\n",
       "count     3333.000000    3333.000000  3333.000000  3333.000000  3333.000000   \n",
       "mean       101.064806       8.099010   179.775098   200.980348   200.872037   \n",
       "std         39.822106      13.688365    54.467389    50.713844    50.573847   \n",
       "min          1.000000       0.000000     0.000000     0.000000    23.200000   \n",
       "25%         74.000000       0.000000   143.700000   166.600000   167.000000   \n",
       "50%        101.000000       0.000000   179.400000   201.400000   201.200000   \n",
       "75%        127.000000      20.000000   216.400000   235.300000   235.300000   \n",
       "max        243.000000      51.000000   350.800000   363.700000   395.000000   \n",
       "\n",
       "         Intl_Mins  CustServ_Calls        Churn    Intl_Plan    Day_Calls  \\\n",
       "count  3333.000000     3333.000000  3333.000000  3333.000000  3333.000000   \n",
       "mean     10.237294        1.562856     0.144914     0.096910   100.435644   \n",
       "std       2.791840        1.315491     0.352067     0.295879    20.069084   \n",
       "min       0.000000        0.000000     0.000000     0.000000     0.000000   \n",
       "25%       8.500000        1.000000     0.000000     0.000000    87.000000   \n",
       "50%      10.300000        1.000000     0.000000     0.000000   101.000000   \n",
       "75%      12.100000        2.000000     0.000000     0.000000   114.000000   \n",
       "max      20.000000        9.000000     1.000000     1.000000   165.000000   \n",
       "\n",
       "         Eve_Calls  Night_Calls   Intl_Calls  \n",
       "count  3333.000000  3333.000000  3333.000000  \n",
       "mean    100.114311   100.107711     4.479448  \n",
       "std      19.922625    19.568609     2.461214  \n",
       "min       0.000000    33.000000     0.000000  \n",
       "25%      87.000000    87.000000     3.000000  \n",
       "50%     100.000000   100.000000     4.000000  \n",
       "75%     114.000000   113.000000     6.000000  \n",
       "max     170.000000   175.000000    20.000000  "
      ]
     },
     "execution_count": 36,
     "metadata": {},
     "output_type": "execute_result"
    }
   ],
   "source": [
    "telco.describe()"
   ]
  },
  {
   "cell_type": "code",
   "execution_count": 37,
   "metadata": {
    "scrolled": true
   },
   "outputs": [
    {
     "name": "stdout",
     "output_type": "stream",
     "text": [
      "[[-0.03706973 -0.57650767 -2.31685332 ...  0.15892115  1.27707137\n",
      "  -0.60951022]\n",
      " [ 0.58637088 -0.57650767  0.24807892 ...  0.8152283   2.68737026\n",
      "   0.21794823]\n",
      " [-0.26150835 -0.57650767  0.76401356 ...  0.15892115  1.22670356\n",
      "   0.63167746]\n",
      " ...\n",
      " [-0.18669548 -0.57650767 -1.51346938 ...  1.47153545  0.72302538\n",
      "  -0.195781  ]\n",
      " [ 0.96043524 -0.57650767 -0.85012483 ... -0.09350467  1.27707137\n",
      "  -1.02323945]\n",
      " [ 0.78587187  1.69506761 -0.11123271 ...  0.25989148 -1.19095169\n",
      "   1.87286514]]\n",
      "[[-0.87987189 -0.62771317  0.80395182 ...  0.06317911  0.30867855\n",
      "  -0.58357754]\n",
      " [-0.01058485 -0.62771317 -1.37447804 ... -1.17659933  2.06102535\n",
      "  -0.19296339]\n",
      " [-0.77760283 -0.62771317  1.7208976  ...  1.20377527 -1.07195833\n",
      "  -0.9741917 ]\n",
      " ...\n",
      " [-0.39409384  1.98806114 -0.12393169 ...  0.06317911 -0.22233564\n",
      "  -0.58357754]\n",
      " [-0.54749743 -0.62771317 -0.59060788 ...  1.5013221   1.0520984\n",
      "  -0.19296339]\n",
      " [-0.75203556 -0.62771317 -1.51484548 ... -0.8790525  -0.80645124\n",
      "  -0.9741917 ]]\n"
     ]
    }
   ],
   "source": [
    "scaler = StandardScaler()\n",
    "X_train = scaler.fit_transform(X_train)\n",
    "print(X_train)\n",
    "X_test = scaler.fit_transform(X_test)\n",
    "print(X_test)"
   ]
  },
  {
   "cell_type": "markdown",
   "metadata": {},
   "source": [
    "## 4. Model Building"
   ]
  },
  {
   "cell_type": "markdown",
   "metadata": {},
   "source": [
    "### Supervised Machine Learning for the Classification problem\n",
    "I will explore Logistic Regression Classifier, Decision Tree Classifier and Random Forest Classifier"
   ]
  },
  {
   "cell_type": "code",
   "execution_count": 38,
   "metadata": {
    "scrolled": true
   },
   "outputs": [
    {
     "data": {
      "text/plain": [
       "LogisticRegression()"
      ]
     },
     "execution_count": 38,
     "metadata": {},
     "output_type": "execute_result"
    }
   ],
   "source": [
    "lr = LogisticRegression()\n",
    "lr.fit(X_train, y_train)"
   ]
  },
  {
   "cell_type": "code",
   "execution_count": 39,
   "metadata": {},
   "outputs": [
    {
     "name": "stdout",
     "output_type": "stream",
     "text": [
      "0.846\n"
     ]
    }
   ],
   "source": [
    "print(lr.score(X_test, y_test))"
   ]
  },
  {
   "cell_type": "code",
   "execution_count": 40,
   "metadata": {},
   "outputs": [
    {
     "data": {
      "text/plain": [
       "DecisionTreeClassifier()"
      ]
     },
     "execution_count": 40,
     "metadata": {},
     "output_type": "execute_result"
    }
   ],
   "source": [
    "dt = DecisionTreeClassifier()\n",
    "dt.fit(X_train, y_train)"
   ]
  },
  {
   "cell_type": "code",
   "execution_count": 41,
   "metadata": {},
   "outputs": [
    {
     "name": "stdout",
     "output_type": "stream",
     "text": [
      "0.907\n"
     ]
    }
   ],
   "source": [
    "print(dt.score(X_test, y_test))"
   ]
  },
  {
   "cell_type": "code",
   "execution_count": 42,
   "metadata": {},
   "outputs": [
    {
     "data": {
      "text/plain": [
       "RandomForestClassifier()"
      ]
     },
     "execution_count": 42,
     "metadata": {},
     "output_type": "execute_result"
    }
   ],
   "source": [
    "rf = RandomForestClassifier()\n",
    "rf.fit(X_train,y_train)"
   ]
  },
  {
   "cell_type": "code",
   "execution_count": 43,
   "metadata": {},
   "outputs": [
    {
     "name": "stdout",
     "output_type": "stream",
     "text": [
      "0.946\n"
     ]
    }
   ],
   "source": [
    "print(rf.score(X_test, y_test))"
   ]
  },
  {
   "cell_type": "markdown",
   "metadata": {},
   "source": [
    "## 5. Model Evaluation\n",
    "Now, I evaluate these models using different metrics and determine the best suited model for our problem.\n",
    "\n",
    "An important to notice here is the imbalance of the prediction classes: more data belong to one class than the other. Non churners rows are almost 6 times more than churners, this can impact perofrmance as our model could always predict the majority class."
   ]
  },
  {
   "cell_type": "code",
   "execution_count": 44,
   "metadata": {},
   "outputs": [
    {
     "data": {
      "text/plain": [
       "0    2850\n",
       "1     483\n",
       "Name: Churn, dtype: int64"
      ]
     },
     "execution_count": 44,
     "metadata": {},
     "output_type": "execute_result"
    }
   ],
   "source": [
    "#imbalanced classes\n",
    "telco['Churn'].value_counts()"
   ]
  },
  {
   "cell_type": "markdown",
   "metadata": {},
   "source": [
    "### Therefore accuracy is not much of a helpful metric in this case."
   ]
  },
  {
   "cell_type": "markdown",
   "metadata": {},
   "source": [
    "### In this case we look at the confusion matrix, specifically the Precision and Recall\n",
    "\n",
    "A model with high precision means there are few false positives, meaning not many non churners were classified as churners.\n",
    "\n",
    "A model with high recall means is correctly classified most churners\n",
    "\n",
    "Which metric - precision or recall - you optimise depends on your business case\n",
    " - If the offers you make to keep potential churners is high in relation to the value of losing customers you want your model to have high precision (or minimize false positvies)\n",
    "\n",
    " - Conversely, if losing customers you didnt think would churn is more expensive than an offer to keep a customer that would not have churned then you want a high recall (or minimize false negatives)"
   ]
  },
  {
   "cell_type": "code",
   "execution_count": 45,
   "metadata": {},
   "outputs": [
    {
     "data": {
      "text/plain": [
       "array([[826,  29],\n",
       "       [125,  20]])"
      ]
     },
     "execution_count": 45,
     "metadata": {},
     "output_type": "execute_result"
    }
   ],
   "source": [
    "lr_pred = lr.predict(X_test)\n",
    "confusion_matrix(y_test, lr_pred)"
   ]
  },
  {
   "cell_type": "code",
   "execution_count": 46,
   "metadata": {},
   "outputs": [
    {
     "data": {
      "text/plain": [
       "array([[798,  57],\n",
       "       [ 36, 109]])"
      ]
     },
     "execution_count": 46,
     "metadata": {},
     "output_type": "execute_result"
    }
   ],
   "source": [
    "dt_pred = dt.predict(X_test)\n",
    "confusion_matrix(y_test, dt_pred)"
   ]
  },
  {
   "cell_type": "code",
   "execution_count": 47,
   "metadata": {},
   "outputs": [
    {
     "data": {
      "text/plain": [
       "array([[849,   6],\n",
       "       [ 48,  97]])"
      ]
     },
     "execution_count": 47,
     "metadata": {},
     "output_type": "execute_result"
    }
   ],
   "source": [
    "rf_pred = rf.predict(X_test)\n",
    "confusion_matrix(y_test, rf_pred)"
   ]
  },
  {
   "cell_type": "code",
   "execution_count": 48,
   "metadata": {},
   "outputs": [
    {
     "name": "stdout",
     "output_type": "stream",
     "text": [
      "For Linear Regressor Classifier Tree Classifier\n",
      "Recall score:  0.13793103448275862\n",
      "Precision score:  0.40816326530612246\n"
     ]
    }
   ],
   "source": [
    "print('For Linear Regressor Classifier Tree Classifier')\n",
    "print('Recall score: ', recall_score(y_test, lr_pred))\n",
    "print('Precision score: ', precision_score(y_test, lr_pred))"
   ]
  },
  {
   "cell_type": "code",
   "execution_count": 49,
   "metadata": {},
   "outputs": [
    {
     "name": "stdout",
     "output_type": "stream",
     "text": [
      "For Decision Tree Classifier\n",
      "Recall score:  0.7517241379310344\n",
      "Precision score:  0.6566265060240963\n"
     ]
    }
   ],
   "source": [
    "print('For Decision Tree Classifier')\n",
    "print('Recall score: ', recall_score(y_test, dt_pred))\n",
    "print('Precision score: ', precision_score(y_test, dt_pred))"
   ]
  },
  {
   "cell_type": "code",
   "execution_count": 50,
   "metadata": {},
   "outputs": [
    {
     "name": "stdout",
     "output_type": "stream",
     "text": [
      "For Random Forest Classifier\n",
      "Recall score:  0.6689655172413793\n",
      "Precision score:  0.941747572815534\n"
     ]
    }
   ],
   "source": [
    "print('For Random Forest Classifier')\n",
    "print('Recall score: ', recall_score(y_test, rf_pred))\n",
    "print('Precision score: ', precision_score(y_test, rf_pred))"
   ]
  },
  {
   "cell_type": "markdown",
   "metadata": {},
   "source": [
    "### Next, I look at the ROC Curve and AUC for each of these to determine the best model"
   ]
  },
  {
   "cell_type": "code",
   "execution_count": 51,
   "metadata": {},
   "outputs": [],
   "source": [
    "#generate the probabilities\n",
    "y_pred_prob_lr = lr.predict_proba(X_test)[:, 1]"
   ]
  },
  {
   "cell_type": "code",
   "execution_count": 52,
   "metadata": {},
   "outputs": [],
   "source": [
    "#generate the probabilities\n",
    "y_pred_prob_dt = dt.predict_proba(X_test)[:, 1]"
   ]
  },
  {
   "cell_type": "code",
   "execution_count": 53,
   "metadata": {},
   "outputs": [],
   "source": [
    "#generate the probabilities\n",
    "y_pred_prob_rf = rf.predict_proba(X_test)[:, 1]"
   ]
  },
  {
   "cell_type": "code",
   "execution_count": 54,
   "metadata": {},
   "outputs": [
    {
     "data": {
      "image/png": "[encoded data removed]",
      "text/plain": [
       "<Figure size 432x288 with 1 Axes>"
      ]
     },
     "metadata": {
      "needs_background": "light"
     },
     "output_type": "display_data"
    }
   ],
   "source": [
    "#calculate the roc metrics\n",
    "fpr, tpr, thresholds = roc_curve(y_test, y_pred_prob_lr)\n",
    "\n",
    "plt.plot(fpr,tpr)\n",
    "\n",
    "plt.xlabel(\"False Positive Rate\")\n",
    "plt.ylabel(\"True Positive Rate\")\n",
    "plt.plot([0, 1], [0, 1], \"k--\")\n",
    "plt.show()"
   ]
  },
  {
   "cell_type": "code",
   "execution_count": 55,
   "metadata": {},
   "outputs": [
    {
     "data": {
      "image/png": "[encoded data removed]",
      "text/plain": [
       "<Figure size 432x288 with 1 Axes>"
      ]
     },
     "metadata": {
      "needs_background": "light"
     },
     "output_type": "display_data"
    }
   ],
   "source": [
    "#calculate the roc metrics\n",
    "fpr, tpr, thresholds = roc_curve(y_test, y_pred_prob_dt)\n",
    "\n",
    "plt.plot(fpr,tpr)\n",
    "\n",
    "plt.xlabel(\"False Positive Rate\")\n",
    "plt.ylabel(\"True Positive Rate\")\n",
    "plt.plot([0, 1], [0, 1], \"k--\")\n",
    "plt.show()"
   ]
  },
  {
   "cell_type": "code",
   "execution_count": 56,
   "metadata": {},
   "outputs": [
    {
     "data": {
      "image/png": "[encoded data removed]",
      "text/plain": [
       "<Figure size 432x288 with 1 Axes>"
      ]
     },
     "metadata": {
      "needs_background": "light"
     },
     "output_type": "display_data"
    }
   ],
   "source": [
    "#calculate the roc metrics\n",
    "fpr, tpr, thresholds = roc_curve(y_test, y_pred_prob_rf)\n",
    "\n",
    "plt.plot(fpr,tpr)\n",
    "\n",
    "plt.xlabel(\"False Positive Rate\")\n",
    "plt.ylabel(\"True Positive Rate\")\n",
    "plt.plot([0, 1], [0, 1], \"k--\")\n",
    "plt.show()"
   ]
  },
  {
   "cell_type": "markdown",
   "metadata": {},
   "source": [
    "### It looks like Random Forest Classifier has the best ROC, lets look at the AUC for each to find out"
   ]
  },
  {
   "cell_type": "code",
   "execution_count": 57,
   "metadata": {},
   "outputs": [
    {
     "name": "stdout",
     "output_type": "stream",
     "text": [
      "0.7812704174228675\n"
     ]
    }
   ],
   "source": [
    "print(roc_auc_score(y_test,y_pred_prob_lr))"
   ]
  },
  {
   "cell_type": "code",
   "execution_count": 58,
   "metadata": {},
   "outputs": [
    {
     "name": "stdout",
     "output_type": "stream",
     "text": [
      "0.8425287356321839\n"
     ]
    }
   ],
   "source": [
    "print(roc_auc_score(y_test,y_pred_prob_dt))"
   ]
  },
  {
   "cell_type": "code",
   "execution_count": 59,
   "metadata": {},
   "outputs": [
    {
     "name": "stdout",
     "output_type": "stream",
     "text": [
      "0.9091954022988504\n"
     ]
    }
   ],
   "source": [
    "print(roc_auc_score(y_test,y_pred_prob_rf))"
   ]
  },
  {
   "cell_type": "markdown",
   "metadata": {},
   "source": [
    "### It turns out the Random Forest has the best AUC"
   ]
  },
  {
   "cell_type": "markdown",
   "metadata": {},
   "source": [
    "#### There is a tradeoff between precision and recall. Both are important metrics, and depending on how the business is trying to model churn, you may want to focus on optimizing one over the other. Often, stakeholders are interested in a single metric that can quantify model performance. \n",
    "\n",
    "#### The AUC is one metric you can use in these cases. Another one is the F1 score. The advantage of the F1 score is it incorporates both precision and recall into a single metric, and a high F1 score is a sign of a well-performing model, even in situations where you might have imbalanced classes. It is calculated as below:"
   ]
  },
  {
   "cell_type": "code",
   "execution_count": 60,
   "metadata": {},
   "outputs": [
    {
     "name": "stdout",
     "output_type": "stream",
     "text": [
      "0.20618556701030924\n"
     ]
    }
   ],
   "source": [
    "print(f1_score(y_test, lr_pred))"
   ]
  },
  {
   "cell_type": "code",
   "execution_count": 61,
   "metadata": {},
   "outputs": [
    {
     "name": "stdout",
     "output_type": "stream",
     "text": [
      "0.7009646302250803\n"
     ]
    }
   ],
   "source": [
    "print(f1_score(y_test, dt_pred))"
   ]
  },
  {
   "cell_type": "code",
   "execution_count": 62,
   "metadata": {
    "scrolled": true
   },
   "outputs": [
    {
     "name": "stdout",
     "output_type": "stream",
     "text": [
      "0.782258064516129\n"
     ]
    }
   ],
   "source": [
    "print(f1_score(y_test, rf_pred))"
   ]
  },
  {
   "cell_type": "markdown",
   "metadata": {},
   "source": [
    "### Looking at various metrics like- precision, recall, AUC and F1 score I conclude that the Random Forest Classifier is the best model. I now shift focus onto hypertuning the model for the best parameters."
   ]
  },
  {
   "cell_type": "markdown",
   "metadata": {},
   "source": [
    "## 6. Model Tuning (Hyperparameter tuning)"
   ]
  },
  {
   "cell_type": "markdown",
   "metadata": {},
   "source": [
    "### Using GridSearchCV"
   ]
  },
  {
   "cell_type": "code",
   "execution_count": 63,
   "metadata": {},
   "outputs": [
    {
     "data": {
      "text/plain": [
       "GridSearchCV(estimator=RandomForestClassifier(),\n",
       "             param_grid={'criterion': ['gini', 'entropy'],\n",
       "                         'max_depth': [3, None],\n",
       "                         'max_features': ['auto', 'sqrt', 'log2'],\n",
       "                         'n_estimators': [20, 50, 60, 80, 90, 100, 120, 150,\n",
       "                                          200]})"
      ]
     },
     "execution_count": 63,
     "metadata": {},
     "output_type": "execute_result"
    }
   ],
   "source": [
    "param_grid = {\"max_depth\": [3, None],\n",
    "              \"n_estimators\": [20, 50, 60, 80, 90, 100, 120, 150, 200],\n",
    "              \"max_features\": ['auto', 'sqrt', 'log2'],\n",
    "              \"criterion\": [\"gini\", \"entropy\"]}\n",
    "\n",
    "grid_search = GridSearchCV(rf, param_grid)\n",
    "grid_search.fit(X_train, y_train)"
   ]
  },
  {
   "cell_type": "code",
   "execution_count": 64,
   "metadata": {
    "scrolled": true
   },
   "outputs": [
    {
     "name": "stdout",
     "output_type": "stream",
     "text": [
      "{'criterion': 'gini', 'max_depth': None, 'max_features': 'sqrt', 'n_estimators': 90}\n"
     ]
    }
   ],
   "source": [
    "print(grid_search.best_params_)"
   ]
  },
  {
   "cell_type": "code",
   "execution_count": 70,
   "metadata": {},
   "outputs": [
    {
     "data": {
      "text/plain": [
       "0.942"
      ]
     },
     "execution_count": 70,
     "metadata": {},
     "output_type": "execute_result"
    }
   ],
   "source": [
    "model = RandomForestClassifier(n_estimators = 90, \n",
    "                               max_features = 'sqrt', \n",
    "                               max_depth = None, \n",
    "                               criterion = 'gini', \n",
    "                               random_state = 1)\n",
    "model.fit(X_train, y_train)\n",
    "y_pred = model.predict(X_test)\n",
    "model.score(X_test, y_test)"
   ]
  },
  {
   "cell_type": "markdown",
   "metadata": {},
   "source": [
    "### Using RandomizedSearchCV"
   ]
  },
  {
   "cell_type": "code",
   "execution_count": 66,
   "metadata": {},
   "outputs": [
    {
     "name": "stdout",
     "output_type": "stream",
     "text": [
      "{'max_features': 5, 'max_depth': None, 'criterion': 'gini', 'bootstrap': False}\n"
     ]
    }
   ],
   "source": [
    "param_dist = {\"max_depth\": [3, None],\n",
    "              \"max_features\": [1,2,3,4,5,6,7,8,9,10],\n",
    "              \"bootstrap\": [True, False],\n",
    "              \"criterion\": [\"gini\", \"entropy\"]}\n",
    "\n",
    "random_search = RandomizedSearchCV(rf, param_dist)\n",
    "random_search.fit(X_train,y_train)\n",
    "\n",
    "print(random_search.best_params_)"
   ]
  },
  {
   "cell_type": "code",
   "execution_count": 71,
   "metadata": {},
   "outputs": [
    {
     "data": {
      "text/plain": [
       "0.951"
      ]
     },
     "execution_count": 71,
     "metadata": {},
     "output_type": "execute_result"
    }
   ],
   "source": [
    "model2 = RandomForestClassifier(bootstrap = False, \n",
    "                               max_features = 5, \n",
    "                               max_depth = None, \n",
    "                               criterion = 'gini', \n",
    "                               random_state = 1)\n",
    "model2.fit(X_train, y_train)\n",
    "y_pred = model2.predict(X_test)\n",
    "model2.score(X_test, y_test)"
   ]
  },
  {
   "cell_type": "markdown",
   "metadata": {},
   "source": [
    "### Plotting Feature importances for our model"
   ]
  },
  {
   "cell_type": "code",
   "execution_count": 68,
   "metadata": {
    "scrolled": true
   },
   "outputs": [
    {
     "data": {
      "image/png": "[encoded data removed]",
      "text/plain": [
       "<Figure size 432x288 with 1 Axes>"
      ]
     },
     "metadata": {
      "needs_background": "light"
     },
     "output_type": "display_data"
    }
   ],
   "source": [
    "#calculating feature importances\n",
    "importances = model.feature_importances_\n",
    "\n",
    "plt.barh(range(X.shape[1]), importances)\n",
    "plt.show()"
   ]
  },
  {
   "cell_type": "code",
   "execution_count": 69,
   "metadata": {},
   "outputs": [
    {
     "data": {
      "image/png": "[encoded data removed]",
      "text/plain": [
       "<Figure size 432x288 with 1 Axes>"
      ]
     },
     "metadata": {
      "needs_background": "light"
     },
     "output_type": "display_data"
    }
   ],
   "source": [
    "#add labels of the features in the plot\n",
    "sorted_index = np.argsort(importances)\n",
    "labels = X.columns[sorted_index]\n",
    "\n",
    "plt.clf()\n",
    "plt.barh(range(X.shape[1]), importances[sorted_index], tick_label=labels)\n",
    "plt.show()"
   ]
  },
  {
   "cell_type": "markdown",
   "metadata": {},
   "source": [
    "### The Random Forest Classifier works best for the Customer Churn Classification problem for our dataset. Rather than looking at the accuracy, the Precision, Recall, F1 score and the Area Under Curve (AUC) are important metrics used for reaching at this conclusion after model evaluation on our imbalanced dataset."
   ]
  }
 ],
 "metadata": {
  "kernelspec": {
   "display_name": "Python 3",
   "language": "python",
   "name": "python3"
  },
  "language_info": {
   "codemirror_mode": {
    "name": "ipython",
    "version": 3
   },
   "file_extension": ".py",
   "mimetype": "text/x-python",
   "name": "python",
   "nbconvert_exporter": "python",
   "pygments_lexer": "ipython3",
   "version": "3.8.3"
  }
 },
 "nbformat": 4,
 "nbformat_minor": 4
}
