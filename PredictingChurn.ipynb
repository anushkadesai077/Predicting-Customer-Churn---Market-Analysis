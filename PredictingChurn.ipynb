{
 "cells": [
  {
   "cell_type": "code",
   "execution_count": 1,
   "metadata": {},
   "outputs": [],
   "source": [
    "import pandas as pd"
   ]
  },
  {
   "cell_type": "code",
   "execution_count": 2,
   "metadata": {},
   "outputs": [],
   "source": [
    "telco = pd.read_csv('Churn.csv')"
   ]
  },
  {
   "cell_type": "code",
   "execution_count": 3,
   "metadata": {},
   "outputs": [
    {
     "data": {
      "text/html": [
       "<div>\n",
       "<style scoped>\n",
       "    .dataframe tbody tr th:only-of-type {\n",
       "        vertical-align: middle;\n",
       "    }\n",
       "\n",
       "    .dataframe tbody tr th {\n",
       "        vertical-align: top;\n",
       "    }\n",
       "\n",
       "    .dataframe thead th {\n",
       "        text-align: right;\n",
       "    }\n",
       "</style>\n",
       "<table border=\"1\" class=\"dataframe\">\n",
       "  <thead>\n",
       "    <tr style=\"text-align: right;\">\n",
       "      <th></th>\n",
       "      <th>Account_Length</th>\n",
       "      <th>Vmail_Message</th>\n",
       "      <th>Day_Mins</th>\n",
       "      <th>Eve_Mins</th>\n",
       "      <th>Night_Mins</th>\n",
       "      <th>Intl_Mins</th>\n",
       "      <th>CustServ_Calls</th>\n",
       "      <th>Churn</th>\n",
       "      <th>Intl_Plan</th>\n",
       "      <th>Vmail_Plan</th>\n",
       "      <th>...</th>\n",
       "      <th>Day_Charge</th>\n",
       "      <th>Eve_Calls</th>\n",
       "      <th>Eve_Charge</th>\n",
       "      <th>Night_Calls</th>\n",
       "      <th>Night_Charge</th>\n",
       "      <th>Intl_Calls</th>\n",
       "      <th>Intl_Charge</th>\n",
       "      <th>State</th>\n",
       "      <th>Area_Code</th>\n",
       "      <th>Phone</th>\n",
       "    </tr>\n",
       "  </thead>\n",
       "  <tbody>\n",
       "    <tr>\n",
       "      <th>0</th>\n",
       "      <td>128</td>\n",
       "      <td>25</td>\n",
       "      <td>265.1</td>\n",
       "      <td>197.4</td>\n",
       "      <td>244.7</td>\n",
       "      <td>10.0</td>\n",
       "      <td>1</td>\n",
       "      <td>no</td>\n",
       "      <td>no</td>\n",
       "      <td>yes</td>\n",
       "      <td>...</td>\n",
       "      <td>45.07</td>\n",
       "      <td>99</td>\n",
       "      <td>16.78</td>\n",
       "      <td>91</td>\n",
       "      <td>11.01</td>\n",
       "      <td>3</td>\n",
       "      <td>2.70</td>\n",
       "      <td>KS</td>\n",
       "      <td>415</td>\n",
       "      <td>382-4657</td>\n",
       "    </tr>\n",
       "    <tr>\n",
       "      <th>1</th>\n",
       "      <td>107</td>\n",
       "      <td>26</td>\n",
       "      <td>161.6</td>\n",
       "      <td>195.5</td>\n",
       "      <td>254.4</td>\n",
       "      <td>13.7</td>\n",
       "      <td>1</td>\n",
       "      <td>no</td>\n",
       "      <td>no</td>\n",
       "      <td>yes</td>\n",
       "      <td>...</td>\n",
       "      <td>27.47</td>\n",
       "      <td>103</td>\n",
       "      <td>16.62</td>\n",
       "      <td>103</td>\n",
       "      <td>11.45</td>\n",
       "      <td>3</td>\n",
       "      <td>3.70</td>\n",
       "      <td>OH</td>\n",
       "      <td>415</td>\n",
       "      <td>371-7191</td>\n",
       "    </tr>\n",
       "    <tr>\n",
       "      <th>2</th>\n",
       "      <td>137</td>\n",
       "      <td>0</td>\n",
       "      <td>243.4</td>\n",
       "      <td>121.2</td>\n",
       "      <td>162.6</td>\n",
       "      <td>12.2</td>\n",
       "      <td>0</td>\n",
       "      <td>no</td>\n",
       "      <td>no</td>\n",
       "      <td>no</td>\n",
       "      <td>...</td>\n",
       "      <td>41.38</td>\n",
       "      <td>110</td>\n",
       "      <td>10.30</td>\n",
       "      <td>104</td>\n",
       "      <td>7.32</td>\n",
       "      <td>5</td>\n",
       "      <td>3.29</td>\n",
       "      <td>NJ</td>\n",
       "      <td>415</td>\n",
       "      <td>358-1921</td>\n",
       "    </tr>\n",
       "    <tr>\n",
       "      <th>3</th>\n",
       "      <td>84</td>\n",
       "      <td>0</td>\n",
       "      <td>299.4</td>\n",
       "      <td>61.9</td>\n",
       "      <td>196.9</td>\n",
       "      <td>6.6</td>\n",
       "      <td>2</td>\n",
       "      <td>no</td>\n",
       "      <td>yes</td>\n",
       "      <td>no</td>\n",
       "      <td>...</td>\n",
       "      <td>50.90</td>\n",
       "      <td>88</td>\n",
       "      <td>5.26</td>\n",
       "      <td>89</td>\n",
       "      <td>8.86</td>\n",
       "      <td>7</td>\n",
       "      <td>1.78</td>\n",
       "      <td>OH</td>\n",
       "      <td>408</td>\n",
       "      <td>375-9999</td>\n",
       "    </tr>\n",
       "    <tr>\n",
       "      <th>4</th>\n",
       "      <td>75</td>\n",
       "      <td>0</td>\n",
       "      <td>166.7</td>\n",
       "      <td>148.3</td>\n",
       "      <td>186.9</td>\n",
       "      <td>10.1</td>\n",
       "      <td>3</td>\n",
       "      <td>no</td>\n",
       "      <td>yes</td>\n",
       "      <td>no</td>\n",
       "      <td>...</td>\n",
       "      <td>28.34</td>\n",
       "      <td>122</td>\n",
       "      <td>12.61</td>\n",
       "      <td>121</td>\n",
       "      <td>8.41</td>\n",
       "      <td>3</td>\n",
       "      <td>2.73</td>\n",
       "      <td>OK</td>\n",
       "      <td>415</td>\n",
       "      <td>330-6626</td>\n",
       "    </tr>\n",
       "  </tbody>\n",
       "</table>\n",
       "<p>5 rows × 21 columns</p>\n",
       "</div>"
      ],
      "text/plain": [
       "   Account_Length  Vmail_Message  Day_Mins  Eve_Mins  Night_Mins  Intl_Mins  \\\n",
       "0             128             25     265.1     197.4       244.7       10.0   \n",
       "1             107             26     161.6     195.5       254.4       13.7   \n",
       "2             137              0     243.4     121.2       162.6       12.2   \n",
       "3              84              0     299.4      61.9       196.9        6.6   \n",
       "4              75              0     166.7     148.3       186.9       10.1   \n",
       "\n",
       "   CustServ_Calls Churn Intl_Plan Vmail_Plan  ...  Day_Charge  Eve_Calls  \\\n",
       "0               1    no        no        yes  ...       45.07         99   \n",
       "1               1    no        no        yes  ...       27.47        103   \n",
       "2               0    no        no         no  ...       41.38        110   \n",
       "3               2    no       yes         no  ...       50.90         88   \n",
       "4               3    no       yes         no  ...       28.34        122   \n",
       "\n",
       "   Eve_Charge  Night_Calls  Night_Charge  Intl_Calls  Intl_Charge  State  \\\n",
       "0       16.78           91         11.01           3         2.70     KS   \n",
       "1       16.62          103         11.45           3         3.70     OH   \n",
       "2       10.30          104          7.32           5         3.29     NJ   \n",
       "3        5.26           89          8.86           7         1.78     OH   \n",
       "4       12.61          121          8.41           3         2.73     OK   \n",
       "\n",
       "  Area_Code     Phone  \n",
       "0       415  382-4657  \n",
       "1       415  371-7191  \n",
       "2       415  358-1921  \n",
       "3       408  375-9999  \n",
       "4       415  330-6626  \n",
       "\n",
       "[5 rows x 21 columns]"
      ]
     },
     "execution_count": 3,
     "metadata": {},
     "output_type": "execute_result"
    }
   ],
   "source": [
    "telco.head()"
   ]
  },
  {
   "cell_type": "code",
   "execution_count": 4,
   "metadata": {},
   "outputs": [
    {
     "name": "stdout",
     "output_type": "stream",
     "text": [
      "<class 'pandas.core.frame.DataFrame'>\n",
      "RangeIndex: 3333 entries, 0 to 3332\n",
      "Data columns (total 21 columns):\n",
      " #   Column          Non-Null Count  Dtype  \n",
      "---  ------          --------------  -----  \n",
      " 0   Account_Length  3333 non-null   int64  \n",
      " 1   Vmail_Message   3333 non-null   int64  \n",
      " 2   Day_Mins        3333 non-null   float64\n",
      " 3   Eve_Mins        3333 non-null   float64\n",
      " 4   Night_Mins      3333 non-null   float64\n",
      " 5   Intl_Mins       3333 non-null   float64\n",
      " 6   CustServ_Calls  3333 non-null   int64  \n",
      " 7   Churn           3333 non-null   object \n",
      " 8   Intl_Plan       3333 non-null   object \n",
      " 9   Vmail_Plan      3333 non-null   object \n",
      " 10  Day_Calls       3333 non-null   int64  \n",
      " 11  Day_Charge      3333 non-null   float64\n",
      " 12  Eve_Calls       3333 non-null   int64  \n",
      " 13  Eve_Charge      3333 non-null   float64\n",
      " 14  Night_Calls     3333 non-null   int64  \n",
      " 15  Night_Charge    3333 non-null   float64\n",
      " 16  Intl_Calls      3333 non-null   int64  \n",
      " 17  Intl_Charge     3333 non-null   float64\n",
      " 18  State           3333 non-null   object \n",
      " 19  Area_Code       3333 non-null   int64  \n",
      " 20  Phone           3333 non-null   object \n",
      "dtypes: float64(8), int64(8), object(5)\n",
      "memory usage: 546.9+ KB\n"
     ]
    }
   ],
   "source": [
    "telco.info()"
   ]
  },
  {
   "cell_type": "code",
   "execution_count": 5,
   "metadata": {},
   "outputs": [
    {
     "data": {
      "text/html": [
       "<div>\n",
       "<style scoped>\n",
       "    .dataframe tbody tr th:only-of-type {\n",
       "        vertical-align: middle;\n",
       "    }\n",
       "\n",
       "    .dataframe tbody tr th {\n",
       "        vertical-align: top;\n",
       "    }\n",
       "\n",
       "    .dataframe thead th {\n",
       "        text-align: right;\n",
       "    }\n",
       "</style>\n",
       "<table border=\"1\" class=\"dataframe\">\n",
       "  <thead>\n",
       "    <tr style=\"text-align: right;\">\n",
       "      <th></th>\n",
       "      <th>Account_Length</th>\n",
       "      <th>Vmail_Message</th>\n",
       "      <th>Day_Mins</th>\n",
       "      <th>Eve_Mins</th>\n",
       "      <th>Night_Mins</th>\n",
       "      <th>Intl_Mins</th>\n",
       "      <th>CustServ_Calls</th>\n",
       "      <th>Day_Calls</th>\n",
       "      <th>Day_Charge</th>\n",
       "      <th>Eve_Calls</th>\n",
       "      <th>Eve_Charge</th>\n",
       "      <th>Night_Calls</th>\n",
       "      <th>Night_Charge</th>\n",
       "      <th>Intl_Calls</th>\n",
       "      <th>Intl_Charge</th>\n",
       "      <th>Area_Code</th>\n",
       "    </tr>\n",
       "  </thead>\n",
       "  <tbody>\n",
       "    <tr>\n",
       "      <th>count</th>\n",
       "      <td>3333.000000</td>\n",
       "      <td>3333.000000</td>\n",
       "      <td>3333.000000</td>\n",
       "      <td>3333.000000</td>\n",
       "      <td>3333.000000</td>\n",
       "      <td>3333.000000</td>\n",
       "      <td>3333.000000</td>\n",
       "      <td>3333.000000</td>\n",
       "      <td>3333.000000</td>\n",
       "      <td>3333.000000</td>\n",
       "      <td>3333.000000</td>\n",
       "      <td>3333.000000</td>\n",
       "      <td>3333.000000</td>\n",
       "      <td>3333.000000</td>\n",
       "      <td>3333.000000</td>\n",
       "      <td>3333.000000</td>\n",
       "    </tr>\n",
       "    <tr>\n",
       "      <th>mean</th>\n",
       "      <td>101.064806</td>\n",
       "      <td>8.099010</td>\n",
       "      <td>179.775098</td>\n",
       "      <td>200.980348</td>\n",
       "      <td>200.872037</td>\n",
       "      <td>10.237294</td>\n",
       "      <td>1.562856</td>\n",
       "      <td>100.435644</td>\n",
       "      <td>30.562307</td>\n",
       "      <td>100.114311</td>\n",
       "      <td>17.083540</td>\n",
       "      <td>100.107711</td>\n",
       "      <td>9.039325</td>\n",
       "      <td>4.479448</td>\n",
       "      <td>2.764581</td>\n",
       "      <td>437.182418</td>\n",
       "    </tr>\n",
       "    <tr>\n",
       "      <th>std</th>\n",
       "      <td>39.822106</td>\n",
       "      <td>13.688365</td>\n",
       "      <td>54.467389</td>\n",
       "      <td>50.713844</td>\n",
       "      <td>50.573847</td>\n",
       "      <td>2.791840</td>\n",
       "      <td>1.315491</td>\n",
       "      <td>20.069084</td>\n",
       "      <td>9.259435</td>\n",
       "      <td>19.922625</td>\n",
       "      <td>4.310668</td>\n",
       "      <td>19.568609</td>\n",
       "      <td>2.275873</td>\n",
       "      <td>2.461214</td>\n",
       "      <td>0.753773</td>\n",
       "      <td>42.371290</td>\n",
       "    </tr>\n",
       "    <tr>\n",
       "      <th>min</th>\n",
       "      <td>1.000000</td>\n",
       "      <td>0.000000</td>\n",
       "      <td>0.000000</td>\n",
       "      <td>0.000000</td>\n",
       "      <td>23.200000</td>\n",
       "      <td>0.000000</td>\n",
       "      <td>0.000000</td>\n",
       "      <td>0.000000</td>\n",
       "      <td>0.000000</td>\n",
       "      <td>0.000000</td>\n",
       "      <td>0.000000</td>\n",
       "      <td>33.000000</td>\n",
       "      <td>1.040000</td>\n",
       "      <td>0.000000</td>\n",
       "      <td>0.000000</td>\n",
       "      <td>408.000000</td>\n",
       "    </tr>\n",
       "    <tr>\n",
       "      <th>25%</th>\n",
       "      <td>74.000000</td>\n",
       "      <td>0.000000</td>\n",
       "      <td>143.700000</td>\n",
       "      <td>166.600000</td>\n",
       "      <td>167.000000</td>\n",
       "      <td>8.500000</td>\n",
       "      <td>1.000000</td>\n",
       "      <td>87.000000</td>\n",
       "      <td>24.430000</td>\n",
       "      <td>87.000000</td>\n",
       "      <td>14.160000</td>\n",
       "      <td>87.000000</td>\n",
       "      <td>7.520000</td>\n",
       "      <td>3.000000</td>\n",
       "      <td>2.300000</td>\n",
       "      <td>408.000000</td>\n",
       "    </tr>\n",
       "    <tr>\n",
       "      <th>50%</th>\n",
       "      <td>101.000000</td>\n",
       "      <td>0.000000</td>\n",
       "      <td>179.400000</td>\n",
       "      <td>201.400000</td>\n",
       "      <td>201.200000</td>\n",
       "      <td>10.300000</td>\n",
       "      <td>1.000000</td>\n",
       "      <td>101.000000</td>\n",
       "      <td>30.500000</td>\n",
       "      <td>100.000000</td>\n",
       "      <td>17.120000</td>\n",
       "      <td>100.000000</td>\n",
       "      <td>9.050000</td>\n",
       "      <td>4.000000</td>\n",
       "      <td>2.780000</td>\n",
       "      <td>415.000000</td>\n",
       "    </tr>\n",
       "    <tr>\n",
       "      <th>75%</th>\n",
       "      <td>127.000000</td>\n",
       "      <td>20.000000</td>\n",
       "      <td>216.400000</td>\n",
       "      <td>235.300000</td>\n",
       "      <td>235.300000</td>\n",
       "      <td>12.100000</td>\n",
       "      <td>2.000000</td>\n",
       "      <td>114.000000</td>\n",
       "      <td>36.790000</td>\n",
       "      <td>114.000000</td>\n",
       "      <td>20.000000</td>\n",
       "      <td>113.000000</td>\n",
       "      <td>10.590000</td>\n",
       "      <td>6.000000</td>\n",
       "      <td>3.270000</td>\n",
       "      <td>510.000000</td>\n",
       "    </tr>\n",
       "    <tr>\n",
       "      <th>max</th>\n",
       "      <td>243.000000</td>\n",
       "      <td>51.000000</td>\n",
       "      <td>350.800000</td>\n",
       "      <td>363.700000</td>\n",
       "      <td>395.000000</td>\n",
       "      <td>20.000000</td>\n",
       "      <td>9.000000</td>\n",
       "      <td>165.000000</td>\n",
       "      <td>59.640000</td>\n",
       "      <td>170.000000</td>\n",
       "      <td>30.910000</td>\n",
       "      <td>175.000000</td>\n",
       "      <td>17.770000</td>\n",
       "      <td>20.000000</td>\n",
       "      <td>5.400000</td>\n",
       "      <td>510.000000</td>\n",
       "    </tr>\n",
       "  </tbody>\n",
       "</table>\n",
       "</div>"
      ],
      "text/plain": [
       "       Account_Length  Vmail_Message     Day_Mins     Eve_Mins   Night_Mins  \\\n",
       "count     3333.000000    3333.000000  3333.000000  3333.000000  3333.000000   \n",
       "mean       101.064806       8.099010   179.775098   200.980348   200.872037   \n",
       "std         39.822106      13.688365    54.467389    50.713844    50.573847   \n",
       "min          1.000000       0.000000     0.000000     0.000000    23.200000   \n",
       "25%         74.000000       0.000000   143.700000   166.600000   167.000000   \n",
       "50%        101.000000       0.000000   179.400000   201.400000   201.200000   \n",
       "75%        127.000000      20.000000   216.400000   235.300000   235.300000   \n",
       "max        243.000000      51.000000   350.800000   363.700000   395.000000   \n",
       "\n",
       "         Intl_Mins  CustServ_Calls    Day_Calls   Day_Charge    Eve_Calls  \\\n",
       "count  3333.000000     3333.000000  3333.000000  3333.000000  3333.000000   \n",
       "mean     10.237294        1.562856   100.435644    30.562307   100.114311   \n",
       "std       2.791840        1.315491    20.069084     9.259435    19.922625   \n",
       "min       0.000000        0.000000     0.000000     0.000000     0.000000   \n",
       "25%       8.500000        1.000000    87.000000    24.430000    87.000000   \n",
       "50%      10.300000        1.000000   101.000000    30.500000   100.000000   \n",
       "75%      12.100000        2.000000   114.000000    36.790000   114.000000   \n",
       "max      20.000000        9.000000   165.000000    59.640000   170.000000   \n",
       "\n",
       "        Eve_Charge  Night_Calls  Night_Charge   Intl_Calls  Intl_Charge  \\\n",
       "count  3333.000000  3333.000000   3333.000000  3333.000000  3333.000000   \n",
       "mean     17.083540   100.107711      9.039325     4.479448     2.764581   \n",
       "std       4.310668    19.568609      2.275873     2.461214     0.753773   \n",
       "min       0.000000    33.000000      1.040000     0.000000     0.000000   \n",
       "25%      14.160000    87.000000      7.520000     3.000000     2.300000   \n",
       "50%      17.120000   100.000000      9.050000     4.000000     2.780000   \n",
       "75%      20.000000   113.000000     10.590000     6.000000     3.270000   \n",
       "max      30.910000   175.000000     17.770000    20.000000     5.400000   \n",
       "\n",
       "         Area_Code  \n",
       "count  3333.000000  \n",
       "mean    437.182418  \n",
       "std      42.371290  \n",
       "min     408.000000  \n",
       "25%     408.000000  \n",
       "50%     415.000000  \n",
       "75%     510.000000  \n",
       "max     510.000000  "
      ]
     },
     "execution_count": 5,
     "metadata": {},
     "output_type": "execute_result"
    }
   ],
   "source": [
    "telco.describe()"
   ]
  },
  {
   "cell_type": "code",
   "execution_count": 6,
   "metadata": {},
   "outputs": [
    {
     "data": {
      "text/plain": [
       "no     2850\n",
       "yes     483\n",
       "Name: Churn, dtype: int64"
      ]
     },
     "execution_count": 6,
     "metadata": {},
     "output_type": "execute_result"
    }
   ],
   "source": [
    "telco['Churn'].value_counts()"
   ]
  },
  {
   "cell_type": "code",
   "execution_count": 7,
   "metadata": {},
   "outputs": [
    {
     "data": {
      "text/html": [
       "<div>\n",
       "<style scoped>\n",
       "    .dataframe tbody tr th:only-of-type {\n",
       "        vertical-align: middle;\n",
       "    }\n",
       "\n",
       "    .dataframe tbody tr th {\n",
       "        vertical-align: top;\n",
       "    }\n",
       "\n",
       "    .dataframe thead th {\n",
       "        text-align: right;\n",
       "    }\n",
       "</style>\n",
       "<table border=\"1\" class=\"dataframe\">\n",
       "  <thead>\n",
       "    <tr style=\"text-align: right;\">\n",
       "      <th></th>\n",
       "      <th>Account_Length</th>\n",
       "      <th>Vmail_Message</th>\n",
       "      <th>Day_Mins</th>\n",
       "      <th>Eve_Mins</th>\n",
       "      <th>Night_Mins</th>\n",
       "      <th>Intl_Mins</th>\n",
       "      <th>CustServ_Calls</th>\n",
       "      <th>Day_Calls</th>\n",
       "      <th>Day_Charge</th>\n",
       "      <th>Eve_Calls</th>\n",
       "      <th>Eve_Charge</th>\n",
       "      <th>Night_Calls</th>\n",
       "      <th>Night_Charge</th>\n",
       "      <th>Intl_Calls</th>\n",
       "      <th>Intl_Charge</th>\n",
       "      <th>Area_Code</th>\n",
       "    </tr>\n",
       "    <tr>\n",
       "      <th>Churn</th>\n",
       "      <th></th>\n",
       "      <th></th>\n",
       "      <th></th>\n",
       "      <th></th>\n",
       "      <th></th>\n",
       "      <th></th>\n",
       "      <th></th>\n",
       "      <th></th>\n",
       "      <th></th>\n",
       "      <th></th>\n",
       "      <th></th>\n",
       "      <th></th>\n",
       "      <th></th>\n",
       "      <th></th>\n",
       "      <th></th>\n",
       "      <th></th>\n",
       "    </tr>\n",
       "  </thead>\n",
       "  <tbody>\n",
       "    <tr>\n",
       "      <th>no</th>\n",
       "      <td>100.793684</td>\n",
       "      <td>8.604561</td>\n",
       "      <td>175.175754</td>\n",
       "      <td>199.043298</td>\n",
       "      <td>200.133193</td>\n",
       "      <td>10.158877</td>\n",
       "      <td>1.449825</td>\n",
       "      <td>100.283158</td>\n",
       "      <td>29.780421</td>\n",
       "      <td>100.038596</td>\n",
       "      <td>16.918909</td>\n",
       "      <td>100.058246</td>\n",
       "      <td>9.006074</td>\n",
       "      <td>4.532982</td>\n",
       "      <td>2.743404</td>\n",
       "      <td>437.074737</td>\n",
       "    </tr>\n",
       "    <tr>\n",
       "      <th>yes</th>\n",
       "      <td>102.664596</td>\n",
       "      <td>5.115942</td>\n",
       "      <td>206.914079</td>\n",
       "      <td>212.410145</td>\n",
       "      <td>205.231677</td>\n",
       "      <td>10.700000</td>\n",
       "      <td>2.229814</td>\n",
       "      <td>101.335404</td>\n",
       "      <td>35.175921</td>\n",
       "      <td>100.561077</td>\n",
       "      <td>18.054969</td>\n",
       "      <td>100.399586</td>\n",
       "      <td>9.235528</td>\n",
       "      <td>4.163561</td>\n",
       "      <td>2.889545</td>\n",
       "      <td>437.817805</td>\n",
       "    </tr>\n",
       "  </tbody>\n",
       "</table>\n",
       "</div>"
      ],
      "text/plain": [
       "       Account_Length  Vmail_Message    Day_Mins    Eve_Mins  Night_Mins  \\\n",
       "Churn                                                                      \n",
       "no         100.793684       8.604561  175.175754  199.043298  200.133193   \n",
       "yes        102.664596       5.115942  206.914079  212.410145  205.231677   \n",
       "\n",
       "       Intl_Mins  CustServ_Calls   Day_Calls  Day_Charge   Eve_Calls  \\\n",
       "Churn                                                                  \n",
       "no     10.158877        1.449825  100.283158   29.780421  100.038596   \n",
       "yes    10.700000        2.229814  101.335404   35.175921  100.561077   \n",
       "\n",
       "       Eve_Charge  Night_Calls  Night_Charge  Intl_Calls  Intl_Charge  \\\n",
       "Churn                                                                   \n",
       "no      16.918909   100.058246      9.006074    4.532982     2.743404   \n",
       "yes     18.054969   100.399586      9.235528    4.163561     2.889545   \n",
       "\n",
       "        Area_Code  \n",
       "Churn              \n",
       "no     437.074737  \n",
       "yes    437.817805  "
      ]
     },
     "execution_count": 7,
     "metadata": {},
     "output_type": "execute_result"
    }
   ],
   "source": [
    "telco.groupby(['Churn']).mean()"
   ]
  },
  {
   "cell_type": "code",
   "execution_count": 8,
   "metadata": {},
   "outputs": [
    {
     "data": {
      "text/html": [
       "<div>\n",
       "<style scoped>\n",
       "    .dataframe tbody tr th:only-of-type {\n",
       "        vertical-align: middle;\n",
       "    }\n",
       "\n",
       "    .dataframe tbody tr th {\n",
       "        vertical-align: top;\n",
       "    }\n",
       "\n",
       "    .dataframe thead th {\n",
       "        text-align: right;\n",
       "    }\n",
       "</style>\n",
       "<table border=\"1\" class=\"dataframe\">\n",
       "  <thead>\n",
       "    <tr style=\"text-align: right;\">\n",
       "      <th></th>\n",
       "      <th>Vmail_Message</th>\n",
       "      <th>CustServ_Calls</th>\n",
       "    </tr>\n",
       "    <tr>\n",
       "      <th>Churn</th>\n",
       "      <th></th>\n",
       "      <th></th>\n",
       "    </tr>\n",
       "  </thead>\n",
       "  <tbody>\n",
       "    <tr>\n",
       "      <th>no</th>\n",
       "      <td>8.604561</td>\n",
       "      <td>1.449825</td>\n",
       "    </tr>\n",
       "    <tr>\n",
       "      <th>yes</th>\n",
       "      <td>5.115942</td>\n",
       "      <td>2.229814</td>\n",
       "    </tr>\n",
       "  </tbody>\n",
       "</table>\n",
       "</div>"
      ],
      "text/plain": [
       "       Vmail_Message  CustServ_Calls\n",
       "Churn                               \n",
       "no          8.604561        1.449825\n",
       "yes         5.115942        2.229814"
      ]
     },
     "execution_count": 8,
     "metadata": {},
     "output_type": "execute_result"
    }
   ],
   "source": [
    "#churners make more cust serv calls than non churners\n",
    "telco.groupby(['Churn']).mean()[['Vmail_Message','CustServ_Calls']]"
   ]
  },
  {
   "cell_type": "code",
   "execution_count": 9,
   "metadata": {},
   "outputs": [
    {
     "data": {
      "text/html": [
       "<div>\n",
       "<style scoped>\n",
       "    .dataframe tbody tr th:only-of-type {\n",
       "        vertical-align: middle;\n",
       "    }\n",
       "\n",
       "    .dataframe tbody tr th {\n",
       "        vertical-align: top;\n",
       "    }\n",
       "\n",
       "    .dataframe thead th {\n",
       "        text-align: right;\n",
       "    }\n",
       "</style>\n",
       "<table border=\"1\" class=\"dataframe\">\n",
       "  <thead>\n",
       "    <tr style=\"text-align: right;\">\n",
       "      <th></th>\n",
       "      <th>Account_Length</th>\n",
       "      <th>Vmail_Message</th>\n",
       "      <th>Day_Mins</th>\n",
       "      <th>Eve_Mins</th>\n",
       "      <th>Night_Mins</th>\n",
       "      <th>Intl_Mins</th>\n",
       "      <th>CustServ_Calls</th>\n",
       "      <th>Day_Calls</th>\n",
       "      <th>Day_Charge</th>\n",
       "      <th>Eve_Calls</th>\n",
       "      <th>Eve_Charge</th>\n",
       "      <th>Night_Calls</th>\n",
       "      <th>Night_Charge</th>\n",
       "      <th>Intl_Calls</th>\n",
       "      <th>Intl_Charge</th>\n",
       "      <th>Area_Code</th>\n",
       "    </tr>\n",
       "    <tr>\n",
       "      <th>Churn</th>\n",
       "      <th></th>\n",
       "      <th></th>\n",
       "      <th></th>\n",
       "      <th></th>\n",
       "      <th></th>\n",
       "      <th></th>\n",
       "      <th></th>\n",
       "      <th></th>\n",
       "      <th></th>\n",
       "      <th></th>\n",
       "      <th></th>\n",
       "      <th></th>\n",
       "      <th></th>\n",
       "      <th></th>\n",
       "      <th></th>\n",
       "      <th></th>\n",
       "    </tr>\n",
       "  </thead>\n",
       "  <tbody>\n",
       "    <tr>\n",
       "      <th>no</th>\n",
       "      <td>39.88235</td>\n",
       "      <td>13.913125</td>\n",
       "      <td>50.181655</td>\n",
       "      <td>50.292175</td>\n",
       "      <td>51.105032</td>\n",
       "      <td>2.784489</td>\n",
       "      <td>1.163883</td>\n",
       "      <td>19.801157</td>\n",
       "      <td>8.530835</td>\n",
       "      <td>19.958414</td>\n",
       "      <td>4.274863</td>\n",
       "      <td>19.506246</td>\n",
       "      <td>2.299768</td>\n",
       "      <td>2.441984</td>\n",
       "      <td>0.751784</td>\n",
       "      <td>42.306156</td>\n",
       "    </tr>\n",
       "    <tr>\n",
       "      <th>yes</th>\n",
       "      <td>39.46782</td>\n",
       "      <td>11.860138</td>\n",
       "      <td>68.997792</td>\n",
       "      <td>51.728910</td>\n",
       "      <td>47.132825</td>\n",
       "      <td>2.793190</td>\n",
       "      <td>1.853275</td>\n",
       "      <td>21.582307</td>\n",
       "      <td>11.729710</td>\n",
       "      <td>19.724711</td>\n",
       "      <td>4.396762</td>\n",
       "      <td>19.950659</td>\n",
       "      <td>2.121081</td>\n",
       "      <td>2.551575</td>\n",
       "      <td>0.754152</td>\n",
       "      <td>42.792270</td>\n",
       "    </tr>\n",
       "  </tbody>\n",
       "</table>\n",
       "</div>"
      ],
      "text/plain": [
       "       Account_Length  Vmail_Message   Day_Mins   Eve_Mins  Night_Mins  \\\n",
       "Churn                                                                    \n",
       "no           39.88235      13.913125  50.181655  50.292175   51.105032   \n",
       "yes          39.46782      11.860138  68.997792  51.728910   47.132825   \n",
       "\n",
       "       Intl_Mins  CustServ_Calls  Day_Calls  Day_Charge  Eve_Calls  \\\n",
       "Churn                                                                \n",
       "no      2.784489        1.163883  19.801157    8.530835  19.958414   \n",
       "yes     2.793190        1.853275  21.582307   11.729710  19.724711   \n",
       "\n",
       "       Eve_Charge  Night_Calls  Night_Charge  Intl_Calls  Intl_Charge  \\\n",
       "Churn                                                                   \n",
       "no       4.274863    19.506246      2.299768    2.441984     0.751784   \n",
       "yes      4.396762    19.950659      2.121081    2.551575     0.754152   \n",
       "\n",
       "       Area_Code  \n",
       "Churn             \n",
       "no     42.306156  \n",
       "yes    42.792270  "
      ]
     },
     "execution_count": 9,
     "metadata": {},
     "output_type": "execute_result"
    }
   ],
   "source": [
    "telco.groupby(['Churn']).std()"
   ]
  },
  {
   "cell_type": "code",
   "execution_count": 10,
   "metadata": {},
   "outputs": [
    {
     "data": {
      "text/html": [
       "<div>\n",
       "<style scoped>\n",
       "    .dataframe tbody tr th:only-of-type {\n",
       "        vertical-align: middle;\n",
       "    }\n",
       "\n",
       "    .dataframe tbody tr th {\n",
       "        vertical-align: top;\n",
       "    }\n",
       "\n",
       "    .dataframe thead th {\n",
       "        text-align: right;\n",
       "    }\n",
       "</style>\n",
       "<table border=\"1\" class=\"dataframe\">\n",
       "  <thead>\n",
       "    <tr style=\"text-align: right;\">\n",
       "      <th></th>\n",
       "      <th>Vmail_Message</th>\n",
       "      <th>CustServ_Calls</th>\n",
       "    </tr>\n",
       "    <tr>\n",
       "      <th>Churn</th>\n",
       "      <th></th>\n",
       "      <th></th>\n",
       "    </tr>\n",
       "  </thead>\n",
       "  <tbody>\n",
       "    <tr>\n",
       "      <th>no</th>\n",
       "      <td>13.913125</td>\n",
       "      <td>1.163883</td>\n",
       "    </tr>\n",
       "    <tr>\n",
       "      <th>yes</th>\n",
       "      <td>11.860138</td>\n",
       "      <td>1.853275</td>\n",
       "    </tr>\n",
       "  </tbody>\n",
       "</table>\n",
       "</div>"
      ],
      "text/plain": [
       "       Vmail_Message  CustServ_Calls\n",
       "Churn                               \n",
       "no         13.913125        1.163883\n",
       "yes        11.860138        1.853275"
      ]
     },
     "execution_count": 10,
     "metadata": {},
     "output_type": "execute_result"
    }
   ],
   "source": [
    "telco.groupby(['Churn']).std()[['Vmail_Message','CustServ_Calls']]"
   ]
  },
  {
   "cell_type": "code",
   "execution_count": 11,
   "metadata": {},
   "outputs": [
    {
     "data": {
      "text/plain": [
       "State  Churn\n",
       "AK     no       49\n",
       "       yes       3\n",
       "AL     no       72\n",
       "       yes       8\n",
       "AR     no       44\n",
       "                ..\n",
       "WI     yes       7\n",
       "WV     no       96\n",
       "       yes      10\n",
       "WY     no       68\n",
       "       yes       9\n",
       "Name: Churn, Length: 102, dtype: int64"
      ]
     },
     "execution_count": 11,
     "metadata": {},
     "output_type": "execute_result"
    }
   ],
   "source": [
    "#When dealing with customer data, geographic regions may play an important part in determining \n",
    "#whether a customer will cancel their service or not. \n",
    "telco.groupby('State')['Churn'].value_counts()"
   ]
  },
  {
   "cell_type": "markdown",
   "metadata": {},
   "source": [
    "### Visualize data distribution\n",
    "#### important to undertand how your variables are distributed since ML algos assume the distribution"
   ]
  },
  {
   "cell_type": "code",
   "execution_count": 12,
   "metadata": {},
   "outputs": [],
   "source": [
    "import matplotlib.pyplot as plt\n",
    "import seaborn as sns"
   ]
  },
  {
   "cell_type": "code",
   "execution_count": 13,
   "metadata": {},
   "outputs": [
    {
     "name": "stderr",
     "output_type": "stream",
     "text": [
      "/Users/vraj/opt/anaconda3/lib/python3.8/site-packages/seaborn/distributions.py:2551: FutureWarning: `distplot` is a deprecated function and will be removed in a future version. Please adapt your code to use either `displot` (a figure-level function with similar flexibility) or `histplot` (an axes-level function for histograms).\n",
      "  warnings.warn(msg, FutureWarning)\n"
     ]
    },
    {
     "data": {
      "image/png": "[encoded data removed]",
      "text/plain": [
       "<Figure size 432x288 with 1 Axes>"
      ]
     },
     "metadata": {
      "needs_background": "light"
     },
     "output_type": "display_data"
    }
   ],
   "source": [
    "sns.distplot(telco['Account_Length'])\n",
    "plt.show()\n",
    "#resembles bell curve (normal distribution)\n",
    "#many models actually make the assumption that your data is normally distributed, so this is good/correct"
   ]
  },
  {
   "cell_type": "code",
   "execution_count": 14,
   "metadata": {},
   "outputs": [
    {
     "name": "stderr",
     "output_type": "stream",
     "text": [
      "/Users/vraj/opt/anaconda3/lib/python3.8/site-packages/seaborn/distributions.py:2551: FutureWarning: `distplot` is a deprecated function and will be removed in a future version. Please adapt your code to use either `displot` (a figure-level function with similar flexibility) or `histplot` (an axes-level function for histograms).\n",
      "  warnings.warn(msg, FutureWarning)\n"
     ]
    },
    {
     "data": {
      "image/png": "[encoded data removed]",
      "text/plain": [
       "<Figure size 432x288 with 1 Axes>"
      ]
     },
     "metadata": {
      "needs_background": "light"
     },
     "output_type": "display_data"
    }
   ],
   "source": [
    "# Visualize the distribution of 'Day_Mins'\n",
    "sns.distplot(telco['Day_Mins'])\n",
    "# Display the plot\n",
    "plt.show()"
   ]
  },
  {
   "cell_type": "code",
   "execution_count": 15,
   "metadata": {},
   "outputs": [
    {
     "name": "stderr",
     "output_type": "stream",
     "text": [
      "/Users/vraj/opt/anaconda3/lib/python3.8/site-packages/seaborn/distributions.py:2551: FutureWarning: `distplot` is a deprecated function and will be removed in a future version. Please adapt your code to use either `displot` (a figure-level function with similar flexibility) or `histplot` (an axes-level function for histograms).\n",
      "  warnings.warn(msg, FutureWarning)\n"
     ]
    },
    {
     "data": {
      "image/png": "[encoded data removed]",
      "text/plain": [
       "<Figure size 432x288 with 1 Axes>"
      ]
     },
     "metadata": {
      "needs_background": "light"
     },
     "output_type": "display_data"
    }
   ],
   "source": [
    "sns.distplot(telco['Eve_Mins'])\n",
    "# Display the plot\n",
    "plt.show()"
   ]
  },
  {
   "cell_type": "code",
   "execution_count": 16,
   "metadata": {},
   "outputs": [
    {
     "name": "stderr",
     "output_type": "stream",
     "text": [
      "/Users/vraj/opt/anaconda3/lib/python3.8/site-packages/seaborn/distributions.py:2551: FutureWarning: `distplot` is a deprecated function and will be removed in a future version. Please adapt your code to use either `displot` (a figure-level function with similar flexibility) or `histplot` (an axes-level function for histograms).\n",
      "  warnings.warn(msg, FutureWarning)\n"
     ]
    },
    {
     "data": {
      "image/png": "[encoded data removed]",
      "text/plain": [
       "<Figure size 432x288 with 1 Axes>"
      ]
     },
     "metadata": {
      "needs_background": "light"
     },
     "output_type": "display_data"
    }
   ],
   "source": [
    "sns.distplot(telco['Night_Mins'])\n",
    "# Display the plot\n",
    "plt.show()"
   ]
  },
  {
   "cell_type": "code",
   "execution_count": 17,
   "metadata": {},
   "outputs": [
    {
     "name": "stderr",
     "output_type": "stream",
     "text": [
      "/Users/vraj/opt/anaconda3/lib/python3.8/site-packages/seaborn/distributions.py:2551: FutureWarning: `distplot` is a deprecated function and will be removed in a future version. Please adapt your code to use either `displot` (a figure-level function with similar flexibility) or `histplot` (an axes-level function for histograms).\n",
      "  warnings.warn(msg, FutureWarning)\n"
     ]
    },
    {
     "data": {
      "image/png": "[encoded data removed]",
      "text/plain": [
       "<Figure size 432x288 with 1 Axes>"
      ]
     },
     "metadata": {
      "needs_background": "light"
     },
     "output_type": "display_data"
    }
   ],
   "source": [
    "sns.distplot(telco['Intl_Mins'])\n",
    "# Display the plot\n",
    "plt.show()"
   ]
  },
  {
   "cell_type": "code",
   "execution_count": 18,
   "metadata": {},
   "outputs": [
    {
     "data": {
      "image/png": "[encoded data removed]",
      "text/plain": [
       "<Figure size 432x288 with 1 Axes>"
      ]
     },
     "metadata": {
      "needs_background": "light"
     },
     "output_type": "display_data"
    }
   ],
   "source": [
    "#lets visualize difference in account length for churners and non churners\n",
    "sns.boxplot(x='Churn', y='Account_Length', data=telco, sym=\"\")\n",
    "plt.show()"
   ]
  },
  {
   "cell_type": "code",
   "execution_count": 19,
   "metadata": {},
   "outputs": [
    {
     "data": {
      "image/png": "[encoded data removed]",
      "text/plain": [
       "<Figure size 432x288 with 1 Axes>"
      ]
     },
     "metadata": {
      "needs_background": "light"
     },
     "output_type": "display_data"
    }
   ],
   "source": [
    "#add third parameter to check, use hue\n",
    "sns.boxplot(x='Churn', y='Account_Length', data=telco, sym=\"\", hue='Intl_Plan')\n",
    "plt.show()\n",
    "\n",
    "#can see/conclude that having intl plan or not is not much of significance "
   ]
  },
  {
   "cell_type": "code",
   "execution_count": 20,
   "metadata": {},
   "outputs": [
    {
     "data": {
      "image/png": "[encoded data removed]",
      "text/plain": [
       "<Figure size 432x288 with 1 Axes>"
      ]
     },
     "metadata": {
      "needs_background": "light"
     },
     "output_type": "display_data"
    }
   ],
   "source": [
    "#we saw before that there is a difference of custserv calls for churn v non churn, lets plot it using boxplot\n",
    "sns.boxplot(x = 'Churn',\n",
    "          y = 'CustServ_Calls',\n",
    "          data = telco,\n",
    "          sym= \"\") #to remove outliers\n",
    "\n",
    "# Display the plot\n",
    "plt.show()\n",
    "\n",
    "#There is a very noticeable difference here between churners and non-churners!"
   ]
  },
  {
   "cell_type": "code",
   "execution_count": 21,
   "metadata": {},
   "outputs": [
    {
     "data": {
      "image/png": "[encoded data removed]",
      "text/plain": [
       "<Figure size 432x288 with 1 Axes>"
      ]
     },
     "metadata": {
      "needs_background": "light"
     },
     "output_type": "display_data"
    }
   ],
   "source": [
    "#Add a third variable to this plot - 'Vmail_Plan' - to visualize whether or not having a voice mail plan\n",
    "#affects the number of customer service calls or churn.\n",
    "sns.boxplot(x = 'Churn',\n",
    "            y = 'CustServ_Calls',\n",
    "            data = telco,\n",
    "            sym = \"\",\n",
    "            hue = \"Vmail_Plan\")\n",
    "\n",
    "# Display the plot\n",
    "plt.show()"
   ]
  },
  {
   "cell_type": "code",
   "execution_count": 22,
   "metadata": {},
   "outputs": [
    {
     "data": {
      "image/png": "[encoded data removed]",
      "text/plain": [
       "<Figure size 432x288 with 1 Axes>"
      ]
     },
     "metadata": {
      "needs_background": "light"
     },
     "output_type": "display_data"
    }
   ],
   "source": [
    "#Not much of a difference there. Update your code so that the third variable is 'Intl_Plan' instead.\n",
    "sns.boxplot(x = 'Churn',\n",
    "            y = 'CustServ_Calls',\n",
    "            data = telco,\n",
    "            sym = \"\",\n",
    "            hue = \"Intl_Plan\")\n",
    "\n",
    "# Display the plot\n",
    "plt.show()"
   ]
  },
  {
   "cell_type": "markdown",
   "metadata": {},
   "source": [
    "### Models make 2 assumptions:\n",
    "### - that the features are normally distributed (we verified this using plots above)\n",
    "### - that the features are on the same scale\n",
    "\n",
    "### ML algos also require numeric data types, this means\n",
    "   ### - need to encode categorical variables as numeric\n",
    "\n",
    "## Hence we need to preprocess the data"
   ]
  },
  {
   "cell_type": "code",
   "execution_count": 23,
   "metadata": {},
   "outputs": [
    {
     "data": {
      "text/plain": [
       "Account_Length      int64\n",
       "Vmail_Message       int64\n",
       "Day_Mins          float64\n",
       "Eve_Mins          float64\n",
       "Night_Mins        float64\n",
       "Intl_Mins         float64\n",
       "CustServ_Calls      int64\n",
       "Churn              object\n",
       "Intl_Plan          object\n",
       "Vmail_Plan         object\n",
       "Day_Calls           int64\n",
       "Day_Charge        float64\n",
       "Eve_Calls           int64\n",
       "Eve_Charge        float64\n",
       "Night_Calls         int64\n",
       "Night_Charge      float64\n",
       "Intl_Calls          int64\n",
       "Intl_Charge       float64\n",
       "State              object\n",
       "Area_Code           int64\n",
       "Phone              object\n",
       "dtype: object"
      ]
     },
     "execution_count": 23,
     "metadata": {},
     "output_type": "execute_result"
    }
   ],
   "source": [
    "telco.dtypes"
   ]
  },
  {
   "cell_type": "code",
   "execution_count": 24,
   "metadata": {},
   "outputs": [
    {
     "name": "stdout",
     "output_type": "stream",
     "text": [
      "0    1\n",
      "1    1\n",
      "2    0\n",
      "3    0\n",
      "4    0\n",
      "Name: Vmail_Plan, dtype: int64\n",
      "0    0\n",
      "1    0\n",
      "2    0\n",
      "3    0\n",
      "4    0\n",
      "Name: Churn, dtype: int64\n",
      "0    0\n",
      "1    0\n",
      "2    0\n",
      "3    1\n",
      "4    1\n",
      "Name: Intl_Plan, dtype: int64\n"
     ]
    }
   ],
   "source": [
    "# Encode binary features like intl plan\n",
    "# either use .replace() method or skitlearn's LabelEncoder() method\n",
    "# Replace 'no' with 0 and 'yes' with 1 in 'Vmail_Plan'\n",
    "telco['Vmail_Plan'] = telco['Vmail_Plan'].replace({'no':0, 'yes':1})\n",
    "\n",
    "# Replace 'no' with 0 and 'yes' with 1 in 'Churn'\n",
    "telco['Churn'] = telco['Churn'].replace({'no':0, 'yes':1})\n",
    "\n",
    "# Replace 'no' with 0 and 'yes' with 1 in 'Churn'\n",
    "telco['Intl_Plan'] = telco['Intl_Plan'].replace({'no':0, 'yes':1})\n",
    "\n",
    "# Print the results to verify\n",
    "print(telco['Vmail_Plan'].head())\n",
    "print(telco['Churn'].head())\n",
    "print(telco['Intl_Plan'].head())"
   ]
  },
  {
   "cell_type": "markdown",
   "metadata": {},
   "source": [
    "## Encoding STATE\n",
    "### you could assign a number to each state but this is a bad practice since it was introduce some kind of ordering\n",
    "### and makes your model less effective\n",
    "### instead use one hot encoding"
   ]
  },
  {
   "cell_type": "code",
   "execution_count": 25,
   "metadata": {},
   "outputs": [
    {
     "name": "stdout",
     "output_type": "stream",
     "text": [
      "   AK  AL  AR  AZ  CA  CO  CT  DC  DE  FL  ...  SD  TN  TX  UT  VA  VT  WA  \\\n",
      "0   0   0   0   0   0   0   0   0   0   0  ...   0   0   0   0   0   0   0   \n",
      "1   0   0   0   0   0   0   0   0   0   0  ...   0   0   0   0   0   0   0   \n",
      "2   0   0   0   0   0   0   0   0   0   0  ...   0   0   0   0   0   0   0   \n",
      "3   0   0   0   0   0   0   0   0   0   0  ...   0   0   0   0   0   0   0   \n",
      "4   0   0   0   0   0   0   0   0   0   0  ...   0   0   0   0   0   0   0   \n",
      "\n",
      "   WI  WV  WY  \n",
      "0   0   0   0  \n",
      "1   0   0   0  \n",
      "2   0   0   0  \n",
      "3   0   0   0  \n",
      "4   0   0   0  \n",
      "\n",
      "[5 rows x 51 columns]\n"
     ]
    }
   ],
   "source": [
    "# Perform one hot encoding on 'State'\n",
    "telco_state = pd.get_dummies(telco['State'])\n",
    "# Print the head of telco_state\n",
    "print(telco_state.head())"
   ]
  },
  {
   "cell_type": "markdown",
   "metadata": {},
   "source": [
    "## Feature scaling\n",
    "### most models require feature to be on the same scale, but this is rarely true for real world data"
   ]
  },
  {
   "cell_type": "code",
   "execution_count": 26,
   "metadata": {},
   "outputs": [
    {
     "data": {
      "text/plain": [
       "count    3333.000000\n",
       "mean        4.479448\n",
       "std         2.461214\n",
       "min         0.000000\n",
       "25%         3.000000\n",
       "50%         4.000000\n",
       "75%         6.000000\n",
       "max        20.000000\n",
       "Name: Intl_Calls, dtype: float64"
      ]
     },
     "execution_count": 26,
     "metadata": {},
     "output_type": "execute_result"
    }
   ],
   "source": [
    "telco['Intl_Calls'].describe()\n",
    "#ranges from 0 to 20"
   ]
  },
  {
   "cell_type": "code",
   "execution_count": 27,
   "metadata": {},
   "outputs": [
    {
     "data": {
      "text/plain": [
       "count    3333.000000\n",
       "mean      200.872037\n",
       "std        50.573847\n",
       "min        23.200000\n",
       "25%       167.000000\n",
       "50%       201.200000\n",
       "75%       235.300000\n",
       "max       395.000000\n",
       "Name: Night_Mins, dtype: float64"
      ]
     },
     "execution_count": 27,
     "metadata": {},
     "output_type": "execute_result"
    }
   ],
   "source": [
    "telco['Night_Mins'].describe()\n",
    "#ranges from 20 to 400"
   ]
  },
  {
   "cell_type": "markdown",
   "metadata": {},
   "source": [
    "## Scale data into same range - we use STANDARDIZATION"
   ]
  },
  {
   "cell_type": "code",
   "execution_count": 28,
   "metadata": {},
   "outputs": [],
   "source": [
    "# Import StandardScaler\n",
    "from sklearn.preprocessing import StandardScaler"
   ]
  },
  {
   "cell_type": "code",
   "execution_count": 29,
   "metadata": {},
   "outputs": [
    {
     "name": "stdout",
     "output_type": "stream",
     "text": [
      "         Intl_Calls    Night_Mins\n",
      "count  3.333000e+03  3.333000e+03\n",
      "mean  -1.264615e-16  6.602046e-17\n",
      "std    1.000150e+00  1.000150e+00\n",
      "min   -1.820289e+00 -3.513648e+00\n",
      "25%   -6.011951e-01 -6.698545e-01\n",
      "50%   -1.948306e-01  6.485803e-03\n",
      "75%    6.178983e-01  6.808485e-01\n",
      "max    6.307001e+00  3.839081e+00\n"
     ]
    }
   ],
   "source": [
    "scaler=StandardScaler()\n",
    "# Scale telco (night mins and intl calls) using StandardScaler\n",
    "telco_scaled = scaler.fit_transform(telco[[\"Intl_Calls\",\"Night_Mins\"]])\n",
    "\n",
    "# Add column names back for readability\n",
    "telco_scaled_df = pd.DataFrame(telco_scaled, columns=[\"Intl_Calls\", \"Night_Mins\"])\n",
    "\n",
    "# Print summary statistics\n",
    "print(telco_scaled_df.describe())"
   ]
  },
  {
   "cell_type": "markdown",
   "metadata": {},
   "source": [
    "## Drop unnecessary feautes\n",
    "### for eg uniquie identitfiers"
   ]
  },
  {
   "cell_type": "code",
   "execution_count": 30,
   "metadata": {},
   "outputs": [],
   "source": [
    "telco = telco.drop(['Area_Code', 'Phone','State'], axis=1)"
   ]
  },
  {
   "cell_type": "code",
   "execution_count": 31,
   "metadata": {},
   "outputs": [
    {
     "data": {
      "text/plain": [
       "Index(['Account_Length', 'Vmail_Message', 'Day_Mins', 'Eve_Mins', 'Night_Mins',\n",
       "       'Intl_Mins', 'CustServ_Calls', 'Churn', 'Intl_Plan', 'Vmail_Plan',\n",
       "       'Day_Calls', 'Day_Charge', 'Eve_Calls', 'Eve_Charge', 'Night_Calls',\n",
       "       'Night_Charge', 'Intl_Calls', 'Intl_Charge'],\n",
       "      dtype='object')"
      ]
     },
     "execution_count": 31,
     "metadata": {},
     "output_type": "execute_result"
    }
   ],
   "source": [
    "telco.columns"
   ]
  },
  {
   "cell_type": "markdown",
   "metadata": {},
   "source": [
    "## Drop highly correlated features as they do not provide additional information to the model"
   ]
  },
  {
   "cell_type": "code",
   "execution_count": 32,
   "metadata": {},
   "outputs": [
    {
     "data": {
      "text/html": [
       "<style  type=\"text/css\" >\n",
       "#T_8b5c2658_a82c_11eb_b2dc_1e008a3ea458row0_col0,#T_8b5c2658_a82c_11eb_b2dc_1e008a3ea458row1_col1,#T_8b5c2658_a82c_11eb_b2dc_1e008a3ea458row2_col2,#T_8b5c2658_a82c_11eb_b2dc_1e008a3ea458row2_col11,#T_8b5c2658_a82c_11eb_b2dc_1e008a3ea458row3_col3,#T_8b5c2658_a82c_11eb_b2dc_1e008a3ea458row3_col13,#T_8b5c2658_a82c_11eb_b2dc_1e008a3ea458row4_col4,#T_8b5c2658_a82c_11eb_b2dc_1e008a3ea458row4_col15,#T_8b5c2658_a82c_11eb_b2dc_1e008a3ea458row5_col5,#T_8b5c2658_a82c_11eb_b2dc_1e008a3ea458row5_col17,#T_8b5c2658_a82c_11eb_b2dc_1e008a3ea458row6_col6,#T_8b5c2658_a82c_11eb_b2dc_1e008a3ea458row7_col7,#T_8b5c2658_a82c_11eb_b2dc_1e008a3ea458row8_col8,#T_8b5c2658_a82c_11eb_b2dc_1e008a3ea458row9_col9,#T_8b5c2658_a82c_11eb_b2dc_1e008a3ea458row10_col10,#T_8b5c2658_a82c_11eb_b2dc_1e008a3ea458row11_col2,#T_8b5c2658_a82c_11eb_b2dc_1e008a3ea458row11_col11,#T_8b5c2658_a82c_11eb_b2dc_1e008a3ea458row12_col12,#T_8b5c2658_a82c_11eb_b2dc_1e008a3ea458row13_col3,#T_8b5c2658_a82c_11eb_b2dc_1e008a3ea458row13_col13,#T_8b5c2658_a82c_11eb_b2dc_1e008a3ea458row14_col14,#T_8b5c2658_a82c_11eb_b2dc_1e008a3ea458row15_col4,#T_8b5c2658_a82c_11eb_b2dc_1e008a3ea458row15_col15,#T_8b5c2658_a82c_11eb_b2dc_1e008a3ea458row16_col16,#T_8b5c2658_a82c_11eb_b2dc_1e008a3ea458row17_col5,#T_8b5c2658_a82c_11eb_b2dc_1e008a3ea458row17_col17{\n",
       "            background-color:  #023858;\n",
       "            color:  #f1f1f1;\n",
       "        }#T_8b5c2658_a82c_11eb_b2dc_1e008a3ea458row0_col1,#T_8b5c2658_a82c_11eb_b2dc_1e008a3ea458row2_col8,#T_8b5c2658_a82c_11eb_b2dc_1e008a3ea458row6_col9,#T_8b5c2658_a82c_11eb_b2dc_1e008a3ea458row11_col8,#T_8b5c2658_a82c_11eb_b2dc_1e008a3ea458row12_col1{\n",
       "            background-color:  #f4edf6;\n",
       "            color:  #000000;\n",
       "        }#T_8b5c2658_a82c_11eb_b2dc_1e008a3ea458row0_col2,#T_8b5c2658_a82c_11eb_b2dc_1e008a3ea458row0_col3,#T_8b5c2658_a82c_11eb_b2dc_1e008a3ea458row0_col4,#T_8b5c2658_a82c_11eb_b2dc_1e008a3ea458row0_col11,#T_8b5c2658_a82c_11eb_b2dc_1e008a3ea458row0_col13,#T_8b5c2658_a82c_11eb_b2dc_1e008a3ea458row0_col15,#T_8b5c2658_a82c_11eb_b2dc_1e008a3ea458row1_col2,#T_8b5c2658_a82c_11eb_b2dc_1e008a3ea458row1_col5,#T_8b5c2658_a82c_11eb_b2dc_1e008a3ea458row1_col11,#T_8b5c2658_a82c_11eb_b2dc_1e008a3ea458row1_col17,#T_8b5c2658_a82c_11eb_b2dc_1e008a3ea458row2_col0,#T_8b5c2658_a82c_11eb_b2dc_1e008a3ea458row3_col4,#T_8b5c2658_a82c_11eb_b2dc_1e008a3ea458row3_col15,#T_8b5c2658_a82c_11eb_b2dc_1e008a3ea458row4_col2,#T_8b5c2658_a82c_11eb_b2dc_1e008a3ea458row4_col6,#T_8b5c2658_a82c_11eb_b2dc_1e008a3ea458row4_col11,#T_8b5c2658_a82c_11eb_b2dc_1e008a3ea458row5_col4,#T_8b5c2658_a82c_11eb_b2dc_1e008a3ea458row5_col6,#T_8b5c2658_a82c_11eb_b2dc_1e008a3ea458row5_col15,#T_8b5c2658_a82c_11eb_b2dc_1e008a3ea458row6_col4,#T_8b5c2658_a82c_11eb_b2dc_1e008a3ea458row6_col12,#T_8b5c2658_a82c_11eb_b2dc_1e008a3ea458row6_col15,#T_8b5c2658_a82c_11eb_b2dc_1e008a3ea458row8_col12,#T_8b5c2658_a82c_11eb_b2dc_1e008a3ea458row9_col0,#T_8b5c2658_a82c_11eb_b2dc_1e008a3ea458row9_col5,#T_8b5c2658_a82c_11eb_b2dc_1e008a3ea458row9_col17,#T_8b5c2658_a82c_11eb_b2dc_1e008a3ea458row10_col12,#T_8b5c2658_a82c_11eb_b2dc_1e008a3ea458row11_col0,#T_8b5c2658_a82c_11eb_b2dc_1e008a3ea458row13_col4,#T_8b5c2658_a82c_11eb_b2dc_1e008a3ea458row13_col15,#T_8b5c2658_a82c_11eb_b2dc_1e008a3ea458row14_col12,#T_8b5c2658_a82c_11eb_b2dc_1e008a3ea458row15_col2,#T_8b5c2658_a82c_11eb_b2dc_1e008a3ea458row15_col6,#T_8b5c2658_a82c_11eb_b2dc_1e008a3ea458row15_col11,#T_8b5c2658_a82c_11eb_b2dc_1e008a3ea458row16_col4,#T_8b5c2658_a82c_11eb_b2dc_1e008a3ea458row16_col14,#T_8b5c2658_a82c_11eb_b2dc_1e008a3ea458row16_col15,#T_8b5c2658_a82c_11eb_b2dc_1e008a3ea458row17_col4,#T_8b5c2658_a82c_11eb_b2dc_1e008a3ea458row17_col6,#T_8b5c2658_a82c_11eb_b2dc_1e008a3ea458row17_col15{\n",
       "            background-color:  #fdf5fa;\n",
       "            color:  #000000;\n",
       "        }#T_8b5c2658_a82c_11eb_b2dc_1e008a3ea458row0_col5,#T_8b5c2658_a82c_11eb_b2dc_1e008a3ea458row0_col17,#T_8b5c2658_a82c_11eb_b2dc_1e008a3ea458row1_col14,#T_8b5c2658_a82c_11eb_b2dc_1e008a3ea458row2_col12,#T_8b5c2658_a82c_11eb_b2dc_1e008a3ea458row3_col14,#T_8b5c2658_a82c_11eb_b2dc_1e008a3ea458row7_col14,#T_8b5c2658_a82c_11eb_b2dc_1e008a3ea458row8_col10,#T_8b5c2658_a82c_11eb_b2dc_1e008a3ea458row11_col12,#T_8b5c2658_a82c_11eb_b2dc_1e008a3ea458row12_col4,#T_8b5c2658_a82c_11eb_b2dc_1e008a3ea458row12_col5,#T_8b5c2658_a82c_11eb_b2dc_1e008a3ea458row12_col6,#T_8b5c2658_a82c_11eb_b2dc_1e008a3ea458row12_col10,#T_8b5c2658_a82c_11eb_b2dc_1e008a3ea458row12_col14,#T_8b5c2658_a82c_11eb_b2dc_1e008a3ea458row12_col15,#T_8b5c2658_a82c_11eb_b2dc_1e008a3ea458row12_col17,#T_8b5c2658_a82c_11eb_b2dc_1e008a3ea458row13_col14,#T_8b5c2658_a82c_11eb_b2dc_1e008a3ea458row16_col3,#T_8b5c2658_a82c_11eb_b2dc_1e008a3ea458row16_col10,#T_8b5c2658_a82c_11eb_b2dc_1e008a3ea458row16_col13{\n",
       "            background-color:  #fbf4f9;\n",
       "            color:  #000000;\n",
       "        }#T_8b5c2658_a82c_11eb_b2dc_1e008a3ea458row0_col6,#T_8b5c2658_a82c_11eb_b2dc_1e008a3ea458row3_col2,#T_8b5c2658_a82c_11eb_b2dc_1e008a3ea458row3_col11,#T_8b5c2658_a82c_11eb_b2dc_1e008a3ea458row5_col0,#T_8b5c2658_a82c_11eb_b2dc_1e008a3ea458row5_col12,#T_8b5c2658_a82c_11eb_b2dc_1e008a3ea458row7_col12,#T_8b5c2658_a82c_11eb_b2dc_1e008a3ea458row10_col2,#T_8b5c2658_a82c_11eb_b2dc_1e008a3ea458row10_col11,#T_8b5c2658_a82c_11eb_b2dc_1e008a3ea458row13_col2,#T_8b5c2658_a82c_11eb_b2dc_1e008a3ea458row13_col11,#T_8b5c2658_a82c_11eb_b2dc_1e008a3ea458row16_col2,#T_8b5c2658_a82c_11eb_b2dc_1e008a3ea458row16_col11,#T_8b5c2658_a82c_11eb_b2dc_1e008a3ea458row17_col0,#T_8b5c2658_a82c_11eb_b2dc_1e008a3ea458row17_col12{\n",
       "            background-color:  #fcf4fa;\n",
       "            color:  #000000;\n",
       "        }#T_8b5c2658_a82c_11eb_b2dc_1e008a3ea458row0_col7,#T_8b5c2658_a82c_11eb_b2dc_1e008a3ea458row14_col9{\n",
       "            background-color:  #efe9f3;\n",
       "            color:  #000000;\n",
       "        }#T_8b5c2658_a82c_11eb_b2dc_1e008a3ea458row0_col8,#T_8b5c2658_a82c_11eb_b2dc_1e008a3ea458row2_col16,#T_8b5c2658_a82c_11eb_b2dc_1e008a3ea458row3_col16,#T_8b5c2658_a82c_11eb_b2dc_1e008a3ea458row9_col16,#T_8b5c2658_a82c_11eb_b2dc_1e008a3ea458row10_col0,#T_8b5c2658_a82c_11eb_b2dc_1e008a3ea458row10_col16,#T_8b5c2658_a82c_11eb_b2dc_1e008a3ea458row11_col16,#T_8b5c2658_a82c_11eb_b2dc_1e008a3ea458row13_col16{\n",
       "            background-color:  #f7f0f7;\n",
       "            color:  #000000;\n",
       "        }#T_8b5c2658_a82c_11eb_b2dc_1e008a3ea458row0_col9,#T_8b5c2658_a82c_11eb_b2dc_1e008a3ea458row16_col1{\n",
       "            background-color:  #f1ebf4;\n",
       "            color:  #000000;\n",
       "        }#T_8b5c2658_a82c_11eb_b2dc_1e008a3ea458row0_col10,#T_8b5c2658_a82c_11eb_b2dc_1e008a3ea458row8_col2,#T_8b5c2658_a82c_11eb_b2dc_1e008a3ea458row8_col5,#T_8b5c2658_a82c_11eb_b2dc_1e008a3ea458row8_col11,#T_8b5c2658_a82c_11eb_b2dc_1e008a3ea458row8_col17{\n",
       "            background-color:  #f6eff7;\n",
       "            color:  #000000;\n",
       "        }#T_8b5c2658_a82c_11eb_b2dc_1e008a3ea458row0_col12,#T_8b5c2658_a82c_11eb_b2dc_1e008a3ea458row2_col3,#T_8b5c2658_a82c_11eb_b2dc_1e008a3ea458row2_col10,#T_8b5c2658_a82c_11eb_b2dc_1e008a3ea458row2_col13,#T_8b5c2658_a82c_11eb_b2dc_1e008a3ea458row4_col14,#T_8b5c2658_a82c_11eb_b2dc_1e008a3ea458row7_col0,#T_8b5c2658_a82c_11eb_b2dc_1e008a3ea458row11_col3,#T_8b5c2658_a82c_11eb_b2dc_1e008a3ea458row11_col10,#T_8b5c2658_a82c_11eb_b2dc_1e008a3ea458row11_col13,#T_8b5c2658_a82c_11eb_b2dc_1e008a3ea458row12_col2,#T_8b5c2658_a82c_11eb_b2dc_1e008a3ea458row12_col11,#T_8b5c2658_a82c_11eb_b2dc_1e008a3ea458row14_col3,#T_8b5c2658_a82c_11eb_b2dc_1e008a3ea458row14_col13,#T_8b5c2658_a82c_11eb_b2dc_1e008a3ea458row15_col14,#T_8b5c2658_a82c_11eb_b2dc_1e008a3ea458row16_col12{\n",
       "            background-color:  #fbf3f9;\n",
       "            color:  #000000;\n",
       "        }#T_8b5c2658_a82c_11eb_b2dc_1e008a3ea458row0_col14,#T_8b5c2658_a82c_11eb_b2dc_1e008a3ea458row1_col12,#T_8b5c2658_a82c_11eb_b2dc_1e008a3ea458row2_col5,#T_8b5c2658_a82c_11eb_b2dc_1e008a3ea458row2_col17,#T_8b5c2658_a82c_11eb_b2dc_1e008a3ea458row3_col0,#T_8b5c2658_a82c_11eb_b2dc_1e008a3ea458row3_col5,#T_8b5c2658_a82c_11eb_b2dc_1e008a3ea458row3_col17,#T_8b5c2658_a82c_11eb_b2dc_1e008a3ea458row4_col0,#T_8b5c2658_a82c_11eb_b2dc_1e008a3ea458row5_col14,#T_8b5c2658_a82c_11eb_b2dc_1e008a3ea458row6_col5,#T_8b5c2658_a82c_11eb_b2dc_1e008a3ea458row6_col8,#T_8b5c2658_a82c_11eb_b2dc_1e008a3ea458row6_col14,#T_8b5c2658_a82c_11eb_b2dc_1e008a3ea458row6_col17,#T_8b5c2658_a82c_11eb_b2dc_1e008a3ea458row9_col6,#T_8b5c2658_a82c_11eb_b2dc_1e008a3ea458row9_col12,#T_8b5c2658_a82c_11eb_b2dc_1e008a3ea458row10_col6,#T_8b5c2658_a82c_11eb_b2dc_1e008a3ea458row11_col5,#T_8b5c2658_a82c_11eb_b2dc_1e008a3ea458row11_col17,#T_8b5c2658_a82c_11eb_b2dc_1e008a3ea458row13_col0,#T_8b5c2658_a82c_11eb_b2dc_1e008a3ea458row13_col5,#T_8b5c2658_a82c_11eb_b2dc_1e008a3ea458row13_col17,#T_8b5c2658_a82c_11eb_b2dc_1e008a3ea458row15_col0,#T_8b5c2658_a82c_11eb_b2dc_1e008a3ea458row16_col6,#T_8b5c2658_a82c_11eb_b2dc_1e008a3ea458row17_col14{\n",
       "            background-color:  #fef6fb;\n",
       "            color:  #000000;\n",
       "        }#T_8b5c2658_a82c_11eb_b2dc_1e008a3ea458row0_col16,#T_8b5c2658_a82c_11eb_b2dc_1e008a3ea458row6_col1,#T_8b5c2658_a82c_11eb_b2dc_1e008a3ea458row8_col16,#T_8b5c2658_a82c_11eb_b2dc_1e008a3ea458row12_col16{\n",
       "            background-color:  #f5eef6;\n",
       "            color:  #000000;\n",
       "        }#T_8b5c2658_a82c_11eb_b2dc_1e008a3ea458row1_col0,#T_8b5c2658_a82c_11eb_b2dc_1e008a3ea458row1_col6,#T_8b5c2658_a82c_11eb_b2dc_1e008a3ea458row1_col7,#T_8b5c2658_a82c_11eb_b2dc_1e008a3ea458row1_col10,#T_8b5c2658_a82c_11eb_b2dc_1e008a3ea458row2_col6,#T_8b5c2658_a82c_11eb_b2dc_1e008a3ea458row3_col6,#T_8b5c2658_a82c_11eb_b2dc_1e008a3ea458row4_col3,#T_8b5c2658_a82c_11eb_b2dc_1e008a3ea458row4_col12,#T_8b5c2658_a82c_11eb_b2dc_1e008a3ea458row4_col13,#T_8b5c2658_a82c_11eb_b2dc_1e008a3ea458row5_col3,#T_8b5c2658_a82c_11eb_b2dc_1e008a3ea458row5_col13,#T_8b5c2658_a82c_11eb_b2dc_1e008a3ea458row6_col0,#T_8b5c2658_a82c_11eb_b2dc_1e008a3ea458row6_col3,#T_8b5c2658_a82c_11eb_b2dc_1e008a3ea458row6_col13,#T_8b5c2658_a82c_11eb_b2dc_1e008a3ea458row9_col2,#T_8b5c2658_a82c_11eb_b2dc_1e008a3ea458row9_col10,#T_8b5c2658_a82c_11eb_b2dc_1e008a3ea458row9_col11,#T_8b5c2658_a82c_11eb_b2dc_1e008a3ea458row11_col6,#T_8b5c2658_a82c_11eb_b2dc_1e008a3ea458row12_col3,#T_8b5c2658_a82c_11eb_b2dc_1e008a3ea458row12_col13,#T_8b5c2658_a82c_11eb_b2dc_1e008a3ea458row13_col6,#T_8b5c2658_a82c_11eb_b2dc_1e008a3ea458row14_col6,#T_8b5c2658_a82c_11eb_b2dc_1e008a3ea458row15_col3,#T_8b5c2658_a82c_11eb_b2dc_1e008a3ea458row15_col12,#T_8b5c2658_a82c_11eb_b2dc_1e008a3ea458row15_col13,#T_8b5c2658_a82c_11eb_b2dc_1e008a3ea458row17_col3,#T_8b5c2658_a82c_11eb_b2dc_1e008a3ea458row17_col13{\n",
       "            background-color:  #fef6fa;\n",
       "            color:  #000000;\n",
       "        }#T_8b5c2658_a82c_11eb_b2dc_1e008a3ea458row1_col3,#T_8b5c2658_a82c_11eb_b2dc_1e008a3ea458row1_col4,#T_8b5c2658_a82c_11eb_b2dc_1e008a3ea458row1_col8,#T_8b5c2658_a82c_11eb_b2dc_1e008a3ea458row1_col13,#T_8b5c2658_a82c_11eb_b2dc_1e008a3ea458row1_col15,#T_8b5c2658_a82c_11eb_b2dc_1e008a3ea458row4_col16,#T_8b5c2658_a82c_11eb_b2dc_1e008a3ea458row8_col0,#T_8b5c2658_a82c_11eb_b2dc_1e008a3ea458row10_col5,#T_8b5c2658_a82c_11eb_b2dc_1e008a3ea458row10_col17,#T_8b5c2658_a82c_11eb_b2dc_1e008a3ea458row14_col2,#T_8b5c2658_a82c_11eb_b2dc_1e008a3ea458row14_col4,#T_8b5c2658_a82c_11eb_b2dc_1e008a3ea458row14_col11,#T_8b5c2658_a82c_11eb_b2dc_1e008a3ea458row14_col15,#T_8b5c2658_a82c_11eb_b2dc_1e008a3ea458row15_col16{\n",
       "            background-color:  #faf2f8;\n",
       "            color:  #000000;\n",
       "        }#T_8b5c2658_a82c_11eb_b2dc_1e008a3ea458row1_col9,#T_8b5c2658_a82c_11eb_b2dc_1e008a3ea458row9_col1{\n",
       "            background-color:  #034369;\n",
       "            color:  #f1f1f1;\n",
       "        }#T_8b5c2658_a82c_11eb_b2dc_1e008a3ea458row1_col16,#T_8b5c2658_a82c_11eb_b2dc_1e008a3ea458row7_col4,#T_8b5c2658_a82c_11eb_b2dc_1e008a3ea458row7_col15{\n",
       "            background-color:  #f5eff6;\n",
       "            color:  #000000;\n",
       "        }#T_8b5c2658_a82c_11eb_b2dc_1e008a3ea458row2_col1,#T_8b5c2658_a82c_11eb_b2dc_1e008a3ea458row4_col1,#T_8b5c2658_a82c_11eb_b2dc_1e008a3ea458row5_col1,#T_8b5c2658_a82c_11eb_b2dc_1e008a3ea458row7_col5,#T_8b5c2658_a82c_11eb_b2dc_1e008a3ea458row7_col17,#T_8b5c2658_a82c_11eb_b2dc_1e008a3ea458row10_col9,#T_8b5c2658_a82c_11eb_b2dc_1e008a3ea458row11_col1,#T_8b5c2658_a82c_11eb_b2dc_1e008a3ea458row12_col9,#T_8b5c2658_a82c_11eb_b2dc_1e008a3ea458row14_col1,#T_8b5c2658_a82c_11eb_b2dc_1e008a3ea458row15_col1,#T_8b5c2658_a82c_11eb_b2dc_1e008a3ea458row17_col1{\n",
       "            background-color:  #f2ecf5;\n",
       "            color:  #000000;\n",
       "        }#T_8b5c2658_a82c_11eb_b2dc_1e008a3ea458row2_col4,#T_8b5c2658_a82c_11eb_b2dc_1e008a3ea458row2_col15,#T_8b5c2658_a82c_11eb_b2dc_1e008a3ea458row6_col16,#T_8b5c2658_a82c_11eb_b2dc_1e008a3ea458row8_col14,#T_8b5c2658_a82c_11eb_b2dc_1e008a3ea458row9_col4,#T_8b5c2658_a82c_11eb_b2dc_1e008a3ea458row9_col8,#T_8b5c2658_a82c_11eb_b2dc_1e008a3ea458row9_col14,#T_8b5c2658_a82c_11eb_b2dc_1e008a3ea458row9_col15,#T_8b5c2658_a82c_11eb_b2dc_1e008a3ea458row10_col8,#T_8b5c2658_a82c_11eb_b2dc_1e008a3ea458row11_col4,#T_8b5c2658_a82c_11eb_b2dc_1e008a3ea458row11_col15,#T_8b5c2658_a82c_11eb_b2dc_1e008a3ea458row12_col0,#T_8b5c2658_a82c_11eb_b2dc_1e008a3ea458row12_col8,#T_8b5c2658_a82c_11eb_b2dc_1e008a3ea458row16_col0{\n",
       "            background-color:  #faf3f9;\n",
       "            color:  #000000;\n",
       "        }#T_8b5c2658_a82c_11eb_b2dc_1e008a3ea458row2_col7,#T_8b5c2658_a82c_11eb_b2dc_1e008a3ea458row7_col8,#T_8b5c2658_a82c_11eb_b2dc_1e008a3ea458row11_col7{\n",
       "            background-color:  #c6cce3;\n",
       "            color:  #000000;\n",
       "        }#T_8b5c2658_a82c_11eb_b2dc_1e008a3ea458row2_col9,#T_8b5c2658_a82c_11eb_b2dc_1e008a3ea458row5_col9,#T_8b5c2658_a82c_11eb_b2dc_1e008a3ea458row8_col1,#T_8b5c2658_a82c_11eb_b2dc_1e008a3ea458row11_col9,#T_8b5c2658_a82c_11eb_b2dc_1e008a3ea458row17_col9{\n",
       "            background-color:  #f1ebf5;\n",
       "            color:  #000000;\n",
       "        }#T_8b5c2658_a82c_11eb_b2dc_1e008a3ea458row2_col14,#T_8b5c2658_a82c_11eb_b2dc_1e008a3ea458row5_col10,#T_8b5c2658_a82c_11eb_b2dc_1e008a3ea458row7_col10,#T_8b5c2658_a82c_11eb_b2dc_1e008a3ea458row8_col3,#T_8b5c2658_a82c_11eb_b2dc_1e008a3ea458row8_col13,#T_8b5c2658_a82c_11eb_b2dc_1e008a3ea458row9_col3,#T_8b5c2658_a82c_11eb_b2dc_1e008a3ea458row9_col13,#T_8b5c2658_a82c_11eb_b2dc_1e008a3ea458row11_col14,#T_8b5c2658_a82c_11eb_b2dc_1e008a3ea458row14_col8,#T_8b5c2658_a82c_11eb_b2dc_1e008a3ea458row17_col10{\n",
       "            background-color:  #f9f2f8;\n",
       "            color:  #000000;\n",
       "        }#T_8b5c2658_a82c_11eb_b2dc_1e008a3ea458row3_col1,#T_8b5c2658_a82c_11eb_b2dc_1e008a3ea458row4_col9,#T_8b5c2658_a82c_11eb_b2dc_1e008a3ea458row8_col9,#T_8b5c2658_a82c_11eb_b2dc_1e008a3ea458row12_col7,#T_8b5c2658_a82c_11eb_b2dc_1e008a3ea458row13_col1,#T_8b5c2658_a82c_11eb_b2dc_1e008a3ea458row14_col7,#T_8b5c2658_a82c_11eb_b2dc_1e008a3ea458row15_col9,#T_8b5c2658_a82c_11eb_b2dc_1e008a3ea458row16_col9{\n",
       "            background-color:  #f0eaf4;\n",
       "            color:  #000000;\n",
       "        }#T_8b5c2658_a82c_11eb_b2dc_1e008a3ea458row3_col7,#T_8b5c2658_a82c_11eb_b2dc_1e008a3ea458row13_col7{\n",
       "            background-color:  #e0deed;\n",
       "            color:  #000000;\n",
       "        }#T_8b5c2658_a82c_11eb_b2dc_1e008a3ea458row3_col8,#T_8b5c2658_a82c_11eb_b2dc_1e008a3ea458row4_col10,#T_8b5c2658_a82c_11eb_b2dc_1e008a3ea458row10_col4,#T_8b5c2658_a82c_11eb_b2dc_1e008a3ea458row10_col15,#T_8b5c2658_a82c_11eb_b2dc_1e008a3ea458row13_col8,#T_8b5c2658_a82c_11eb_b2dc_1e008a3ea458row14_col16,#T_8b5c2658_a82c_11eb_b2dc_1e008a3ea458row15_col10,#T_8b5c2658_a82c_11eb_b2dc_1e008a3ea458row16_col5,#T_8b5c2658_a82c_11eb_b2dc_1e008a3ea458row16_col7,#T_8b5c2658_a82c_11eb_b2dc_1e008a3ea458row16_col8,#T_8b5c2658_a82c_11eb_b2dc_1e008a3ea458row16_col17{\n",
       "            background-color:  #f8f1f8;\n",
       "            color:  #000000;\n",
       "        }#T_8b5c2658_a82c_11eb_b2dc_1e008a3ea458row3_col9,#T_8b5c2658_a82c_11eb_b2dc_1e008a3ea458row7_col3,#T_8b5c2658_a82c_11eb_b2dc_1e008a3ea458row7_col13,#T_8b5c2658_a82c_11eb_b2dc_1e008a3ea458row10_col7,#T_8b5c2658_a82c_11eb_b2dc_1e008a3ea458row13_col9{\n",
       "            background-color:  #eee9f3;\n",
       "            color:  #000000;\n",
       "        }#T_8b5c2658_a82c_11eb_b2dc_1e008a3ea458row3_col10,#T_8b5c2658_a82c_11eb_b2dc_1e008a3ea458row3_col12,#T_8b5c2658_a82c_11eb_b2dc_1e008a3ea458row4_col5,#T_8b5c2658_a82c_11eb_b2dc_1e008a3ea458row4_col8,#T_8b5c2658_a82c_11eb_b2dc_1e008a3ea458row4_col17,#T_8b5c2658_a82c_11eb_b2dc_1e008a3ea458row5_col2,#T_8b5c2658_a82c_11eb_b2dc_1e008a3ea458row5_col11,#T_8b5c2658_a82c_11eb_b2dc_1e008a3ea458row6_col2,#T_8b5c2658_a82c_11eb_b2dc_1e008a3ea458row6_col10,#T_8b5c2658_a82c_11eb_b2dc_1e008a3ea458row6_col11,#T_8b5c2658_a82c_11eb_b2dc_1e008a3ea458row7_col1,#T_8b5c2658_a82c_11eb_b2dc_1e008a3ea458row7_col9,#T_8b5c2658_a82c_11eb_b2dc_1e008a3ea458row7_col16,#T_8b5c2658_a82c_11eb_b2dc_1e008a3ea458row8_col4,#T_8b5c2658_a82c_11eb_b2dc_1e008a3ea458row8_col6,#T_8b5c2658_a82c_11eb_b2dc_1e008a3ea458row8_col15,#T_8b5c2658_a82c_11eb_b2dc_1e008a3ea458row9_col7,#T_8b5c2658_a82c_11eb_b2dc_1e008a3ea458row10_col3,#T_8b5c2658_a82c_11eb_b2dc_1e008a3ea458row10_col13,#T_8b5c2658_a82c_11eb_b2dc_1e008a3ea458row10_col14,#T_8b5c2658_a82c_11eb_b2dc_1e008a3ea458row13_col10,#T_8b5c2658_a82c_11eb_b2dc_1e008a3ea458row13_col12,#T_8b5c2658_a82c_11eb_b2dc_1e008a3ea458row14_col0,#T_8b5c2658_a82c_11eb_b2dc_1e008a3ea458row14_col5,#T_8b5c2658_a82c_11eb_b2dc_1e008a3ea458row14_col10,#T_8b5c2658_a82c_11eb_b2dc_1e008a3ea458row14_col17,#T_8b5c2658_a82c_11eb_b2dc_1e008a3ea458row15_col5,#T_8b5c2658_a82c_11eb_b2dc_1e008a3ea458row15_col8,#T_8b5c2658_a82c_11eb_b2dc_1e008a3ea458row15_col17,#T_8b5c2658_a82c_11eb_b2dc_1e008a3ea458row17_col2,#T_8b5c2658_a82c_11eb_b2dc_1e008a3ea458row17_col11{\n",
       "            background-color:  #fff7fb;\n",
       "            color:  #000000;\n",
       "        }#T_8b5c2658_a82c_11eb_b2dc_1e008a3ea458row4_col7,#T_8b5c2658_a82c_11eb_b2dc_1e008a3ea458row15_col7{\n",
       "            background-color:  #ede7f2;\n",
       "            color:  #000000;\n",
       "        }#T_8b5c2658_a82c_11eb_b2dc_1e008a3ea458row5_col7,#T_8b5c2658_a82c_11eb_b2dc_1e008a3ea458row17_col7{\n",
       "            background-color:  #e6e2ef;\n",
       "            color:  #000000;\n",
       "        }#T_8b5c2658_a82c_11eb_b2dc_1e008a3ea458row5_col8,#T_8b5c2658_a82c_11eb_b2dc_1e008a3ea458row10_col1,#T_8b5c2658_a82c_11eb_b2dc_1e008a3ea458row17_col8{\n",
       "            background-color:  #f4eef6;\n",
       "            color:  #000000;\n",
       "        }#T_8b5c2658_a82c_11eb_b2dc_1e008a3ea458row5_col16,#T_8b5c2658_a82c_11eb_b2dc_1e008a3ea458row17_col16{\n",
       "            background-color:  #f3edf5;\n",
       "            color:  #000000;\n",
       "        }#T_8b5c2658_a82c_11eb_b2dc_1e008a3ea458row6_col7{\n",
       "            background-color:  #c5cce3;\n",
       "            color:  #000000;\n",
       "        }#T_8b5c2658_a82c_11eb_b2dc_1e008a3ea458row7_col2,#T_8b5c2658_a82c_11eb_b2dc_1e008a3ea458row7_col11{\n",
       "            background-color:  #d8d7e9;\n",
       "            color:  #000000;\n",
       "        }#T_8b5c2658_a82c_11eb_b2dc_1e008a3ea458row7_col6{\n",
       "            background-color:  #d5d5e8;\n",
       "            color:  #000000;\n",
       "        }#T_8b5c2658_a82c_11eb_b2dc_1e008a3ea458row8_col7{\n",
       "            background-color:  #b5c4df;\n",
       "            color:  #000000;\n",
       "        }</style><table id=\"T_8b5c2658_a82c_11eb_b2dc_1e008a3ea458\" ><thead>    <tr>        <th class=\"blank level0\" ></th>        <th class=\"col_heading level0 col0\" >Account_Length</th>        <th class=\"col_heading level0 col1\" >Vmail_Message</th>        <th class=\"col_heading level0 col2\" >Day_Mins</th>        <th class=\"col_heading level0 col3\" >Eve_Mins</th>        <th class=\"col_heading level0 col4\" >Night_Mins</th>        <th class=\"col_heading level0 col5\" >Intl_Mins</th>        <th class=\"col_heading level0 col6\" >CustServ_Calls</th>        <th class=\"col_heading level0 col7\" >Churn</th>        <th class=\"col_heading level0 col8\" >Intl_Plan</th>        <th class=\"col_heading level0 col9\" >Vmail_Plan</th>        <th class=\"col_heading level0 col10\" >Day_Calls</th>        <th class=\"col_heading level0 col11\" >Day_Charge</th>        <th class=\"col_heading level0 col12\" >Eve_Calls</th>        <th class=\"col_heading level0 col13\" >Eve_Charge</th>        <th class=\"col_heading level0 col14\" >Night_Calls</th>        <th class=\"col_heading level0 col15\" >Night_Charge</th>        <th class=\"col_heading level0 col16\" >Intl_Calls</th>        <th class=\"col_heading level0 col17\" >Intl_Charge</th>    </tr></thead><tbody>\n",
       "                <tr>\n",
       "                        <th id=\"T_8b5c2658_a82c_11eb_b2dc_1e008a3ea458level0_row0\" class=\"row_heading level0 row0\" >Account_Length</th>\n",
       "                        <td id=\"T_8b5c2658_a82c_11eb_b2dc_1e008a3ea458row0_col0\" class=\"data row0 col0\" >1.000000</td>\n",
       "                        <td id=\"T_8b5c2658_a82c_11eb_b2dc_1e008a3ea458row0_col1\" class=\"data row0 col1\" >-0.004628</td>\n",
       "                        <td id=\"T_8b5c2658_a82c_11eb_b2dc_1e008a3ea458row0_col2\" class=\"data row0 col2\" >0.006216</td>\n",
       "                        <td id=\"T_8b5c2658_a82c_11eb_b2dc_1e008a3ea458row0_col3\" class=\"data row0 col3\" >-0.006757</td>\n",
       "                        <td id=\"T_8b5c2658_a82c_11eb_b2dc_1e008a3ea458row0_col4\" class=\"data row0 col4\" >-0.008955</td>\n",
       "                        <td id=\"T_8b5c2658_a82c_11eb_b2dc_1e008a3ea458row0_col5\" class=\"data row0 col5\" >0.009514</td>\n",
       "                        <td id=\"T_8b5c2658_a82c_11eb_b2dc_1e008a3ea458row0_col6\" class=\"data row0 col6\" >-0.003796</td>\n",
       "                        <td id=\"T_8b5c2658_a82c_11eb_b2dc_1e008a3ea458row0_col7\" class=\"data row0 col7\" >0.016541</td>\n",
       "                        <td id=\"T_8b5c2658_a82c_11eb_b2dc_1e008a3ea458row0_col8\" class=\"data row0 col8\" >0.024735</td>\n",
       "                        <td id=\"T_8b5c2658_a82c_11eb_b2dc_1e008a3ea458row0_col9\" class=\"data row0 col9\" >0.002918</td>\n",
       "                        <td id=\"T_8b5c2658_a82c_11eb_b2dc_1e008a3ea458row0_col10\" class=\"data row0 col10\" >0.038470</td>\n",
       "                        <td id=\"T_8b5c2658_a82c_11eb_b2dc_1e008a3ea458row0_col11\" class=\"data row0 col11\" >0.006214</td>\n",
       "                        <td id=\"T_8b5c2658_a82c_11eb_b2dc_1e008a3ea458row0_col12\" class=\"data row0 col12\" >0.019260</td>\n",
       "                        <td id=\"T_8b5c2658_a82c_11eb_b2dc_1e008a3ea458row0_col13\" class=\"data row0 col13\" >-0.006745</td>\n",
       "                        <td id=\"T_8b5c2658_a82c_11eb_b2dc_1e008a3ea458row0_col14\" class=\"data row0 col14\" >-0.013176</td>\n",
       "                        <td id=\"T_8b5c2658_a82c_11eb_b2dc_1e008a3ea458row0_col15\" class=\"data row0 col15\" >-0.008960</td>\n",
       "                        <td id=\"T_8b5c2658_a82c_11eb_b2dc_1e008a3ea458row0_col16\" class=\"data row0 col16\" >0.020661</td>\n",
       "                        <td id=\"T_8b5c2658_a82c_11eb_b2dc_1e008a3ea458row0_col17\" class=\"data row0 col17\" >0.009546</td>\n",
       "            </tr>\n",
       "            <tr>\n",
       "                        <th id=\"T_8b5c2658_a82c_11eb_b2dc_1e008a3ea458level0_row1\" class=\"row_heading level0 row1\" >Vmail_Message</th>\n",
       "                        <td id=\"T_8b5c2658_a82c_11eb_b2dc_1e008a3ea458row1_col0\" class=\"data row1 col0\" >-0.004628</td>\n",
       "                        <td id=\"T_8b5c2658_a82c_11eb_b2dc_1e008a3ea458row1_col1\" class=\"data row1 col1\" >1.000000</td>\n",
       "                        <td id=\"T_8b5c2658_a82c_11eb_b2dc_1e008a3ea458row1_col2\" class=\"data row1 col2\" >0.000778</td>\n",
       "                        <td id=\"T_8b5c2658_a82c_11eb_b2dc_1e008a3ea458row1_col3\" class=\"data row1 col3\" >0.017562</td>\n",
       "                        <td id=\"T_8b5c2658_a82c_11eb_b2dc_1e008a3ea458row1_col4\" class=\"data row1 col4\" >0.007681</td>\n",
       "                        <td id=\"T_8b5c2658_a82c_11eb_b2dc_1e008a3ea458row1_col5\" class=\"data row1 col5\" >0.002856</td>\n",
       "                        <td id=\"T_8b5c2658_a82c_11eb_b2dc_1e008a3ea458row1_col6\" class=\"data row1 col6\" >-0.013263</td>\n",
       "                        <td id=\"T_8b5c2658_a82c_11eb_b2dc_1e008a3ea458row1_col7\" class=\"data row1 col7\" >-0.089728</td>\n",
       "                        <td id=\"T_8b5c2658_a82c_11eb_b2dc_1e008a3ea458row1_col8\" class=\"data row1 col8\" >0.008745</td>\n",
       "                        <td id=\"T_8b5c2658_a82c_11eb_b2dc_1e008a3ea458row1_col9\" class=\"data row1 col9\" >0.956927</td>\n",
       "                        <td id=\"T_8b5c2658_a82c_11eb_b2dc_1e008a3ea458row1_col10\" class=\"data row1 col10\" >-0.009548</td>\n",
       "                        <td id=\"T_8b5c2658_a82c_11eb_b2dc_1e008a3ea458row1_col11\" class=\"data row1 col11\" >0.000776</td>\n",
       "                        <td id=\"T_8b5c2658_a82c_11eb_b2dc_1e008a3ea458row1_col12\" class=\"data row1 col12\" >-0.005864</td>\n",
       "                        <td id=\"T_8b5c2658_a82c_11eb_b2dc_1e008a3ea458row1_col13\" class=\"data row1 col13\" >0.017578</td>\n",
       "                        <td id=\"T_8b5c2658_a82c_11eb_b2dc_1e008a3ea458row1_col14\" class=\"data row1 col14\" >0.007123</td>\n",
       "                        <td id=\"T_8b5c2658_a82c_11eb_b2dc_1e008a3ea458row1_col15\" class=\"data row1 col15\" >0.007663</td>\n",
       "                        <td id=\"T_8b5c2658_a82c_11eb_b2dc_1e008a3ea458row1_col16\" class=\"data row1 col16\" >0.013957</td>\n",
       "                        <td id=\"T_8b5c2658_a82c_11eb_b2dc_1e008a3ea458row1_col17\" class=\"data row1 col17\" >0.002884</td>\n",
       "            </tr>\n",
       "            <tr>\n",
       "                        <th id=\"T_8b5c2658_a82c_11eb_b2dc_1e008a3ea458level0_row2\" class=\"row_heading level0 row2\" >Day_Mins</th>\n",
       "                        <td id=\"T_8b5c2658_a82c_11eb_b2dc_1e008a3ea458row2_col0\" class=\"data row2 col0\" >0.006216</td>\n",
       "                        <td id=\"T_8b5c2658_a82c_11eb_b2dc_1e008a3ea458row2_col1\" class=\"data row2 col1\" >0.000778</td>\n",
       "                        <td id=\"T_8b5c2658_a82c_11eb_b2dc_1e008a3ea458row2_col2\" class=\"data row2 col2\" >1.000000</td>\n",
       "                        <td id=\"T_8b5c2658_a82c_11eb_b2dc_1e008a3ea458row2_col3\" class=\"data row2 col3\" >0.007043</td>\n",
       "                        <td id=\"T_8b5c2658_a82c_11eb_b2dc_1e008a3ea458row2_col4\" class=\"data row2 col4\" >0.004323</td>\n",
       "                        <td id=\"T_8b5c2658_a82c_11eb_b2dc_1e008a3ea458row2_col5\" class=\"data row2 col5\" >-0.010155</td>\n",
       "                        <td id=\"T_8b5c2658_a82c_11eb_b2dc_1e008a3ea458row2_col6\" class=\"data row2 col6\" >-0.013423</td>\n",
       "                        <td id=\"T_8b5c2658_a82c_11eb_b2dc_1e008a3ea458row2_col7\" class=\"data row2 col7\" >0.205151</td>\n",
       "                        <td id=\"T_8b5c2658_a82c_11eb_b2dc_1e008a3ea458row2_col8\" class=\"data row2 col8\" >0.049396</td>\n",
       "                        <td id=\"T_8b5c2658_a82c_11eb_b2dc_1e008a3ea458row2_col9\" class=\"data row2 col9\" >-0.001684</td>\n",
       "                        <td id=\"T_8b5c2658_a82c_11eb_b2dc_1e008a3ea458row2_col10\" class=\"data row2 col10\" >0.006750</td>\n",
       "                        <td id=\"T_8b5c2658_a82c_11eb_b2dc_1e008a3ea458row2_col11\" class=\"data row2 col11\" >1.000000</td>\n",
       "                        <td id=\"T_8b5c2658_a82c_11eb_b2dc_1e008a3ea458row2_col12\" class=\"data row2 col12\" >0.015769</td>\n",
       "                        <td id=\"T_8b5c2658_a82c_11eb_b2dc_1e008a3ea458row2_col13\" class=\"data row2 col13\" >0.007029</td>\n",
       "                        <td id=\"T_8b5c2658_a82c_11eb_b2dc_1e008a3ea458row2_col14\" class=\"data row2 col14\" >0.022972</td>\n",
       "                        <td id=\"T_8b5c2658_a82c_11eb_b2dc_1e008a3ea458row2_col15\" class=\"data row2 col15\" >0.004300</td>\n",
       "                        <td id=\"T_8b5c2658_a82c_11eb_b2dc_1e008a3ea458row2_col16\" class=\"data row2 col16\" >0.008033</td>\n",
       "                        <td id=\"T_8b5c2658_a82c_11eb_b2dc_1e008a3ea458row2_col17\" class=\"data row2 col17\" >-0.010092</td>\n",
       "            </tr>\n",
       "            <tr>\n",
       "                        <th id=\"T_8b5c2658_a82c_11eb_b2dc_1e008a3ea458level0_row3\" class=\"row_heading level0 row3\" >Eve_Mins</th>\n",
       "                        <td id=\"T_8b5c2658_a82c_11eb_b2dc_1e008a3ea458row3_col0\" class=\"data row3 col0\" >-0.006757</td>\n",
       "                        <td id=\"T_8b5c2658_a82c_11eb_b2dc_1e008a3ea458row3_col1\" class=\"data row3 col1\" >0.017562</td>\n",
       "                        <td id=\"T_8b5c2658_a82c_11eb_b2dc_1e008a3ea458row3_col2\" class=\"data row3 col2\" >0.007043</td>\n",
       "                        <td id=\"T_8b5c2658_a82c_11eb_b2dc_1e008a3ea458row3_col3\" class=\"data row3 col3\" >1.000000</td>\n",
       "                        <td id=\"T_8b5c2658_a82c_11eb_b2dc_1e008a3ea458row3_col4\" class=\"data row3 col4\" >-0.012584</td>\n",
       "                        <td id=\"T_8b5c2658_a82c_11eb_b2dc_1e008a3ea458row3_col5\" class=\"data row3 col5\" >-0.011035</td>\n",
       "                        <td id=\"T_8b5c2658_a82c_11eb_b2dc_1e008a3ea458row3_col6\" class=\"data row3 col6\" >-0.012985</td>\n",
       "                        <td id=\"T_8b5c2658_a82c_11eb_b2dc_1e008a3ea458row3_col7\" class=\"data row3 col7\" >0.092796</td>\n",
       "                        <td id=\"T_8b5c2658_a82c_11eb_b2dc_1e008a3ea458row3_col8\" class=\"data row3 col8\" >0.019100</td>\n",
       "                        <td id=\"T_8b5c2658_a82c_11eb_b2dc_1e008a3ea458row3_col9\" class=\"data row3 col9\" >0.021545</td>\n",
       "                        <td id=\"T_8b5c2658_a82c_11eb_b2dc_1e008a3ea458row3_col10\" class=\"data row3 col10\" >-0.021451</td>\n",
       "                        <td id=\"T_8b5c2658_a82c_11eb_b2dc_1e008a3ea458row3_col11\" class=\"data row3 col11\" >0.007050</td>\n",
       "                        <td id=\"T_8b5c2658_a82c_11eb_b2dc_1e008a3ea458row3_col12\" class=\"data row3 col12\" >-0.011430</td>\n",
       "                        <td id=\"T_8b5c2658_a82c_11eb_b2dc_1e008a3ea458row3_col13\" class=\"data row3 col13\" >1.000000</td>\n",
       "                        <td id=\"T_8b5c2658_a82c_11eb_b2dc_1e008a3ea458row3_col14\" class=\"data row3 col14\" >0.007586</td>\n",
       "                        <td id=\"T_8b5c2658_a82c_11eb_b2dc_1e008a3ea458row3_col15\" class=\"data row3 col15\" >-0.012593</td>\n",
       "                        <td id=\"T_8b5c2658_a82c_11eb_b2dc_1e008a3ea458row3_col16\" class=\"data row3 col16\" >0.002541</td>\n",
       "                        <td id=\"T_8b5c2658_a82c_11eb_b2dc_1e008a3ea458row3_col17\" class=\"data row3 col17\" >-0.011067</td>\n",
       "            </tr>\n",
       "            <tr>\n",
       "                        <th id=\"T_8b5c2658_a82c_11eb_b2dc_1e008a3ea458level0_row4\" class=\"row_heading level0 row4\" >Night_Mins</th>\n",
       "                        <td id=\"T_8b5c2658_a82c_11eb_b2dc_1e008a3ea458row4_col0\" class=\"data row4 col0\" >-0.008955</td>\n",
       "                        <td id=\"T_8b5c2658_a82c_11eb_b2dc_1e008a3ea458row4_col1\" class=\"data row4 col1\" >0.007681</td>\n",
       "                        <td id=\"T_8b5c2658_a82c_11eb_b2dc_1e008a3ea458row4_col2\" class=\"data row4 col2\" >0.004323</td>\n",
       "                        <td id=\"T_8b5c2658_a82c_11eb_b2dc_1e008a3ea458row4_col3\" class=\"data row4 col3\" >-0.012584</td>\n",
       "                        <td id=\"T_8b5c2658_a82c_11eb_b2dc_1e008a3ea458row4_col4\" class=\"data row4 col4\" >1.000000</td>\n",
       "                        <td id=\"T_8b5c2658_a82c_11eb_b2dc_1e008a3ea458row4_col5\" class=\"data row4 col5\" >-0.015207</td>\n",
       "                        <td id=\"T_8b5c2658_a82c_11eb_b2dc_1e008a3ea458row4_col6\" class=\"data row4 col6\" >-0.009288</td>\n",
       "                        <td id=\"T_8b5c2658_a82c_11eb_b2dc_1e008a3ea458row4_col7\" class=\"data row4 col7\" >0.035493</td>\n",
       "                        <td id=\"T_8b5c2658_a82c_11eb_b2dc_1e008a3ea458row4_col8\" class=\"data row4 col8\" >-0.028905</td>\n",
       "                        <td id=\"T_8b5c2658_a82c_11eb_b2dc_1e008a3ea458row4_col9\" class=\"data row4 col9\" >0.006079</td>\n",
       "                        <td id=\"T_8b5c2658_a82c_11eb_b2dc_1e008a3ea458row4_col10\" class=\"data row4 col10\" >0.022938</td>\n",
       "                        <td id=\"T_8b5c2658_a82c_11eb_b2dc_1e008a3ea458row4_col11\" class=\"data row4 col11\" >0.004324</td>\n",
       "                        <td id=\"T_8b5c2658_a82c_11eb_b2dc_1e008a3ea458row4_col12\" class=\"data row4 col12\" >-0.002093</td>\n",
       "                        <td id=\"T_8b5c2658_a82c_11eb_b2dc_1e008a3ea458row4_col13\" class=\"data row4 col13\" >-0.012592</td>\n",
       "                        <td id=\"T_8b5c2658_a82c_11eb_b2dc_1e008a3ea458row4_col14\" class=\"data row4 col14\" >0.011204</td>\n",
       "                        <td id=\"T_8b5c2658_a82c_11eb_b2dc_1e008a3ea458row4_col15\" class=\"data row4 col15\" >0.999999</td>\n",
       "                        <td id=\"T_8b5c2658_a82c_11eb_b2dc_1e008a3ea458row4_col16\" class=\"data row4 col16\" >-0.012353</td>\n",
       "                        <td id=\"T_8b5c2658_a82c_11eb_b2dc_1e008a3ea458row4_col17\" class=\"data row4 col17\" >-0.015180</td>\n",
       "            </tr>\n",
       "            <tr>\n",
       "                        <th id=\"T_8b5c2658_a82c_11eb_b2dc_1e008a3ea458level0_row5\" class=\"row_heading level0 row5\" >Intl_Mins</th>\n",
       "                        <td id=\"T_8b5c2658_a82c_11eb_b2dc_1e008a3ea458row5_col0\" class=\"data row5 col0\" >0.009514</td>\n",
       "                        <td id=\"T_8b5c2658_a82c_11eb_b2dc_1e008a3ea458row5_col1\" class=\"data row5 col1\" >0.002856</td>\n",
       "                        <td id=\"T_8b5c2658_a82c_11eb_b2dc_1e008a3ea458row5_col2\" class=\"data row5 col2\" >-0.010155</td>\n",
       "                        <td id=\"T_8b5c2658_a82c_11eb_b2dc_1e008a3ea458row5_col3\" class=\"data row5 col3\" >-0.011035</td>\n",
       "                        <td id=\"T_8b5c2658_a82c_11eb_b2dc_1e008a3ea458row5_col4\" class=\"data row5 col4\" >-0.015207</td>\n",
       "                        <td id=\"T_8b5c2658_a82c_11eb_b2dc_1e008a3ea458row5_col5\" class=\"data row5 col5\" >1.000000</td>\n",
       "                        <td id=\"T_8b5c2658_a82c_11eb_b2dc_1e008a3ea458row5_col6\" class=\"data row5 col6\" >-0.009640</td>\n",
       "                        <td id=\"T_8b5c2658_a82c_11eb_b2dc_1e008a3ea458row5_col7\" class=\"data row5 col7\" >0.068239</td>\n",
       "                        <td id=\"T_8b5c2658_a82c_11eb_b2dc_1e008a3ea458row5_col8\" class=\"data row5 col8\" >0.045871</td>\n",
       "                        <td id=\"T_8b5c2658_a82c_11eb_b2dc_1e008a3ea458row5_col9\" class=\"data row5 col9\" >-0.001318</td>\n",
       "                        <td id=\"T_8b5c2658_a82c_11eb_b2dc_1e008a3ea458row5_col10\" class=\"data row5 col10\" >0.021565</td>\n",
       "                        <td id=\"T_8b5c2658_a82c_11eb_b2dc_1e008a3ea458row5_col11\" class=\"data row5 col11\" >-0.010157</td>\n",
       "                        <td id=\"T_8b5c2658_a82c_11eb_b2dc_1e008a3ea458row5_col12\" class=\"data row5 col12\" >0.008703</td>\n",
       "                        <td id=\"T_8b5c2658_a82c_11eb_b2dc_1e008a3ea458row5_col13\" class=\"data row5 col13\" >-0.011043</td>\n",
       "                        <td id=\"T_8b5c2658_a82c_11eb_b2dc_1e008a3ea458row5_col14\" class=\"data row5 col14\" >-0.013605</td>\n",
       "                        <td id=\"T_8b5c2658_a82c_11eb_b2dc_1e008a3ea458row5_col15\" class=\"data row5 col15\" >-0.015214</td>\n",
       "                        <td id=\"T_8b5c2658_a82c_11eb_b2dc_1e008a3ea458row5_col16\" class=\"data row5 col16\" >0.032304</td>\n",
       "                        <td id=\"T_8b5c2658_a82c_11eb_b2dc_1e008a3ea458row5_col17\" class=\"data row5 col17\" >0.999993</td>\n",
       "            </tr>\n",
       "            <tr>\n",
       "                        <th id=\"T_8b5c2658_a82c_11eb_b2dc_1e008a3ea458level0_row6\" class=\"row_heading level0 row6\" >CustServ_Calls</th>\n",
       "                        <td id=\"T_8b5c2658_a82c_11eb_b2dc_1e008a3ea458row6_col0\" class=\"data row6 col0\" >-0.003796</td>\n",
       "                        <td id=\"T_8b5c2658_a82c_11eb_b2dc_1e008a3ea458row6_col1\" class=\"data row6 col1\" >-0.013263</td>\n",
       "                        <td id=\"T_8b5c2658_a82c_11eb_b2dc_1e008a3ea458row6_col2\" class=\"data row6 col2\" >-0.013423</td>\n",
       "                        <td id=\"T_8b5c2658_a82c_11eb_b2dc_1e008a3ea458row6_col3\" class=\"data row6 col3\" >-0.012985</td>\n",
       "                        <td id=\"T_8b5c2658_a82c_11eb_b2dc_1e008a3ea458row6_col4\" class=\"data row6 col4\" >-0.009288</td>\n",
       "                        <td id=\"T_8b5c2658_a82c_11eb_b2dc_1e008a3ea458row6_col5\" class=\"data row6 col5\" >-0.009640</td>\n",
       "                        <td id=\"T_8b5c2658_a82c_11eb_b2dc_1e008a3ea458row6_col6\" class=\"data row6 col6\" >1.000000</td>\n",
       "                        <td id=\"T_8b5c2658_a82c_11eb_b2dc_1e008a3ea458row6_col7\" class=\"data row6 col7\" >0.208750</td>\n",
       "                        <td id=\"T_8b5c2658_a82c_11eb_b2dc_1e008a3ea458row6_col8\" class=\"data row6 col8\" >-0.024522</td>\n",
       "                        <td id=\"T_8b5c2658_a82c_11eb_b2dc_1e008a3ea458row6_col9\" class=\"data row6 col9\" >-0.017824</td>\n",
       "                        <td id=\"T_8b5c2658_a82c_11eb_b2dc_1e008a3ea458row6_col10\" class=\"data row6 col10\" >-0.018942</td>\n",
       "                        <td id=\"T_8b5c2658_a82c_11eb_b2dc_1e008a3ea458row6_col11\" class=\"data row6 col11\" >-0.013427</td>\n",
       "                        <td id=\"T_8b5c2658_a82c_11eb_b2dc_1e008a3ea458row6_col12\" class=\"data row6 col12\" >0.002423</td>\n",
       "                        <td id=\"T_8b5c2658_a82c_11eb_b2dc_1e008a3ea458row6_col13\" class=\"data row6 col13\" >-0.012987</td>\n",
       "                        <td id=\"T_8b5c2658_a82c_11eb_b2dc_1e008a3ea458row6_col14\" class=\"data row6 col14\" >-0.012802</td>\n",
       "                        <td id=\"T_8b5c2658_a82c_11eb_b2dc_1e008a3ea458row6_col15\" class=\"data row6 col15\" >-0.009277</td>\n",
       "                        <td id=\"T_8b5c2658_a82c_11eb_b2dc_1e008a3ea458row6_col16\" class=\"data row6 col16\" >-0.017561</td>\n",
       "                        <td id=\"T_8b5c2658_a82c_11eb_b2dc_1e008a3ea458row6_col17\" class=\"data row6 col17\" >-0.009675</td>\n",
       "            </tr>\n",
       "            <tr>\n",
       "                        <th id=\"T_8b5c2658_a82c_11eb_b2dc_1e008a3ea458level0_row7\" class=\"row_heading level0 row7\" >Churn</th>\n",
       "                        <td id=\"T_8b5c2658_a82c_11eb_b2dc_1e008a3ea458row7_col0\" class=\"data row7 col0\" >0.016541</td>\n",
       "                        <td id=\"T_8b5c2658_a82c_11eb_b2dc_1e008a3ea458row7_col1\" class=\"data row7 col1\" >-0.089728</td>\n",
       "                        <td id=\"T_8b5c2658_a82c_11eb_b2dc_1e008a3ea458row7_col2\" class=\"data row7 col2\" >0.205151</td>\n",
       "                        <td id=\"T_8b5c2658_a82c_11eb_b2dc_1e008a3ea458row7_col3\" class=\"data row7 col3\" >0.092796</td>\n",
       "                        <td id=\"T_8b5c2658_a82c_11eb_b2dc_1e008a3ea458row7_col4\" class=\"data row7 col4\" >0.035493</td>\n",
       "                        <td id=\"T_8b5c2658_a82c_11eb_b2dc_1e008a3ea458row7_col5\" class=\"data row7 col5\" >0.068239</td>\n",
       "                        <td id=\"T_8b5c2658_a82c_11eb_b2dc_1e008a3ea458row7_col6\" class=\"data row7 col6\" >0.208750</td>\n",
       "                        <td id=\"T_8b5c2658_a82c_11eb_b2dc_1e008a3ea458row7_col7\" class=\"data row7 col7\" >1.000000</td>\n",
       "                        <td id=\"T_8b5c2658_a82c_11eb_b2dc_1e008a3ea458row7_col8\" class=\"data row7 col8\" >0.259852</td>\n",
       "                        <td id=\"T_8b5c2658_a82c_11eb_b2dc_1e008a3ea458row7_col9\" class=\"data row7 col9\" >-0.102148</td>\n",
       "                        <td id=\"T_8b5c2658_a82c_11eb_b2dc_1e008a3ea458row7_col10\" class=\"data row7 col10\" >0.018459</td>\n",
       "                        <td id=\"T_8b5c2658_a82c_11eb_b2dc_1e008a3ea458row7_col11\" class=\"data row7 col11\" >0.205151</td>\n",
       "                        <td id=\"T_8b5c2658_a82c_11eb_b2dc_1e008a3ea458row7_col12\" class=\"data row7 col12\" >0.009233</td>\n",
       "                        <td id=\"T_8b5c2658_a82c_11eb_b2dc_1e008a3ea458row7_col13\" class=\"data row7 col13\" >0.092786</td>\n",
       "                        <td id=\"T_8b5c2658_a82c_11eb_b2dc_1e008a3ea458row7_col14\" class=\"data row7 col14\" >0.006141</td>\n",
       "                        <td id=\"T_8b5c2658_a82c_11eb_b2dc_1e008a3ea458row7_col15\" class=\"data row7 col15\" >0.035496</td>\n",
       "                        <td id=\"T_8b5c2658_a82c_11eb_b2dc_1e008a3ea458row7_col16\" class=\"data row7 col16\" >-0.052844</td>\n",
       "                        <td id=\"T_8b5c2658_a82c_11eb_b2dc_1e008a3ea458row7_col17\" class=\"data row7 col17\" >0.068259</td>\n",
       "            </tr>\n",
       "            <tr>\n",
       "                        <th id=\"T_8b5c2658_a82c_11eb_b2dc_1e008a3ea458level0_row8\" class=\"row_heading level0 row8\" >Intl_Plan</th>\n",
       "                        <td id=\"T_8b5c2658_a82c_11eb_b2dc_1e008a3ea458row8_col0\" class=\"data row8 col0\" >0.024735</td>\n",
       "                        <td id=\"T_8b5c2658_a82c_11eb_b2dc_1e008a3ea458row8_col1\" class=\"data row8 col1\" >0.008745</td>\n",
       "                        <td id=\"T_8b5c2658_a82c_11eb_b2dc_1e008a3ea458row8_col2\" class=\"data row8 col2\" >0.049396</td>\n",
       "                        <td id=\"T_8b5c2658_a82c_11eb_b2dc_1e008a3ea458row8_col3\" class=\"data row8 col3\" >0.019100</td>\n",
       "                        <td id=\"T_8b5c2658_a82c_11eb_b2dc_1e008a3ea458row8_col4\" class=\"data row8 col4\" >-0.028905</td>\n",
       "                        <td id=\"T_8b5c2658_a82c_11eb_b2dc_1e008a3ea458row8_col5\" class=\"data row8 col5\" >0.045871</td>\n",
       "                        <td id=\"T_8b5c2658_a82c_11eb_b2dc_1e008a3ea458row8_col6\" class=\"data row8 col6\" >-0.024522</td>\n",
       "                        <td id=\"T_8b5c2658_a82c_11eb_b2dc_1e008a3ea458row8_col7\" class=\"data row8 col7\" >0.259852</td>\n",
       "                        <td id=\"T_8b5c2658_a82c_11eb_b2dc_1e008a3ea458row8_col8\" class=\"data row8 col8\" >1.000000</td>\n",
       "                        <td id=\"T_8b5c2658_a82c_11eb_b2dc_1e008a3ea458row8_col9\" class=\"data row8 col9\" >0.006006</td>\n",
       "                        <td id=\"T_8b5c2658_a82c_11eb_b2dc_1e008a3ea458row8_col10\" class=\"data row8 col10\" >0.003755</td>\n",
       "                        <td id=\"T_8b5c2658_a82c_11eb_b2dc_1e008a3ea458row8_col11\" class=\"data row8 col11\" >0.049398</td>\n",
       "                        <td id=\"T_8b5c2658_a82c_11eb_b2dc_1e008a3ea458row8_col12\" class=\"data row8 col12\" >0.006114</td>\n",
       "                        <td id=\"T_8b5c2658_a82c_11eb_b2dc_1e008a3ea458row8_col13\" class=\"data row8 col13\" >0.019106</td>\n",
       "                        <td id=\"T_8b5c2658_a82c_11eb_b2dc_1e008a3ea458row8_col14\" class=\"data row8 col14\" >0.012451</td>\n",
       "                        <td id=\"T_8b5c2658_a82c_11eb_b2dc_1e008a3ea458row8_col15\" class=\"data row8 col15\" >-0.028913</td>\n",
       "                        <td id=\"T_8b5c2658_a82c_11eb_b2dc_1e008a3ea458row8_col16\" class=\"data row8 col16\" >0.017366</td>\n",
       "                        <td id=\"T_8b5c2658_a82c_11eb_b2dc_1e008a3ea458row8_col17\" class=\"data row8 col17\" >0.045780</td>\n",
       "            </tr>\n",
       "            <tr>\n",
       "                        <th id=\"T_8b5c2658_a82c_11eb_b2dc_1e008a3ea458level0_row9\" class=\"row_heading level0 row9\" >Vmail_Plan</th>\n",
       "                        <td id=\"T_8b5c2658_a82c_11eb_b2dc_1e008a3ea458row9_col0\" class=\"data row9 col0\" >0.002918</td>\n",
       "                        <td id=\"T_8b5c2658_a82c_11eb_b2dc_1e008a3ea458row9_col1\" class=\"data row9 col1\" >0.956927</td>\n",
       "                        <td id=\"T_8b5c2658_a82c_11eb_b2dc_1e008a3ea458row9_col2\" class=\"data row9 col2\" >-0.001684</td>\n",
       "                        <td id=\"T_8b5c2658_a82c_11eb_b2dc_1e008a3ea458row9_col3\" class=\"data row9 col3\" >0.021545</td>\n",
       "                        <td id=\"T_8b5c2658_a82c_11eb_b2dc_1e008a3ea458row9_col4\" class=\"data row9 col4\" >0.006079</td>\n",
       "                        <td id=\"T_8b5c2658_a82c_11eb_b2dc_1e008a3ea458row9_col5\" class=\"data row9 col5\" >-0.001318</td>\n",
       "                        <td id=\"T_8b5c2658_a82c_11eb_b2dc_1e008a3ea458row9_col6\" class=\"data row9 col6\" >-0.017824</td>\n",
       "                        <td id=\"T_8b5c2658_a82c_11eb_b2dc_1e008a3ea458row9_col7\" class=\"data row9 col7\" >-0.102148</td>\n",
       "                        <td id=\"T_8b5c2658_a82c_11eb_b2dc_1e008a3ea458row9_col8\" class=\"data row9 col8\" >0.006006</td>\n",
       "                        <td id=\"T_8b5c2658_a82c_11eb_b2dc_1e008a3ea458row9_col9\" class=\"data row9 col9\" >1.000000</td>\n",
       "                        <td id=\"T_8b5c2658_a82c_11eb_b2dc_1e008a3ea458row9_col10\" class=\"data row9 col10\" >-0.011086</td>\n",
       "                        <td id=\"T_8b5c2658_a82c_11eb_b2dc_1e008a3ea458row9_col11\" class=\"data row9 col11\" >-0.001686</td>\n",
       "                        <td id=\"T_8b5c2658_a82c_11eb_b2dc_1e008a3ea458row9_col12\" class=\"data row9 col12\" >-0.006444</td>\n",
       "                        <td id=\"T_8b5c2658_a82c_11eb_b2dc_1e008a3ea458row9_col13\" class=\"data row9 col13\" >0.021559</td>\n",
       "                        <td id=\"T_8b5c2658_a82c_11eb_b2dc_1e008a3ea458row9_col14\" class=\"data row9 col14\" >0.015553</td>\n",
       "                        <td id=\"T_8b5c2658_a82c_11eb_b2dc_1e008a3ea458row9_col15\" class=\"data row9 col15\" >0.006064</td>\n",
       "                        <td id=\"T_8b5c2658_a82c_11eb_b2dc_1e008a3ea458row9_col16\" class=\"data row9 col16\" >0.007618</td>\n",
       "                        <td id=\"T_8b5c2658_a82c_11eb_b2dc_1e008a3ea458row9_col17\" class=\"data row9 col17\" >-0.001276</td>\n",
       "            </tr>\n",
       "            <tr>\n",
       "                        <th id=\"T_8b5c2658_a82c_11eb_b2dc_1e008a3ea458level0_row10\" class=\"row_heading level0 row10\" >Day_Calls</th>\n",
       "                        <td id=\"T_8b5c2658_a82c_11eb_b2dc_1e008a3ea458row10_col0\" class=\"data row10 col0\" >0.038470</td>\n",
       "                        <td id=\"T_8b5c2658_a82c_11eb_b2dc_1e008a3ea458row10_col1\" class=\"data row10 col1\" >-0.009548</td>\n",
       "                        <td id=\"T_8b5c2658_a82c_11eb_b2dc_1e008a3ea458row10_col2\" class=\"data row10 col2\" >0.006750</td>\n",
       "                        <td id=\"T_8b5c2658_a82c_11eb_b2dc_1e008a3ea458row10_col3\" class=\"data row10 col3\" >-0.021451</td>\n",
       "                        <td id=\"T_8b5c2658_a82c_11eb_b2dc_1e008a3ea458row10_col4\" class=\"data row10 col4\" >0.022938</td>\n",
       "                        <td id=\"T_8b5c2658_a82c_11eb_b2dc_1e008a3ea458row10_col5\" class=\"data row10 col5\" >0.021565</td>\n",
       "                        <td id=\"T_8b5c2658_a82c_11eb_b2dc_1e008a3ea458row10_col6\" class=\"data row10 col6\" >-0.018942</td>\n",
       "                        <td id=\"T_8b5c2658_a82c_11eb_b2dc_1e008a3ea458row10_col7\" class=\"data row10 col7\" >0.018459</td>\n",
       "                        <td id=\"T_8b5c2658_a82c_11eb_b2dc_1e008a3ea458row10_col8\" class=\"data row10 col8\" >0.003755</td>\n",
       "                        <td id=\"T_8b5c2658_a82c_11eb_b2dc_1e008a3ea458row10_col9\" class=\"data row10 col9\" >-0.011086</td>\n",
       "                        <td id=\"T_8b5c2658_a82c_11eb_b2dc_1e008a3ea458row10_col10\" class=\"data row10 col10\" >1.000000</td>\n",
       "                        <td id=\"T_8b5c2658_a82c_11eb_b2dc_1e008a3ea458row10_col11\" class=\"data row10 col11\" >0.006753</td>\n",
       "                        <td id=\"T_8b5c2658_a82c_11eb_b2dc_1e008a3ea458row10_col12\" class=\"data row10 col12\" >0.006462</td>\n",
       "                        <td id=\"T_8b5c2658_a82c_11eb_b2dc_1e008a3ea458row10_col13\" class=\"data row10 col13\" >-0.021449</td>\n",
       "                        <td id=\"T_8b5c2658_a82c_11eb_b2dc_1e008a3ea458row10_col14\" class=\"data row10 col14\" >-0.019557</td>\n",
       "                        <td id=\"T_8b5c2658_a82c_11eb_b2dc_1e008a3ea458row10_col15\" class=\"data row10 col15\" >0.022927</td>\n",
       "                        <td id=\"T_8b5c2658_a82c_11eb_b2dc_1e008a3ea458row10_col16\" class=\"data row10 col16\" >0.004574</td>\n",
       "                        <td id=\"T_8b5c2658_a82c_11eb_b2dc_1e008a3ea458row10_col17\" class=\"data row10 col17\" >0.021666</td>\n",
       "            </tr>\n",
       "            <tr>\n",
       "                        <th id=\"T_8b5c2658_a82c_11eb_b2dc_1e008a3ea458level0_row11\" class=\"row_heading level0 row11\" >Day_Charge</th>\n",
       "                        <td id=\"T_8b5c2658_a82c_11eb_b2dc_1e008a3ea458row11_col0\" class=\"data row11 col0\" >0.006214</td>\n",
       "                        <td id=\"T_8b5c2658_a82c_11eb_b2dc_1e008a3ea458row11_col1\" class=\"data row11 col1\" >0.000776</td>\n",
       "                        <td id=\"T_8b5c2658_a82c_11eb_b2dc_1e008a3ea458row11_col2\" class=\"data row11 col2\" >1.000000</td>\n",
       "                        <td id=\"T_8b5c2658_a82c_11eb_b2dc_1e008a3ea458row11_col3\" class=\"data row11 col3\" >0.007050</td>\n",
       "                        <td id=\"T_8b5c2658_a82c_11eb_b2dc_1e008a3ea458row11_col4\" class=\"data row11 col4\" >0.004324</td>\n",
       "                        <td id=\"T_8b5c2658_a82c_11eb_b2dc_1e008a3ea458row11_col5\" class=\"data row11 col5\" >-0.010157</td>\n",
       "                        <td id=\"T_8b5c2658_a82c_11eb_b2dc_1e008a3ea458row11_col6\" class=\"data row11 col6\" >-0.013427</td>\n",
       "                        <td id=\"T_8b5c2658_a82c_11eb_b2dc_1e008a3ea458row11_col7\" class=\"data row11 col7\" >0.205151</td>\n",
       "                        <td id=\"T_8b5c2658_a82c_11eb_b2dc_1e008a3ea458row11_col8\" class=\"data row11 col8\" >0.049398</td>\n",
       "                        <td id=\"T_8b5c2658_a82c_11eb_b2dc_1e008a3ea458row11_col9\" class=\"data row11 col9\" >-0.001686</td>\n",
       "                        <td id=\"T_8b5c2658_a82c_11eb_b2dc_1e008a3ea458row11_col10\" class=\"data row11 col10\" >0.006753</td>\n",
       "                        <td id=\"T_8b5c2658_a82c_11eb_b2dc_1e008a3ea458row11_col11\" class=\"data row11 col11\" >1.000000</td>\n",
       "                        <td id=\"T_8b5c2658_a82c_11eb_b2dc_1e008a3ea458row11_col12\" class=\"data row11 col12\" >0.015769</td>\n",
       "                        <td id=\"T_8b5c2658_a82c_11eb_b2dc_1e008a3ea458row11_col13\" class=\"data row11 col13\" >0.007036</td>\n",
       "                        <td id=\"T_8b5c2658_a82c_11eb_b2dc_1e008a3ea458row11_col14\" class=\"data row11 col14\" >0.022972</td>\n",
       "                        <td id=\"T_8b5c2658_a82c_11eb_b2dc_1e008a3ea458row11_col15\" class=\"data row11 col15\" >0.004301</td>\n",
       "                        <td id=\"T_8b5c2658_a82c_11eb_b2dc_1e008a3ea458row11_col16\" class=\"data row11 col16\" >0.008032</td>\n",
       "                        <td id=\"T_8b5c2658_a82c_11eb_b2dc_1e008a3ea458row11_col17\" class=\"data row11 col17\" >-0.010094</td>\n",
       "            </tr>\n",
       "            <tr>\n",
       "                        <th id=\"T_8b5c2658_a82c_11eb_b2dc_1e008a3ea458level0_row12\" class=\"row_heading level0 row12\" >Eve_Calls</th>\n",
       "                        <td id=\"T_8b5c2658_a82c_11eb_b2dc_1e008a3ea458row12_col0\" class=\"data row12 col0\" >0.019260</td>\n",
       "                        <td id=\"T_8b5c2658_a82c_11eb_b2dc_1e008a3ea458row12_col1\" class=\"data row12 col1\" >-0.005864</td>\n",
       "                        <td id=\"T_8b5c2658_a82c_11eb_b2dc_1e008a3ea458row12_col2\" class=\"data row12 col2\" >0.015769</td>\n",
       "                        <td id=\"T_8b5c2658_a82c_11eb_b2dc_1e008a3ea458row12_col3\" class=\"data row12 col3\" >-0.011430</td>\n",
       "                        <td id=\"T_8b5c2658_a82c_11eb_b2dc_1e008a3ea458row12_col4\" class=\"data row12 col4\" >-0.002093</td>\n",
       "                        <td id=\"T_8b5c2658_a82c_11eb_b2dc_1e008a3ea458row12_col5\" class=\"data row12 col5\" >0.008703</td>\n",
       "                        <td id=\"T_8b5c2658_a82c_11eb_b2dc_1e008a3ea458row12_col6\" class=\"data row12 col6\" >0.002423</td>\n",
       "                        <td id=\"T_8b5c2658_a82c_11eb_b2dc_1e008a3ea458row12_col7\" class=\"data row12 col7\" >0.009233</td>\n",
       "                        <td id=\"T_8b5c2658_a82c_11eb_b2dc_1e008a3ea458row12_col8\" class=\"data row12 col8\" >0.006114</td>\n",
       "                        <td id=\"T_8b5c2658_a82c_11eb_b2dc_1e008a3ea458row12_col9\" class=\"data row12 col9\" >-0.006444</td>\n",
       "                        <td id=\"T_8b5c2658_a82c_11eb_b2dc_1e008a3ea458row12_col10\" class=\"data row12 col10\" >0.006462</td>\n",
       "                        <td id=\"T_8b5c2658_a82c_11eb_b2dc_1e008a3ea458row12_col11\" class=\"data row12 col11\" >0.015769</td>\n",
       "                        <td id=\"T_8b5c2658_a82c_11eb_b2dc_1e008a3ea458row12_col12\" class=\"data row12 col12\" >1.000000</td>\n",
       "                        <td id=\"T_8b5c2658_a82c_11eb_b2dc_1e008a3ea458row12_col13\" class=\"data row12 col13\" >-0.011423</td>\n",
       "                        <td id=\"T_8b5c2658_a82c_11eb_b2dc_1e008a3ea458row12_col14\" class=\"data row12 col14\" >0.007710</td>\n",
       "                        <td id=\"T_8b5c2658_a82c_11eb_b2dc_1e008a3ea458row12_col15\" class=\"data row12 col15\" >-0.002056</td>\n",
       "                        <td id=\"T_8b5c2658_a82c_11eb_b2dc_1e008a3ea458row12_col16\" class=\"data row12 col16\" >0.017434</td>\n",
       "                        <td id=\"T_8b5c2658_a82c_11eb_b2dc_1e008a3ea458row12_col17\" class=\"data row12 col17\" >0.008674</td>\n",
       "            </tr>\n",
       "            <tr>\n",
       "                        <th id=\"T_8b5c2658_a82c_11eb_b2dc_1e008a3ea458level0_row13\" class=\"row_heading level0 row13\" >Eve_Charge</th>\n",
       "                        <td id=\"T_8b5c2658_a82c_11eb_b2dc_1e008a3ea458row13_col0\" class=\"data row13 col0\" >-0.006745</td>\n",
       "                        <td id=\"T_8b5c2658_a82c_11eb_b2dc_1e008a3ea458row13_col1\" class=\"data row13 col1\" >0.017578</td>\n",
       "                        <td id=\"T_8b5c2658_a82c_11eb_b2dc_1e008a3ea458row13_col2\" class=\"data row13 col2\" >0.007029</td>\n",
       "                        <td id=\"T_8b5c2658_a82c_11eb_b2dc_1e008a3ea458row13_col3\" class=\"data row13 col3\" >1.000000</td>\n",
       "                        <td id=\"T_8b5c2658_a82c_11eb_b2dc_1e008a3ea458row13_col4\" class=\"data row13 col4\" >-0.012592</td>\n",
       "                        <td id=\"T_8b5c2658_a82c_11eb_b2dc_1e008a3ea458row13_col5\" class=\"data row13 col5\" >-0.011043</td>\n",
       "                        <td id=\"T_8b5c2658_a82c_11eb_b2dc_1e008a3ea458row13_col6\" class=\"data row13 col6\" >-0.012987</td>\n",
       "                        <td id=\"T_8b5c2658_a82c_11eb_b2dc_1e008a3ea458row13_col7\" class=\"data row13 col7\" >0.092786</td>\n",
       "                        <td id=\"T_8b5c2658_a82c_11eb_b2dc_1e008a3ea458row13_col8\" class=\"data row13 col8\" >0.019106</td>\n",
       "                        <td id=\"T_8b5c2658_a82c_11eb_b2dc_1e008a3ea458row13_col9\" class=\"data row13 col9\" >0.021559</td>\n",
       "                        <td id=\"T_8b5c2658_a82c_11eb_b2dc_1e008a3ea458row13_col10\" class=\"data row13 col10\" >-0.021449</td>\n",
       "                        <td id=\"T_8b5c2658_a82c_11eb_b2dc_1e008a3ea458row13_col11\" class=\"data row13 col11\" >0.007036</td>\n",
       "                        <td id=\"T_8b5c2658_a82c_11eb_b2dc_1e008a3ea458row13_col12\" class=\"data row13 col12\" >-0.011423</td>\n",
       "                        <td id=\"T_8b5c2658_a82c_11eb_b2dc_1e008a3ea458row13_col13\" class=\"data row13 col13\" >1.000000</td>\n",
       "                        <td id=\"T_8b5c2658_a82c_11eb_b2dc_1e008a3ea458row13_col14\" class=\"data row13 col14\" >0.007596</td>\n",
       "                        <td id=\"T_8b5c2658_a82c_11eb_b2dc_1e008a3ea458row13_col15\" class=\"data row13 col15\" >-0.012601</td>\n",
       "                        <td id=\"T_8b5c2658_a82c_11eb_b2dc_1e008a3ea458row13_col16\" class=\"data row13 col16\" >0.002541</td>\n",
       "                        <td id=\"T_8b5c2658_a82c_11eb_b2dc_1e008a3ea458row13_col17\" class=\"data row13 col17\" >-0.011074</td>\n",
       "            </tr>\n",
       "            <tr>\n",
       "                        <th id=\"T_8b5c2658_a82c_11eb_b2dc_1e008a3ea458level0_row14\" class=\"row_heading level0 row14\" >Night_Calls</th>\n",
       "                        <td id=\"T_8b5c2658_a82c_11eb_b2dc_1e008a3ea458row14_col0\" class=\"data row14 col0\" >-0.013176</td>\n",
       "                        <td id=\"T_8b5c2658_a82c_11eb_b2dc_1e008a3ea458row14_col1\" class=\"data row14 col1\" >0.007123</td>\n",
       "                        <td id=\"T_8b5c2658_a82c_11eb_b2dc_1e008a3ea458row14_col2\" class=\"data row14 col2\" >0.022972</td>\n",
       "                        <td id=\"T_8b5c2658_a82c_11eb_b2dc_1e008a3ea458row14_col3\" class=\"data row14 col3\" >0.007586</td>\n",
       "                        <td id=\"T_8b5c2658_a82c_11eb_b2dc_1e008a3ea458row14_col4\" class=\"data row14 col4\" >0.011204</td>\n",
       "                        <td id=\"T_8b5c2658_a82c_11eb_b2dc_1e008a3ea458row14_col5\" class=\"data row14 col5\" >-0.013605</td>\n",
       "                        <td id=\"T_8b5c2658_a82c_11eb_b2dc_1e008a3ea458row14_col6\" class=\"data row14 col6\" >-0.012802</td>\n",
       "                        <td id=\"T_8b5c2658_a82c_11eb_b2dc_1e008a3ea458row14_col7\" class=\"data row14 col7\" >0.006141</td>\n",
       "                        <td id=\"T_8b5c2658_a82c_11eb_b2dc_1e008a3ea458row14_col8\" class=\"data row14 col8\" >0.012451</td>\n",
       "                        <td id=\"T_8b5c2658_a82c_11eb_b2dc_1e008a3ea458row14_col9\" class=\"data row14 col9\" >0.015553</td>\n",
       "                        <td id=\"T_8b5c2658_a82c_11eb_b2dc_1e008a3ea458row14_col10\" class=\"data row14 col10\" >-0.019557</td>\n",
       "                        <td id=\"T_8b5c2658_a82c_11eb_b2dc_1e008a3ea458row14_col11\" class=\"data row14 col11\" >0.022972</td>\n",
       "                        <td id=\"T_8b5c2658_a82c_11eb_b2dc_1e008a3ea458row14_col12\" class=\"data row14 col12\" >0.007710</td>\n",
       "                        <td id=\"T_8b5c2658_a82c_11eb_b2dc_1e008a3ea458row14_col13\" class=\"data row14 col13\" >0.007596</td>\n",
       "                        <td id=\"T_8b5c2658_a82c_11eb_b2dc_1e008a3ea458row14_col14\" class=\"data row14 col14\" >1.000000</td>\n",
       "                        <td id=\"T_8b5c2658_a82c_11eb_b2dc_1e008a3ea458row14_col15\" class=\"data row14 col15\" >0.011188</td>\n",
       "                        <td id=\"T_8b5c2658_a82c_11eb_b2dc_1e008a3ea458row14_col16\" class=\"data row14 col16\" >0.000305</td>\n",
       "                        <td id=\"T_8b5c2658_a82c_11eb_b2dc_1e008a3ea458row14_col17\" class=\"data row14 col17\" >-0.013630</td>\n",
       "            </tr>\n",
       "            <tr>\n",
       "                        <th id=\"T_8b5c2658_a82c_11eb_b2dc_1e008a3ea458level0_row15\" class=\"row_heading level0 row15\" >Night_Charge</th>\n",
       "                        <td id=\"T_8b5c2658_a82c_11eb_b2dc_1e008a3ea458row15_col0\" class=\"data row15 col0\" >-0.008960</td>\n",
       "                        <td id=\"T_8b5c2658_a82c_11eb_b2dc_1e008a3ea458row15_col1\" class=\"data row15 col1\" >0.007663</td>\n",
       "                        <td id=\"T_8b5c2658_a82c_11eb_b2dc_1e008a3ea458row15_col2\" class=\"data row15 col2\" >0.004300</td>\n",
       "                        <td id=\"T_8b5c2658_a82c_11eb_b2dc_1e008a3ea458row15_col3\" class=\"data row15 col3\" >-0.012593</td>\n",
       "                        <td id=\"T_8b5c2658_a82c_11eb_b2dc_1e008a3ea458row15_col4\" class=\"data row15 col4\" >0.999999</td>\n",
       "                        <td id=\"T_8b5c2658_a82c_11eb_b2dc_1e008a3ea458row15_col5\" class=\"data row15 col5\" >-0.015214</td>\n",
       "                        <td id=\"T_8b5c2658_a82c_11eb_b2dc_1e008a3ea458row15_col6\" class=\"data row15 col6\" >-0.009277</td>\n",
       "                        <td id=\"T_8b5c2658_a82c_11eb_b2dc_1e008a3ea458row15_col7\" class=\"data row15 col7\" >0.035496</td>\n",
       "                        <td id=\"T_8b5c2658_a82c_11eb_b2dc_1e008a3ea458row15_col8\" class=\"data row15 col8\" >-0.028913</td>\n",
       "                        <td id=\"T_8b5c2658_a82c_11eb_b2dc_1e008a3ea458row15_col9\" class=\"data row15 col9\" >0.006064</td>\n",
       "                        <td id=\"T_8b5c2658_a82c_11eb_b2dc_1e008a3ea458row15_col10\" class=\"data row15 col10\" >0.022927</td>\n",
       "                        <td id=\"T_8b5c2658_a82c_11eb_b2dc_1e008a3ea458row15_col11\" class=\"data row15 col11\" >0.004301</td>\n",
       "                        <td id=\"T_8b5c2658_a82c_11eb_b2dc_1e008a3ea458row15_col12\" class=\"data row15 col12\" >-0.002056</td>\n",
       "                        <td id=\"T_8b5c2658_a82c_11eb_b2dc_1e008a3ea458row15_col13\" class=\"data row15 col13\" >-0.012601</td>\n",
       "                        <td id=\"T_8b5c2658_a82c_11eb_b2dc_1e008a3ea458row15_col14\" class=\"data row15 col14\" >0.011188</td>\n",
       "                        <td id=\"T_8b5c2658_a82c_11eb_b2dc_1e008a3ea458row15_col15\" class=\"data row15 col15\" >1.000000</td>\n",
       "                        <td id=\"T_8b5c2658_a82c_11eb_b2dc_1e008a3ea458row15_col16\" class=\"data row15 col16\" >-0.012329</td>\n",
       "                        <td id=\"T_8b5c2658_a82c_11eb_b2dc_1e008a3ea458row15_col17\" class=\"data row15 col17\" >-0.015186</td>\n",
       "            </tr>\n",
       "            <tr>\n",
       "                        <th id=\"T_8b5c2658_a82c_11eb_b2dc_1e008a3ea458level0_row16\" class=\"row_heading level0 row16\" >Intl_Calls</th>\n",
       "                        <td id=\"T_8b5c2658_a82c_11eb_b2dc_1e008a3ea458row16_col0\" class=\"data row16 col0\" >0.020661</td>\n",
       "                        <td id=\"T_8b5c2658_a82c_11eb_b2dc_1e008a3ea458row16_col1\" class=\"data row16 col1\" >0.013957</td>\n",
       "                        <td id=\"T_8b5c2658_a82c_11eb_b2dc_1e008a3ea458row16_col2\" class=\"data row16 col2\" >0.008033</td>\n",
       "                        <td id=\"T_8b5c2658_a82c_11eb_b2dc_1e008a3ea458row16_col3\" class=\"data row16 col3\" >0.002541</td>\n",
       "                        <td id=\"T_8b5c2658_a82c_11eb_b2dc_1e008a3ea458row16_col4\" class=\"data row16 col4\" >-0.012353</td>\n",
       "                        <td id=\"T_8b5c2658_a82c_11eb_b2dc_1e008a3ea458row16_col5\" class=\"data row16 col5\" >0.032304</td>\n",
       "                        <td id=\"T_8b5c2658_a82c_11eb_b2dc_1e008a3ea458row16_col6\" class=\"data row16 col6\" >-0.017561</td>\n",
       "                        <td id=\"T_8b5c2658_a82c_11eb_b2dc_1e008a3ea458row16_col7\" class=\"data row16 col7\" >-0.052844</td>\n",
       "                        <td id=\"T_8b5c2658_a82c_11eb_b2dc_1e008a3ea458row16_col8\" class=\"data row16 col8\" >0.017366</td>\n",
       "                        <td id=\"T_8b5c2658_a82c_11eb_b2dc_1e008a3ea458row16_col9\" class=\"data row16 col9\" >0.007618</td>\n",
       "                        <td id=\"T_8b5c2658_a82c_11eb_b2dc_1e008a3ea458row16_col10\" class=\"data row16 col10\" >0.004574</td>\n",
       "                        <td id=\"T_8b5c2658_a82c_11eb_b2dc_1e008a3ea458row16_col11\" class=\"data row16 col11\" >0.008032</td>\n",
       "                        <td id=\"T_8b5c2658_a82c_11eb_b2dc_1e008a3ea458row16_col12\" class=\"data row16 col12\" >0.017434</td>\n",
       "                        <td id=\"T_8b5c2658_a82c_11eb_b2dc_1e008a3ea458row16_col13\" class=\"data row16 col13\" >0.002541</td>\n",
       "                        <td id=\"T_8b5c2658_a82c_11eb_b2dc_1e008a3ea458row16_col14\" class=\"data row16 col14\" >0.000305</td>\n",
       "                        <td id=\"T_8b5c2658_a82c_11eb_b2dc_1e008a3ea458row16_col15\" class=\"data row16 col15\" >-0.012329</td>\n",
       "                        <td id=\"T_8b5c2658_a82c_11eb_b2dc_1e008a3ea458row16_col16\" class=\"data row16 col16\" >1.000000</td>\n",
       "                        <td id=\"T_8b5c2658_a82c_11eb_b2dc_1e008a3ea458row16_col17\" class=\"data row16 col17\" >0.032372</td>\n",
       "            </tr>\n",
       "            <tr>\n",
       "                        <th id=\"T_8b5c2658_a82c_11eb_b2dc_1e008a3ea458level0_row17\" class=\"row_heading level0 row17\" >Intl_Charge</th>\n",
       "                        <td id=\"T_8b5c2658_a82c_11eb_b2dc_1e008a3ea458row17_col0\" class=\"data row17 col0\" >0.009546</td>\n",
       "                        <td id=\"T_8b5c2658_a82c_11eb_b2dc_1e008a3ea458row17_col1\" class=\"data row17 col1\" >0.002884</td>\n",
       "                        <td id=\"T_8b5c2658_a82c_11eb_b2dc_1e008a3ea458row17_col2\" class=\"data row17 col2\" >-0.010092</td>\n",
       "                        <td id=\"T_8b5c2658_a82c_11eb_b2dc_1e008a3ea458row17_col3\" class=\"data row17 col3\" >-0.011067</td>\n",
       "                        <td id=\"T_8b5c2658_a82c_11eb_b2dc_1e008a3ea458row17_col4\" class=\"data row17 col4\" >-0.015180</td>\n",
       "                        <td id=\"T_8b5c2658_a82c_11eb_b2dc_1e008a3ea458row17_col5\" class=\"data row17 col5\" >0.999993</td>\n",
       "                        <td id=\"T_8b5c2658_a82c_11eb_b2dc_1e008a3ea458row17_col6\" class=\"data row17 col6\" >-0.009675</td>\n",
       "                        <td id=\"T_8b5c2658_a82c_11eb_b2dc_1e008a3ea458row17_col7\" class=\"data row17 col7\" >0.068259</td>\n",
       "                        <td id=\"T_8b5c2658_a82c_11eb_b2dc_1e008a3ea458row17_col8\" class=\"data row17 col8\" >0.045780</td>\n",
       "                        <td id=\"T_8b5c2658_a82c_11eb_b2dc_1e008a3ea458row17_col9\" class=\"data row17 col9\" >-0.001276</td>\n",
       "                        <td id=\"T_8b5c2658_a82c_11eb_b2dc_1e008a3ea458row17_col10\" class=\"data row17 col10\" >0.021666</td>\n",
       "                        <td id=\"T_8b5c2658_a82c_11eb_b2dc_1e008a3ea458row17_col11\" class=\"data row17 col11\" >-0.010094</td>\n",
       "                        <td id=\"T_8b5c2658_a82c_11eb_b2dc_1e008a3ea458row17_col12\" class=\"data row17 col12\" >0.008674</td>\n",
       "                        <td id=\"T_8b5c2658_a82c_11eb_b2dc_1e008a3ea458row17_col13\" class=\"data row17 col13\" >-0.011074</td>\n",
       "                        <td id=\"T_8b5c2658_a82c_11eb_b2dc_1e008a3ea458row17_col14\" class=\"data row17 col14\" >-0.013630</td>\n",
       "                        <td id=\"T_8b5c2658_a82c_11eb_b2dc_1e008a3ea458row17_col15\" class=\"data row17 col15\" >-0.015186</td>\n",
       "                        <td id=\"T_8b5c2658_a82c_11eb_b2dc_1e008a3ea458row17_col16\" class=\"data row17 col16\" >0.032372</td>\n",
       "                        <td id=\"T_8b5c2658_a82c_11eb_b2dc_1e008a3ea458row17_col17\" class=\"data row17 col17\" >1.000000</td>\n",
       "            </tr>\n",
       "    </tbody></table>"
      ],
      "text/plain": [
       "<pandas.io.formats.style.Styler at 0x7fcfc8443cd0>"
      ]
     },
     "execution_count": 32,
     "metadata": {},
     "output_type": "execute_result"
    }
   ],
   "source": [
    "corr_matrix=telco.corr()\n",
    "corr_matrix.style.background_gradient()"
   ]
  },
  {
   "cell_type": "markdown",
   "metadata": {},
   "source": [
    "## Feature Engineering - create new features to help improve model performance "
   ]
  },
  {
   "cell_type": "code",
   "execution_count": 33,
   "metadata": {},
   "outputs": [],
   "source": [
    "# Create the new feature\n",
    "#telco['Avg_Night_Calls'] = telco['Night_Mins'] / telco['Night_Calls']\n",
    "\n",
    "# Print the first five rows of 'Avg_Night_Calls'\n",
    "#print(telco['Avg_Night_Calls'].head())"
   ]
  },
  {
   "cell_type": "code",
   "execution_count": 34,
   "metadata": {},
   "outputs": [
    {
     "data": {
      "text/plain": [
       "Index(['Account_Length', 'Vmail_Message', 'Day_Mins', 'Eve_Mins', 'Night_Mins',\n",
       "       'Intl_Mins', 'CustServ_Calls', 'Churn', 'Intl_Plan', 'Vmail_Plan',\n",
       "       'Day_Calls', 'Day_Charge', 'Eve_Calls', 'Eve_Charge', 'Night_Calls',\n",
       "       'Night_Charge', 'Intl_Calls', 'Intl_Charge'],\n",
       "      dtype='object')"
      ]
     },
     "execution_count": 34,
     "metadata": {},
     "output_type": "execute_result"
    }
   ],
   "source": [
    "telco.columns"
   ]
  },
  {
   "cell_type": "code",
   "execution_count": 35,
   "metadata": {},
   "outputs": [
    {
     "data": {
      "text/html": [
       "<div>\n",
       "<style scoped>\n",
       "    .dataframe tbody tr th:only-of-type {\n",
       "        vertical-align: middle;\n",
       "    }\n",
       "\n",
       "    .dataframe tbody tr th {\n",
       "        vertical-align: top;\n",
       "    }\n",
       "\n",
       "    .dataframe thead th {\n",
       "        text-align: right;\n",
       "    }\n",
       "</style>\n",
       "<table border=\"1\" class=\"dataframe\">\n",
       "  <thead>\n",
       "    <tr style=\"text-align: right;\">\n",
       "      <th></th>\n",
       "      <th>Account_Length</th>\n",
       "      <th>Vmail_Message</th>\n",
       "      <th>Day_Mins</th>\n",
       "      <th>Eve_Mins</th>\n",
       "      <th>Night_Mins</th>\n",
       "      <th>Intl_Mins</th>\n",
       "      <th>CustServ_Calls</th>\n",
       "      <th>Churn</th>\n",
       "      <th>Intl_Plan</th>\n",
       "      <th>Vmail_Plan</th>\n",
       "      <th>Day_Calls</th>\n",
       "      <th>Day_Charge</th>\n",
       "      <th>Eve_Calls</th>\n",
       "      <th>Eve_Charge</th>\n",
       "      <th>Night_Calls</th>\n",
       "      <th>Night_Charge</th>\n",
       "      <th>Intl_Calls</th>\n",
       "      <th>Intl_Charge</th>\n",
       "    </tr>\n",
       "  </thead>\n",
       "  <tbody>\n",
       "    <tr>\n",
       "      <th>count</th>\n",
       "      <td>3333.000000</td>\n",
       "      <td>3333.000000</td>\n",
       "      <td>3333.000000</td>\n",
       "      <td>3333.000000</td>\n",
       "      <td>3333.000000</td>\n",
       "      <td>3333.000000</td>\n",
       "      <td>3333.000000</td>\n",
       "      <td>3333.000000</td>\n",
       "      <td>3333.000000</td>\n",
       "      <td>3333.000000</td>\n",
       "      <td>3333.000000</td>\n",
       "      <td>3333.000000</td>\n",
       "      <td>3333.000000</td>\n",
       "      <td>3333.000000</td>\n",
       "      <td>3333.000000</td>\n",
       "      <td>3333.000000</td>\n",
       "      <td>3333.000000</td>\n",
       "      <td>3333.000000</td>\n",
       "    </tr>\n",
       "    <tr>\n",
       "      <th>mean</th>\n",
       "      <td>101.064806</td>\n",
       "      <td>8.099010</td>\n",
       "      <td>179.775098</td>\n",
       "      <td>200.980348</td>\n",
       "      <td>200.872037</td>\n",
       "      <td>10.237294</td>\n",
       "      <td>1.562856</td>\n",
       "      <td>0.144914</td>\n",
       "      <td>0.096910</td>\n",
       "      <td>0.276628</td>\n",
       "      <td>100.435644</td>\n",
       "      <td>30.562307</td>\n",
       "      <td>100.114311</td>\n",
       "      <td>17.083540</td>\n",
       "      <td>100.107711</td>\n",
       "      <td>9.039325</td>\n",
       "      <td>4.479448</td>\n",
       "      <td>2.764581</td>\n",
       "    </tr>\n",
       "    <tr>\n",
       "      <th>std</th>\n",
       "      <td>39.822106</td>\n",
       "      <td>13.688365</td>\n",
       "      <td>54.467389</td>\n",
       "      <td>50.713844</td>\n",
       "      <td>50.573847</td>\n",
       "      <td>2.791840</td>\n",
       "      <td>1.315491</td>\n",
       "      <td>0.352067</td>\n",
       "      <td>0.295879</td>\n",
       "      <td>0.447398</td>\n",
       "      <td>20.069084</td>\n",
       "      <td>9.259435</td>\n",
       "      <td>19.922625</td>\n",
       "      <td>4.310668</td>\n",
       "      <td>19.568609</td>\n",
       "      <td>2.275873</td>\n",
       "      <td>2.461214</td>\n",
       "      <td>0.753773</td>\n",
       "    </tr>\n",
       "    <tr>\n",
       "      <th>min</th>\n",
       "      <td>1.000000</td>\n",
       "      <td>0.000000</td>\n",
       "      <td>0.000000</td>\n",
       "      <td>0.000000</td>\n",
       "      <td>23.200000</td>\n",
       "      <td>0.000000</td>\n",
       "      <td>0.000000</td>\n",
       "      <td>0.000000</td>\n",
       "      <td>0.000000</td>\n",
       "      <td>0.000000</td>\n",
       "      <td>0.000000</td>\n",
       "      <td>0.000000</td>\n",
       "      <td>0.000000</td>\n",
       "      <td>0.000000</td>\n",
       "      <td>33.000000</td>\n",
       "      <td>1.040000</td>\n",
       "      <td>0.000000</td>\n",
       "      <td>0.000000</td>\n",
       "    </tr>\n",
       "    <tr>\n",
       "      <th>25%</th>\n",
       "      <td>74.000000</td>\n",
       "      <td>0.000000</td>\n",
       "      <td>143.700000</td>\n",
       "      <td>166.600000</td>\n",
       "      <td>167.000000</td>\n",
       "      <td>8.500000</td>\n",
       "      <td>1.000000</td>\n",
       "      <td>0.000000</td>\n",
       "      <td>0.000000</td>\n",
       "      <td>0.000000</td>\n",
       "      <td>87.000000</td>\n",
       "      <td>24.430000</td>\n",
       "      <td>87.000000</td>\n",
       "      <td>14.160000</td>\n",
       "      <td>87.000000</td>\n",
       "      <td>7.520000</td>\n",
       "      <td>3.000000</td>\n",
       "      <td>2.300000</td>\n",
       "    </tr>\n",
       "    <tr>\n",
       "      <th>50%</th>\n",
       "      <td>101.000000</td>\n",
       "      <td>0.000000</td>\n",
       "      <td>179.400000</td>\n",
       "      <td>201.400000</td>\n",
       "      <td>201.200000</td>\n",
       "      <td>10.300000</td>\n",
       "      <td>1.000000</td>\n",
       "      <td>0.000000</td>\n",
       "      <td>0.000000</td>\n",
       "      <td>0.000000</td>\n",
       "      <td>101.000000</td>\n",
       "      <td>30.500000</td>\n",
       "      <td>100.000000</td>\n",
       "      <td>17.120000</td>\n",
       "      <td>100.000000</td>\n",
       "      <td>9.050000</td>\n",
       "      <td>4.000000</td>\n",
       "      <td>2.780000</td>\n",
       "    </tr>\n",
       "    <tr>\n",
       "      <th>75%</th>\n",
       "      <td>127.000000</td>\n",
       "      <td>20.000000</td>\n",
       "      <td>216.400000</td>\n",
       "      <td>235.300000</td>\n",
       "      <td>235.300000</td>\n",
       "      <td>12.100000</td>\n",
       "      <td>2.000000</td>\n",
       "      <td>0.000000</td>\n",
       "      <td>0.000000</td>\n",
       "      <td>1.000000</td>\n",
       "      <td>114.000000</td>\n",
       "      <td>36.790000</td>\n",
       "      <td>114.000000</td>\n",
       "      <td>20.000000</td>\n",
       "      <td>113.000000</td>\n",
       "      <td>10.590000</td>\n",
       "      <td>6.000000</td>\n",
       "      <td>3.270000</td>\n",
       "    </tr>\n",
       "    <tr>\n",
       "      <th>max</th>\n",
       "      <td>243.000000</td>\n",
       "      <td>51.000000</td>\n",
       "      <td>350.800000</td>\n",
       "      <td>363.700000</td>\n",
       "      <td>395.000000</td>\n",
       "      <td>20.000000</td>\n",
       "      <td>9.000000</td>\n",
       "      <td>1.000000</td>\n",
       "      <td>1.000000</td>\n",
       "      <td>1.000000</td>\n",
       "      <td>165.000000</td>\n",
       "      <td>59.640000</td>\n",
       "      <td>170.000000</td>\n",
       "      <td>30.910000</td>\n",
       "      <td>175.000000</td>\n",
       "      <td>17.770000</td>\n",
       "      <td>20.000000</td>\n",
       "      <td>5.400000</td>\n",
       "    </tr>\n",
       "  </tbody>\n",
       "</table>\n",
       "</div>"
      ],
      "text/plain": [
       "       Account_Length  Vmail_Message     Day_Mins     Eve_Mins   Night_Mins  \\\n",
       "count     3333.000000    3333.000000  3333.000000  3333.000000  3333.000000   \n",
       "mean       101.064806       8.099010   179.775098   200.980348   200.872037   \n",
       "std         39.822106      13.688365    54.467389    50.713844    50.573847   \n",
       "min          1.000000       0.000000     0.000000     0.000000    23.200000   \n",
       "25%         74.000000       0.000000   143.700000   166.600000   167.000000   \n",
       "50%        101.000000       0.000000   179.400000   201.400000   201.200000   \n",
       "75%        127.000000      20.000000   216.400000   235.300000   235.300000   \n",
       "max        243.000000      51.000000   350.800000   363.700000   395.000000   \n",
       "\n",
       "         Intl_Mins  CustServ_Calls        Churn    Intl_Plan   Vmail_Plan  \\\n",
       "count  3333.000000     3333.000000  3333.000000  3333.000000  3333.000000   \n",
       "mean     10.237294        1.562856     0.144914     0.096910     0.276628   \n",
       "std       2.791840        1.315491     0.352067     0.295879     0.447398   \n",
       "min       0.000000        0.000000     0.000000     0.000000     0.000000   \n",
       "25%       8.500000        1.000000     0.000000     0.000000     0.000000   \n",
       "50%      10.300000        1.000000     0.000000     0.000000     0.000000   \n",
       "75%      12.100000        2.000000     0.000000     0.000000     1.000000   \n",
       "max      20.000000        9.000000     1.000000     1.000000     1.000000   \n",
       "\n",
       "         Day_Calls   Day_Charge    Eve_Calls   Eve_Charge  Night_Calls  \\\n",
       "count  3333.000000  3333.000000  3333.000000  3333.000000  3333.000000   \n",
       "mean    100.435644    30.562307   100.114311    17.083540   100.107711   \n",
       "std      20.069084     9.259435    19.922625     4.310668    19.568609   \n",
       "min       0.000000     0.000000     0.000000     0.000000    33.000000   \n",
       "25%      87.000000    24.430000    87.000000    14.160000    87.000000   \n",
       "50%     101.000000    30.500000   100.000000    17.120000   100.000000   \n",
       "75%     114.000000    36.790000   114.000000    20.000000   113.000000   \n",
       "max     165.000000    59.640000   170.000000    30.910000   175.000000   \n",
       "\n",
       "       Night_Charge   Intl_Calls  Intl_Charge  \n",
       "count   3333.000000  3333.000000  3333.000000  \n",
       "mean       9.039325     4.479448     2.764581  \n",
       "std        2.275873     2.461214     0.753773  \n",
       "min        1.040000     0.000000     0.000000  \n",
       "25%        7.520000     3.000000     2.300000  \n",
       "50%        9.050000     4.000000     2.780000  \n",
       "75%       10.590000     6.000000     3.270000  \n",
       "max       17.770000    20.000000     5.400000  "
      ]
     },
     "execution_count": 35,
     "metadata": {},
     "output_type": "execute_result"
    }
   ],
   "source": [
    "telco.describe()"
   ]
  },
  {
   "cell_type": "markdown",
   "metadata": {},
   "source": [
    "# Supervised Machine Learning"
   ]
  },
  {
   "cell_type": "code",
   "execution_count": 36,
   "metadata": {},
   "outputs": [],
   "source": [
    "## For classification problem\n",
    "## Logistic Regression is a good baseline to start, they are simple\n",
    "## Then Random Forests and SVM"
   ]
  },
  {
   "cell_type": "code",
   "execution_count": 37,
   "metadata": {},
   "outputs": [],
   "source": [
    "features = ['Account_Length', 'Vmail_Message', 'Day_Mins', 'Eve_Mins', 'Night_Mins','Intl_Mins', \n",
    "            'CustServ_Calls', 'Intl_Plan', 'Vmail_Plan','Day_Calls', 'Day_Charge', 'Eve_Calls', \n",
    "            'Eve_Charge', 'Night_Calls','Night_Charge', 'Intl_Calls', 'Intl_Charge']"
   ]
  },
  {
   "cell_type": "code",
   "execution_count": 38,
   "metadata": {
    "scrolled": true
   },
   "outputs": [
    {
     "name": "stdout",
     "output_type": "stream",
     "text": [
      "<class 'pandas.core.frame.DataFrame'>\n",
      "RangeIndex: 3333 entries, 0 to 3332\n",
      "Data columns (total 17 columns):\n",
      " #   Column          Non-Null Count  Dtype  \n",
      "---  ------          --------------  -----  \n",
      " 0   Account_Length  3333 non-null   int64  \n",
      " 1   Vmail_Message   3333 non-null   int64  \n",
      " 2   Day_Mins        3333 non-null   float64\n",
      " 3   Eve_Mins        3333 non-null   float64\n",
      " 4   Night_Mins      3333 non-null   float64\n",
      " 5   Intl_Mins       3333 non-null   float64\n",
      " 6   CustServ_Calls  3333 non-null   int64  \n",
      " 7   Intl_Plan       3333 non-null   int64  \n",
      " 8   Vmail_Plan      3333 non-null   int64  \n",
      " 9   Day_Calls       3333 non-null   int64  \n",
      " 10  Day_Charge      3333 non-null   float64\n",
      " 11  Eve_Calls       3333 non-null   int64  \n",
      " 12  Eve_Charge      3333 non-null   float64\n",
      " 13  Night_Calls     3333 non-null   int64  \n",
      " 14  Night_Charge    3333 non-null   float64\n",
      " 15  Intl_Calls      3333 non-null   int64  \n",
      " 16  Intl_Charge     3333 non-null   float64\n",
      "dtypes: float64(8), int64(9)\n",
      "memory usage: 442.8 KB\n"
     ]
    }
   ],
   "source": [
    "telco[features].info()"
   ]
  },
  {
   "cell_type": "code",
   "execution_count": 39,
   "metadata": {},
   "outputs": [
    {
     "name": "stderr",
     "output_type": "stream",
     "text": [
      "/Users/vraj/opt/anaconda3/lib/python3.8/site-packages/sklearn/linear_model/_logistic.py:762: ConvergenceWarning: lbfgs failed to converge (status=1):\n",
      "STOP: TOTAL NO. of ITERATIONS REACHED LIMIT.\n",
      "\n",
      "Increase the number of iterations (max_iter) or scale the data as shown in:\n",
      "    https://scikit-learn.org/stable/modules/preprocessing.html\n",
      "Please also refer to the documentation for alternative solver options:\n",
      "    https://scikit-learn.org/stable/modules/linear_model.html#logistic-regression\n",
      "  n_iter_i = _check_optimize_result(\n"
     ]
    },
    {
     "data": {
      "text/plain": [
       "LogisticRegression()"
      ]
     },
     "execution_count": 39,
     "metadata": {},
     "output_type": "execute_result"
    }
   ],
   "source": [
    "# Import LogisticRegression\n",
    "from sklearn.linear_model import LogisticRegression\n",
    "\n",
    "# Instantiate the classifier\n",
    "lr = LogisticRegression()\n",
    "\n",
    "# Fit the classifier\n",
    "lr.fit(telco[features], telco['Churn'])"
   ]
  },
  {
   "cell_type": "code",
   "execution_count": 40,
   "metadata": {},
   "outputs": [
    {
     "data": {
      "text/plain": [
       "DecisionTreeClassifier()"
      ]
     },
     "execution_count": 40,
     "metadata": {},
     "output_type": "execute_result"
    }
   ],
   "source": [
    "# Import DecisionTreeClassifier\n",
    "from sklearn.tree import DecisionTreeClassifier\n",
    "\n",
    "# Instantiate the classifier\n",
    "dt = DecisionTreeClassifier()\n",
    "\n",
    "# Fit the classifier\n",
    "dt.fit(telco[features],telco['Churn'])"
   ]
  },
  {
   "cell_type": "code",
   "execution_count": 41,
   "metadata": {},
   "outputs": [],
   "source": [
    "# Import train_test_split\n",
    "from sklearn.model_selection import train_test_split\n",
    "\n",
    "# Create feature variable\n",
    "X = telco.drop('Churn', axis=1)\n",
    "\n",
    "# Create target variable\n",
    "y = telco['Churn']\n",
    "\n",
    "# Create training and testing sets\n",
    "X_train, X_test, y_train, y_test = train_test_split(X, y, test_size=0.3, random_state = 1)"
   ]
  },
  {
   "cell_type": "code",
   "execution_count": 42,
   "metadata": {},
   "outputs": [
    {
     "name": "stdout",
     "output_type": "stream",
     "text": [
      "0.948\n"
     ]
    }
   ],
   "source": [
    "from sklearn.ensemble import RandomForestClassifier\n",
    "\n",
    "\n",
    "# Instantiate the classifier\n",
    "rf = RandomForestClassifier()\n",
    "\n",
    "# Fit to the training data\n",
    "rf.fit(X_train,y_train)\n",
    "\n",
    "# Compute accuracy\n",
    "print(rf.score(X_test, y_test))"
   ]
  },
  {
   "cell_type": "code",
   "execution_count": 43,
   "metadata": {},
   "outputs": [
    {
     "name": "stdout",
     "output_type": "stream",
     "text": [
      "<class 'pandas.core.frame.DataFrame'>\n",
      "Int64Index: 2333 entries, 1642 to 1061\n",
      "Data columns (total 17 columns):\n",
      " #   Column          Non-Null Count  Dtype  \n",
      "---  ------          --------------  -----  \n",
      " 0   Account_Length  2333 non-null   int64  \n",
      " 1   Vmail_Message   2333 non-null   int64  \n",
      " 2   Day_Mins        2333 non-null   float64\n",
      " 3   Eve_Mins        2333 non-null   float64\n",
      " 4   Night_Mins      2333 non-null   float64\n",
      " 5   Intl_Mins       2333 non-null   float64\n",
      " 6   CustServ_Calls  2333 non-null   int64  \n",
      " 7   Intl_Plan       2333 non-null   int64  \n",
      " 8   Vmail_Plan      2333 non-null   int64  \n",
      " 9   Day_Calls       2333 non-null   int64  \n",
      " 10  Day_Charge      2333 non-null   float64\n",
      " 11  Eve_Calls       2333 non-null   int64  \n",
      " 12  Eve_Charge      2333 non-null   float64\n",
      " 13  Night_Calls     2333 non-null   int64  \n",
      " 14  Night_Charge    2333 non-null   float64\n",
      " 15  Intl_Calls      2333 non-null   int64  \n",
      " 16  Intl_Charge     2333 non-null   float64\n",
      "dtypes: float64(8), int64(9)\n",
      "memory usage: 328.1 KB\n"
     ]
    }
   ],
   "source": [
    "X_train.info()"
   ]
  },
  {
   "cell_type": "markdown",
   "metadata": {},
   "source": [
    "## Model Metrics"
   ]
  },
  {
   "cell_type": "code",
   "execution_count": 44,
   "metadata": {},
   "outputs": [
    {
     "data": {
      "text/plain": [
       "0    2850\n",
       "1     483\n",
       "Name: Churn, dtype: int64"
      ]
     },
     "execution_count": 44,
     "metadata": {},
     "output_type": "execute_result"
    }
   ],
   "source": [
    "### Imbalanced classes: more data points belong to one class than the other\n",
    "telco['Churn'].value_counts()\n",
    "\n",
    "# non churners 6 times more, this can impact perofrmance as your model could always predict the majority class"
   ]
  },
  {
   "cell_type": "markdown",
   "metadata": {},
   "source": [
    "### Therefore accuracy is not much of a helpful metric\n",
    "\n",
    "### Confusion Matrix\n",
    "\n",
    "### Precision = tp/(tp+fp)\n",
    "#### correctly classified churners divided by the total no. of customers identified as hurners\n",
    "### A model with high precision means there \n",
    "###    1) are few false positives \n",
    "###    2) not many non churners were classified as churners\n",
    "\n",
    "### Recall = = tp/(tp+fn)\n",
    "#### correctly classified churners divided by the total no. of customers identified as hurners\n",
    "### A model with high recall means is correctly classified most churners\n",
    "\n",
    "## Which metric - precision or recall - you optimise depends on your business case\n",
    "### - If the offers you make to keep potential churners is high in relation to the value of losing customers you want your model to have high precision (or minimize false positvies)\n",
    "\n",
    "### - Conversely, if losing customers you didnt think would churn is more expensive than an offer to keep a customer that would not have churned then you want a high recall (or minimize false negatives)"
   ]
  },
  {
   "cell_type": "code",
   "execution_count": 45,
   "metadata": {},
   "outputs": [],
   "source": [
    "# Evaluating Model Performance"
   ]
  },
  {
   "cell_type": "code",
   "execution_count": 46,
   "metadata": {},
   "outputs": [
    {
     "data": {
      "text/plain": [
       "array([[845,  10],\n",
       "       [ 42, 103]])"
      ]
     },
     "execution_count": 46,
     "metadata": {},
     "output_type": "execute_result"
    }
   ],
   "source": [
    "# Import confusion_matrix\n",
    "from sklearn.metrics import confusion_matrix\n",
    "\n",
    "y_pred = rf.predict(X_test)\n",
    "\n",
    "confusion_matrix(y_test, y_pred)"
   ]
  },
  {
   "cell_type": "code",
   "execution_count": 47,
   "metadata": {},
   "outputs": [],
   "source": [
    "# Lets check for 80-20 split now\n",
    "X = telco.drop('Churn', axis=1)\n",
    "\n",
    "# Create target variable\n",
    "y = telco['Churn']\n",
    "\n",
    "# Create training and testing sets\n",
    "X_train, X_test, y_train, y_test = train_test_split(X, y, test_size=0.2)"
   ]
  },
  {
   "cell_type": "code",
   "execution_count": 48,
   "metadata": {},
   "outputs": [
    {
     "name": "stdout",
     "output_type": "stream",
     "text": [
      "[[557   5]\n",
      " [ 27  78]]\n"
     ]
    }
   ],
   "source": [
    "# Instantiate the classifier\n",
    "rf80 = RandomForestClassifier()\n",
    "\n",
    "# Fit to the training data\n",
    "rf80.fit(X_train, y_train)\n",
    "\n",
    "# Predict the labels of the test set\n",
    "y_pred = rf80.predict(X_test)\n",
    "\n",
    "# Import confusion_matrix\n",
    "from sklearn.metrics import confusion_matrix\n",
    "\n",
    "# Print confusion matrix\n",
    "print(confusion_matrix(y_test, y_pred))"
   ]
  },
  {
   "cell_type": "code",
   "execution_count": 49,
   "metadata": {},
   "outputs": [
    {
     "name": "stdout",
     "output_type": "stream",
     "text": [
      "0.7428571428571429\n",
      "0.9397590361445783\n"
     ]
    }
   ],
   "source": [
    "# Import recall_score\n",
    "from sklearn.metrics import precision_score\n",
    "from sklearn.metrics import recall_score\n",
    "# Print the recall\n",
    "#print(precision_score(y_test, y_pred))\n",
    "print(recall_score(y_test, y_pred))\n",
    "print(precision_score(y_test, y_pred))"
   ]
  },
  {
   "cell_type": "code",
   "execution_count": 50,
   "metadata": {},
   "outputs": [
    {
     "data": {
      "text/plain": [
       "RandomForestClassifier()"
      ]
     },
     "execution_count": 50,
     "metadata": {},
     "output_type": "execute_result"
    }
   ],
   "source": [
    "# Create training and testing sets\n",
    "X_train, X_test, y_train, y_test = train_test_split(X, y, test_size=0.1)\n",
    "\n",
    "# Instantiate the classifier\n",
    "rf90 = RandomForestClassifier()\n",
    "\n",
    "# Fit to the training data\n",
    "rf90.fit(X_train, y_train)"
   ]
  },
  {
   "cell_type": "markdown",
   "metadata": {},
   "source": [
    "## ROC Curve"
   ]
  },
  {
   "cell_type": "code",
   "execution_count": 51,
   "metadata": {},
   "outputs": [],
   "source": [
    "# Generate the probabilities\n",
    "# USE RF WITH 70-30 SPLIT\n",
    "y_pred_prob = rf.predict_proba(X_test)[:, 1]"
   ]
  },
  {
   "cell_type": "code",
   "execution_count": 52,
   "metadata": {},
   "outputs": [
    {
     "data": {
      "image/png": "[encoded data removed]",
      "text/plain": [
       "<Figure size 432x288 with 1 Axes>"
      ]
     },
     "metadata": {
      "needs_background": "light"
     },
     "output_type": "display_data"
    }
   ],
   "source": [
    "# Import roc_curve\n",
    "from sklearn.metrics import roc_curve\n",
    "\n",
    "# Calculate the roc metrics\n",
    "fpr, tpr, thresholds = roc_curve(y_test, y_pred_prob)\n",
    "\n",
    "# Plot the ROC curve\n",
    "plt.plot(fpr,tpr)\n",
    "\n",
    "# Add labels and diagonal line\n",
    "plt.xlabel(\"False Positive Rate\")\n",
    "plt.ylabel(\"True Positive Rate\")\n",
    "plt.plot([0, 1], [0, 1], \"k--\")\n",
    "plt.show()"
   ]
  },
  {
   "cell_type": "code",
   "execution_count": 53,
   "metadata": {},
   "outputs": [
    {
     "name": "stdout",
     "output_type": "stream",
     "text": [
      "0.9890913450011988\n"
     ]
    }
   ],
   "source": [
    "# Import roc_auc_score\n",
    "from sklearn.metrics import roc_auc_score\n",
    "\n",
    "# Print the AUC\n",
    "print(roc_auc_score(y_test,y_pred_prob))"
   ]
  },
  {
   "cell_type": "code",
   "execution_count": 54,
   "metadata": {},
   "outputs": [
    {
     "name": "stdout",
     "output_type": "stream",
     "text": [
      "0.9890913450011988\n"
     ]
    }
   ],
   "source": [
    "# Import roc_auc_score\n",
    "from sklearn.metrics import roc_auc_score\n",
    "\n",
    "# Print the AUC\n",
    "print(roc_auc_score(y_test,y_pred_prob))"
   ]
  },
  {
   "cell_type": "markdown",
   "metadata": {},
   "source": [
    "### As you've discovered, there's a tradeoff between precision and recall. Both are important metrics, and depending on how the business is trying to model churn, you may want to focus on optimizing one over the other. Often, stakeholders are interested in a single metric that can quantify model performance. The AUC is one metric you can use in these cases, and another is the F1 score, which is calculated as below:"
   ]
  },
  {
   "cell_type": "markdown",
   "metadata": {},
   "source": [
    "### The advantage of the F1 score is it incorporates both precision and recall into a single metric, and a high F1 score is a sign of a well-performing model, even in situations where you might have imbalanced classes."
   ]
  },
  {
   "cell_type": "code",
   "execution_count": 56,
   "metadata": {},
   "outputs": [],
   "source": [
    "from sklearn.metrics import f1_score\n",
    "\n",
    "# Print the F1 score\n",
    "#print(f1_score(y_test, y_pred))"
   ]
  },
  {
   "cell_type": "markdown",
   "metadata": {},
   "source": [
    "# Tuning your model"
   ]
  },
  {
   "cell_type": "markdown",
   "metadata": {},
   "source": [
    "## Hyperparameter tuning using grid search\n",
    "## Scikit's grid search methoed uses cross validation to repeaatedly check the model with unseen data"
   ]
  },
  {
   "cell_type": "code",
   "execution_count": 57,
   "metadata": {},
   "outputs": [
    {
     "name": "stdout",
     "output_type": "stream",
     "text": [
      "{'max_features': 'log2'}\n"
     ]
    }
   ],
   "source": [
    "# Import GridSearchCV\n",
    "from sklearn.model_selection import GridSearchCV\n",
    "\n",
    "# Create the hyperparameter grid\n",
    "param_grid = {'max_features': ['auto', 'sqrt', 'log2']}\n",
    "\n",
    "# Call GridSearchCV\n",
    "grid_search = GridSearchCV(rf90, param_grid)\n",
    "\n",
    "# Fit the model\n",
    "grid_search.fit(X, y)\n",
    "\n",
    "# Print the optimal parameters\n",
    "print(grid_search.best_params_)"
   ]
  },
  {
   "cell_type": "code",
   "execution_count": 58,
   "metadata": {},
   "outputs": [
    {
     "data": {
      "text/plain": [
       "GridSearchCV(estimator=RandomForestClassifier(),\n",
       "             param_grid={'bootstrap': [True, False],\n",
       "                         'criterion': ['gini', 'entropy'],\n",
       "                         'max_depth': [3, None], 'max_features': [1, 3, 10]})"
      ]
     },
     "execution_count": 58,
     "metadata": {},
     "output_type": "execute_result"
    }
   ],
   "source": [
    "# Create the hyperparameter grid\n",
    "param_grid = {\"max_depth\": [3, None],\n",
    "              \"max_features\": [1, 3, 10],\n",
    "              \"bootstrap\": [True, False],\n",
    "              \"criterion\": [\"gini\", \"entropy\"]}\n",
    "\n",
    "# Call GridSearchCV\n",
    "grid_search = GridSearchCV(rf90, param_grid)\n",
    "\n",
    "# Fit the model\n",
    "grid_search.fit(X,y)"
   ]
  },
  {
   "cell_type": "code",
   "execution_count": 59,
   "metadata": {},
   "outputs": [
    {
     "name": "stdout",
     "output_type": "stream",
     "text": [
      "{'bootstrap': True, 'criterion': 'entropy', 'max_depth': None, 'max_features': 10}\n"
     ]
    }
   ],
   "source": [
    "# Print the optimal parameters\n",
    "print(grid_search.best_params_)"
   ]
  },
  {
   "cell_type": "code",
   "execution_count": 60,
   "metadata": {},
   "outputs": [
    {
     "name": "stdout",
     "output_type": "stream",
     "text": [
      "{'max_features': 6, 'max_depth': None, 'criterion': 'gini', 'bootstrap': False}\n"
     ]
    }
   ],
   "source": [
    "# Import RandomizedSearchCV\n",
    "from sklearn.model_selection import RandomizedSearchCV\n",
    "import random\n",
    "# Create the hyperparameter grid\n",
    "param_dist = {\"max_depth\": [3, None],\n",
    "              \"max_features\": [1,2,3,4,5,6,7,8,9,10],\n",
    "              \"bootstrap\": [True, False],\n",
    "              \"criterion\": [\"gini\", \"entropy\"]}\n",
    "\n",
    "# Call RandomizedSearchCV\n",
    "random_search = RandomizedSearchCV(rf90, param_dist)\n",
    "\n",
    "# Fit the model\n",
    "random_search.fit(X,y)\n",
    "\n",
    "# Print best parameters\n",
    "print(random_search.best_params_)\n",
    "#random_search.best_score_"
   ]
  },
  {
   "cell_type": "markdown",
   "metadata": {},
   "source": [
    "# Feature importances"
   ]
  },
  {
   "cell_type": "code",
   "execution_count": 61,
   "metadata": {
    "scrolled": true
   },
   "outputs": [
    {
     "data": {
      "image/png": "[encoded data removed]",
      "text/plain": [
       "<Figure size 432x288 with 1 Axes>"
      ]
     },
     "metadata": {
      "needs_background": "light"
     },
     "output_type": "display_data"
    }
   ],
   "source": [
    "# Calculate feature importances\n",
    "importances = rf90.feature_importances_\n",
    "\n",
    "# Create plot\n",
    "plt.barh(range(X.shape[1]), importances)\n",
    "plt.show()"
   ]
  },
  {
   "cell_type": "code",
   "execution_count": 62,
   "metadata": {},
   "outputs": [],
   "source": [
    "#Improving the plot"
   ]
  },
  {
   "cell_type": "code",
   "execution_count": 63,
   "metadata": {},
   "outputs": [
    {
     "data": {
      "image/png": "[encoded data removed]",
      "text/plain": [
       "<Figure size 432x288 with 1 Axes>"
      ]
     },
     "metadata": {
      "needs_background": "light"
     },
     "output_type": "display_data"
    }
   ],
   "source": [
    "import numpy as np\n",
    "# Sort importances\n",
    "sorted_index = np.argsort(importances)\n",
    "\n",
    "# Create labels\n",
    "labels = X.columns[sorted_index]\n",
    "\n",
    "# Clear current plot\n",
    "plt.clf()\n",
    "\n",
    "# Create plot\n",
    "plt.barh(range(X.shape[1]), importances[sorted_index], tick_label=labels)\n",
    "plt.show()"
   ]
  },
  {
   "cell_type": "markdown",
   "metadata": {},
   "source": [
    "## Adding new features\n",
    "\n",
    "### Incorporating new features may increase performence, hence better ROI. If the performance is improved vastly, you may want to spend more to capture these necessary new features. Check comparision of old model with new model having new features added using the ROC curve"
   ]
  },
  {
   "cell_type": "markdown",
   "metadata": {},
   "source": [
    "6 new features have been added to the telco DataFrame:\n",
    "\n",
    "Region_Code\n",
    "Cost_Call\n",
    "Total_Charge\n",
    "Total_Minutes\n",
    "Total_Calls\n",
    "Min_Call\n",
    "\n",
    "# *(NEED TO FIND THESE COLUMNS IN SOME ONLINE DATASET AND CHECK IF RESULTS IMPROVE)*"
   ]
  },
  {
   "cell_type": "markdown",
   "metadata": {},
   "source": [
    "# Import necessary modules\n",
    "from sklearn.model_selection import train_test_split\n",
    "from sklearn.ensemble import RandomForestClassifier\n",
    "\n",
    "\n",
    "X_train, X_test, y_train, y_test = train_test_split(X, y, test_size=0.3)"
   ]
  },
  {
   "cell_type": "markdown",
   "metadata": {},
   "source": [
    "rf_new = RandomForestClassifier()\n",
    "\n",
    "# Fit to the data\n",
    "rf_new.fit(X_train, y_train)\n",
    "\n",
    "# Print the accuracy\n",
    "print(rf_new.score(X_test, y_test))"
   ]
  },
  {
   "cell_type": "markdown",
   "metadata": {},
   "source": [
    "# Import f1_score\n",
    "from sklearn.metrics import f1_score\n",
    "\n",
    "# Instantiate the classifier\n",
    "clf = RandomForestClassifier()\n",
    "\n",
    "# Fit to the data\n",
    "clf.fit(X_train, y_train)\n",
    "\n",
    "# Predict the labels of the test set\n",
    "y_pred = clf.predict(X_test)\n",
    "\n",
    "# Print the F1 score\n",
    "print(f1_score(y_test, y_pred))"
   ]
  },
  {
   "cell_type": "code",
   "execution_count": null,
   "metadata": {},
   "outputs": [],
   "source": []
  },
  {
   "cell_type": "code",
   "execution_count": null,
   "metadata": {},
   "outputs": [],
   "source": []
  },
  {
   "cell_type": "code",
   "execution_count": null,
   "metadata": {},
   "outputs": [],
   "source": []
  },
  {
   "cell_type": "code",
   "execution_count": null,
   "metadata": {},
   "outputs": [],
   "source": []
  }
 ],
 "metadata": {
  "kernelspec": {
   "display_name": "Python 3",
   "language": "python",
   "name": "python3"
  },
  "language_info": {
   "codemirror_mode": {
    "name": "ipython",
    "version": 3
   },
   "file_extension": ".py",
   "mimetype": "text/x-python",
   "name": "python",
   "nbconvert_exporter": "python",
   "pygments_lexer": "ipython3",
   "version": "3.8.8"
  }
 },
 "nbformat": 4,
 "nbformat_minor": 4
}
